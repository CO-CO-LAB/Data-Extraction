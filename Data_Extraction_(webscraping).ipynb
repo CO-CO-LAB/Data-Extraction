{
  "nbformat": 4,
  "nbformat_minor": 0,
  "metadata": {
    "colab": {
      "provenance": [],
      "authorship_tag": "ABX9TyP0gw6+ixMkEXBNBTt+KZCF",
      "include_colab_link": true
    },
    "kernelspec": {
      "name": "python3",
      "display_name": "Python 3"
    },
    "language_info": {
      "name": "python"
    }
  },
  "cells": [
    {
      "cell_type": "markdown",
      "metadata": {
        "id": "view-in-github",
        "colab_type": "text"
      },
      "source": [
        "<a href=\"https://colab.research.google.com/github/CO-CO-LAB/Data-Extraction/blob/main/Data_Extraction_(webscraping).ipynb\" target=\"_parent\"><img src=\"https://colab.research.google.com/assets/colab-badge.svg\" alt=\"Open In Colab\"/></a>"
      ]
    },
    {
      "cell_type": "markdown",
      "source": [
        "# Data extraction and processing\n",
        "Extracting data from a website using webscraping and reqeust APIs process it using Pandas and Numpy libraries.\n",
        "\n",
        "I want to extract the list of the top 10 largest economies of the world in descending order of their GDPs in Billion USD (rounded to 2 decimal places).\n",
        "\n",
        "URL: https://web.archive.org/web/20230902185326/https://en.wikipedia.org/wiki/List_of_countries_by_GDP_%28nominal%29\n"
      ],
      "metadata": {
        "id": "0TLsNyrjcjmX"
      }
    },
    {
      "cell_type": "code",
      "execution_count": null,
      "metadata": {
        "colab": {
          "base_uri": "https://localhost:8080/"
        },
        "id": "1pQ4MFxucGNa",
        "outputId": "a1488928-da73-49df-cde2-1fe091643fe8"
      },
      "outputs": [
        {
          "output_type": "stream",
          "name": "stdout",
          "text": [
            "Requirement already satisfied: pandas in /usr/local/lib/python3.10/dist-packages (2.2.2)\n",
            "Requirement already satisfied: numpy in /usr/local/lib/python3.10/dist-packages (1.26.4)\n",
            "Requirement already satisfied: python-dateutil>=2.8.2 in /usr/local/lib/python3.10/dist-packages (from pandas) (2.8.2)\n",
            "Requirement already satisfied: pytz>=2020.1 in /usr/local/lib/python3.10/dist-packages (from pandas) (2024.2)\n",
            "Requirement already satisfied: tzdata>=2022.7 in /usr/local/lib/python3.10/dist-packages (from pandas) (2024.2)\n",
            "Requirement already satisfied: six>=1.5 in /usr/local/lib/python3.10/dist-packages (from python-dateutil>=2.8.2->pandas) (1.17.0)\n",
            "Requirement already satisfied: lxml in /usr/local/lib/python3.10/dist-packages (5.3.0)\n",
            "Collecting bs4\n",
            "  Downloading bs4-0.0.2-py2.py3-none-any.whl.metadata (411 bytes)\n",
            "Requirement already satisfied: beautifulsoup4 in /usr/local/lib/python3.10/dist-packages (from bs4) (4.12.3)\n",
            "Requirement already satisfied: soupsieve>1.2 in /usr/local/lib/python3.10/dist-packages (from beautifulsoup4->bs4) (2.6)\n",
            "Downloading bs4-0.0.2-py2.py3-none-any.whl (1.2 kB)\n",
            "Installing collected packages: bs4\n",
            "Successfully installed bs4-0.0.2\n",
            "Requirement already satisfied: requests in /usr/local/lib/python3.10/dist-packages (2.32.3)\n",
            "Requirement already satisfied: pandas in /usr/local/lib/python3.10/dist-packages (2.2.2)\n",
            "Requirement already satisfied: html5lib in /usr/local/lib/python3.10/dist-packages (1.1)\n",
            "Requirement already satisfied: charset-normalizer<4,>=2 in /usr/local/lib/python3.10/dist-packages (from requests) (3.4.0)\n",
            "Requirement already satisfied: idna<4,>=2.5 in /usr/local/lib/python3.10/dist-packages (from requests) (3.10)\n",
            "Requirement already satisfied: urllib3<3,>=1.21.1 in /usr/local/lib/python3.10/dist-packages (from requests) (2.2.3)\n",
            "Requirement already satisfied: certifi>=2017.4.17 in /usr/local/lib/python3.10/dist-packages (from requests) (2024.12.14)\n",
            "Requirement already satisfied: numpy>=1.22.4 in /usr/local/lib/python3.10/dist-packages (from pandas) (1.26.4)\n",
            "Requirement already satisfied: python-dateutil>=2.8.2 in /usr/local/lib/python3.10/dist-packages (from pandas) (2.8.2)\n",
            "Requirement already satisfied: pytz>=2020.1 in /usr/local/lib/python3.10/dist-packages (from pandas) (2024.2)\n",
            "Requirement already satisfied: tzdata>=2022.7 in /usr/local/lib/python3.10/dist-packages (from pandas) (2024.2)\n",
            "Requirement already satisfied: six>=1.9 in /usr/local/lib/python3.10/dist-packages (from html5lib) (1.17.0)\n",
            "Requirement already satisfied: webencodings in /usr/local/lib/python3.10/dist-packages (from html5lib) (0.5.1)\n"
          ]
        }
      ],
      "source": [
        "# required packages\n",
        "!pip install pandas numpy\n",
        "!pip install lxml\n",
        "!pip install bs4\n",
        "!pip install requests pandas html5lib"
      ]
    },
    {
      "cell_type": "code",
      "source": [
        "import numpy as np\n",
        "import pandas as pd\n",
        "\n",
        "# suppress warnings generated:\n",
        "def warn(*args, **kwargs):\n",
        "    pass\n",
        "import warnings\n",
        "\n",
        "warnings.warn = warn\n",
        "warnings.filterwarnings('ignore')"
      ],
      "metadata": {
        "id": "dDzUfOc1vdCU"
      },
      "execution_count": null,
      "outputs": []
    },
    {
      "cell_type": "markdown",
      "source": [
        "Extracting data from the following URL using Web Scraping.\n",
        "\n"
      ],
      "metadata": {
        "id": "c-YOaHjM6wdL"
      }
    },
    {
      "cell_type": "code",
      "source": [
        "URL=\"https://web.archive.org/web/20230902185326/https://en.wikipedia.org/wiki/List_of_countries_by_GDP_%28nominal%29\""
      ],
      "metadata": {
        "id": "gngh5Vg-6vRP"
      },
      "execution_count": null,
      "outputs": []
    },
    {
      "cell_type": "markdown",
      "source": [
        "Using Pandas library to extract the required table directly as a DataFrame. The required table is the third one on the website, as shown in the image below.\n",
        "\n",
        "<img src=\"https://cf-courses-data.s3.us.cloud-object-storage.appdomain.cloud/IBMDeveloperSkillsNetwork-PY0101EN-SkillsNetwork/images/pandas_wbs_3.png\">"
      ],
      "metadata": {
        "id": "euFz_egb5jgz"
      }
    },
    {
      "cell_type": "code",
      "source": [
        "# Extracting tables from webpage\n",
        "tables=pd.read_html(URL)\n",
        "df=tables[3]\n",
        "\n",
        "# Replacing the column headers with column numbers\n",
        "df.columns = range(df.shape[1])\n",
        "\n",
        "# Retaining columns with index 0 and 2 (country and value of GDP quoted by IMF)\n",
        "df=df[[0,2]]\n",
        "\n",
        "# Retaining the Rows with index 1 to 10\n",
        "df= df.iloc[1:11,: ]\n",
        "\n",
        "# Assigning column names as \"Country\" and \"GDP (Million USD)\"\n",
        "df.columns=[\"Country\" , \"GDP (Million USD)\"]"
      ],
      "metadata": {
        "id": "L4T22v-65KlA"
      },
      "execution_count": null,
      "outputs": []
    },
    {
      "cell_type": "markdown",
      "source": [
        "Modifying the GDP column of the DataFrame, converting the value available in Million USD to Billion USD. Use the round() method of Numpy library to round the value to 2 decimal places. Modify the header of the DataFrame to GDP (Billion USD)."
      ],
      "metadata": {
        "id": "7IGjetldBweh"
      }
    },
    {
      "cell_type": "code",
      "source": [
        "# Changing the data type of the 'GDP (Million USD)' column to int by astype()\n",
        "df['GDP (Million USD)']= df['GDP (Million USD)'].astype(int)\n",
        "\n",
        "# Converting the GDP value in Million USD to Billion USD\n",
        "df['GDP (Million USD)']= df['GDP (Million USD)']/1000\n",
        "\n",
        "# Using round() to round the value to 2 decimal places\n",
        "df['GDP (Million USD)']= np.round(df['GDP (Million USD)'],2)\n",
        "\n",
        "# Renaming the column header from 'GDP (Million USD)' to 'GDP (Billion USD)'\n",
        "df.columns = ['Country', 'GDP (Billion USD)']\n",
        "df"
      ],
      "metadata": {
        "colab": {
          "base_uri": "https://localhost:8080/",
          "height": 363
        },
        "id": "KBe5MzJ8Bvc4",
        "outputId": "e0fb2e89-065b-46e9-859c-1c6fefd35a52"
      },
      "execution_count": null,
      "outputs": [
        {
          "output_type": "execute_result",
          "data": {
            "text/plain": [
              "           Country  GDP (Billion USD)\n",
              "1    United States           26854.60\n",
              "2            China           19373.59\n",
              "3            Japan            4409.74\n",
              "4          Germany            4308.85\n",
              "5            India            3736.88\n",
              "6   United Kingdom            3158.94\n",
              "7           France            2923.49\n",
              "8            Italy            2169.74\n",
              "9           Canada            2089.67\n",
              "10          Brazil            2081.24"
            ],
            "text/html": [
              "\n",
              "  <div id=\"df-67ee2336-d7c2-4e4b-b3ae-15cb8380b819\" class=\"colab-df-container\">\n",
              "    <div>\n",
              "<style scoped>\n",
              "    .dataframe tbody tr th:only-of-type {\n",
              "        vertical-align: middle;\n",
              "    }\n",
              "\n",
              "    .dataframe tbody tr th {\n",
              "        vertical-align: top;\n",
              "    }\n",
              "\n",
              "    .dataframe thead th {\n",
              "        text-align: right;\n",
              "    }\n",
              "</style>\n",
              "<table border=\"1\" class=\"dataframe\">\n",
              "  <thead>\n",
              "    <tr style=\"text-align: right;\">\n",
              "      <th></th>\n",
              "      <th>Country</th>\n",
              "      <th>GDP (Billion USD)</th>\n",
              "    </tr>\n",
              "  </thead>\n",
              "  <tbody>\n",
              "    <tr>\n",
              "      <th>1</th>\n",
              "      <td>United States</td>\n",
              "      <td>26854.60</td>\n",
              "    </tr>\n",
              "    <tr>\n",
              "      <th>2</th>\n",
              "      <td>China</td>\n",
              "      <td>19373.59</td>\n",
              "    </tr>\n",
              "    <tr>\n",
              "      <th>3</th>\n",
              "      <td>Japan</td>\n",
              "      <td>4409.74</td>\n",
              "    </tr>\n",
              "    <tr>\n",
              "      <th>4</th>\n",
              "      <td>Germany</td>\n",
              "      <td>4308.85</td>\n",
              "    </tr>\n",
              "    <tr>\n",
              "      <th>5</th>\n",
              "      <td>India</td>\n",
              "      <td>3736.88</td>\n",
              "    </tr>\n",
              "    <tr>\n",
              "      <th>6</th>\n",
              "      <td>United Kingdom</td>\n",
              "      <td>3158.94</td>\n",
              "    </tr>\n",
              "    <tr>\n",
              "      <th>7</th>\n",
              "      <td>France</td>\n",
              "      <td>2923.49</td>\n",
              "    </tr>\n",
              "    <tr>\n",
              "      <th>8</th>\n",
              "      <td>Italy</td>\n",
              "      <td>2169.74</td>\n",
              "    </tr>\n",
              "    <tr>\n",
              "      <th>9</th>\n",
              "      <td>Canada</td>\n",
              "      <td>2089.67</td>\n",
              "    </tr>\n",
              "    <tr>\n",
              "      <th>10</th>\n",
              "      <td>Brazil</td>\n",
              "      <td>2081.24</td>\n",
              "    </tr>\n",
              "  </tbody>\n",
              "</table>\n",
              "</div>\n",
              "    <div class=\"colab-df-buttons\">\n",
              "\n",
              "  <div class=\"colab-df-container\">\n",
              "    <button class=\"colab-df-convert\" onclick=\"convertToInteractive('df-67ee2336-d7c2-4e4b-b3ae-15cb8380b819')\"\n",
              "            title=\"Convert this dataframe to an interactive table.\"\n",
              "            style=\"display:none;\">\n",
              "\n",
              "  <svg xmlns=\"http://www.w3.org/2000/svg\" height=\"24px\" viewBox=\"0 -960 960 960\">\n",
              "    <path d=\"M120-120v-720h720v720H120Zm60-500h600v-160H180v160Zm220 220h160v-160H400v160Zm0 220h160v-160H400v160ZM180-400h160v-160H180v160Zm440 0h160v-160H620v160ZM180-180h160v-160H180v160Zm440 0h160v-160H620v160Z\"/>\n",
              "  </svg>\n",
              "    </button>\n",
              "\n",
              "  <style>\n",
              "    .colab-df-container {\n",
              "      display:flex;\n",
              "      gap: 12px;\n",
              "    }\n",
              "\n",
              "    .colab-df-convert {\n",
              "      background-color: #E8F0FE;\n",
              "      border: none;\n",
              "      border-radius: 50%;\n",
              "      cursor: pointer;\n",
              "      display: none;\n",
              "      fill: #1967D2;\n",
              "      height: 32px;\n",
              "      padding: 0 0 0 0;\n",
              "      width: 32px;\n",
              "    }\n",
              "\n",
              "    .colab-df-convert:hover {\n",
              "      background-color: #E2EBFA;\n",
              "      box-shadow: 0px 1px 2px rgba(60, 64, 67, 0.3), 0px 1px 3px 1px rgba(60, 64, 67, 0.15);\n",
              "      fill: #174EA6;\n",
              "    }\n",
              "\n",
              "    .colab-df-buttons div {\n",
              "      margin-bottom: 4px;\n",
              "    }\n",
              "\n",
              "    [theme=dark] .colab-df-convert {\n",
              "      background-color: #3B4455;\n",
              "      fill: #D2E3FC;\n",
              "    }\n",
              "\n",
              "    [theme=dark] .colab-df-convert:hover {\n",
              "      background-color: #434B5C;\n",
              "      box-shadow: 0px 1px 3px 1px rgba(0, 0, 0, 0.15);\n",
              "      filter: drop-shadow(0px 1px 2px rgba(0, 0, 0, 0.3));\n",
              "      fill: #FFFFFF;\n",
              "    }\n",
              "  </style>\n",
              "\n",
              "    <script>\n",
              "      const buttonEl =\n",
              "        document.querySelector('#df-67ee2336-d7c2-4e4b-b3ae-15cb8380b819 button.colab-df-convert');\n",
              "      buttonEl.style.display =\n",
              "        google.colab.kernel.accessAllowed ? 'block' : 'none';\n",
              "\n",
              "      async function convertToInteractive(key) {\n",
              "        const element = document.querySelector('#df-67ee2336-d7c2-4e4b-b3ae-15cb8380b819');\n",
              "        const dataTable =\n",
              "          await google.colab.kernel.invokeFunction('convertToInteractive',\n",
              "                                                    [key], {});\n",
              "        if (!dataTable) return;\n",
              "\n",
              "        const docLinkHtml = 'Like what you see? Visit the ' +\n",
              "          '<a target=\"_blank\" href=https://colab.research.google.com/notebooks/data_table.ipynb>data table notebook</a>'\n",
              "          + ' to learn more about interactive tables.';\n",
              "        element.innerHTML = '';\n",
              "        dataTable['output_type'] = 'display_data';\n",
              "        await google.colab.output.renderOutput(dataTable, element);\n",
              "        const docLink = document.createElement('div');\n",
              "        docLink.innerHTML = docLinkHtml;\n",
              "        element.appendChild(docLink);\n",
              "      }\n",
              "    </script>\n",
              "  </div>\n",
              "\n",
              "\n",
              "<div id=\"df-8d40755c-862c-42d5-85bd-e75060e6c4c9\">\n",
              "  <button class=\"colab-df-quickchart\" onclick=\"quickchart('df-8d40755c-862c-42d5-85bd-e75060e6c4c9')\"\n",
              "            title=\"Suggest charts\"\n",
              "            style=\"display:none;\">\n",
              "\n",
              "<svg xmlns=\"http://www.w3.org/2000/svg\" height=\"24px\"viewBox=\"0 0 24 24\"\n",
              "     width=\"24px\">\n",
              "    <g>\n",
              "        <path d=\"M19 3H5c-1.1 0-2 .9-2 2v14c0 1.1.9 2 2 2h14c1.1 0 2-.9 2-2V5c0-1.1-.9-2-2-2zM9 17H7v-7h2v7zm4 0h-2V7h2v10zm4 0h-2v-4h2v4z\"/>\n",
              "    </g>\n",
              "</svg>\n",
              "  </button>\n",
              "\n",
              "<style>\n",
              "  .colab-df-quickchart {\n",
              "      --bg-color: #E8F0FE;\n",
              "      --fill-color: #1967D2;\n",
              "      --hover-bg-color: #E2EBFA;\n",
              "      --hover-fill-color: #174EA6;\n",
              "      --disabled-fill-color: #AAA;\n",
              "      --disabled-bg-color: #DDD;\n",
              "  }\n",
              "\n",
              "  [theme=dark] .colab-df-quickchart {\n",
              "      --bg-color: #3B4455;\n",
              "      --fill-color: #D2E3FC;\n",
              "      --hover-bg-color: #434B5C;\n",
              "      --hover-fill-color: #FFFFFF;\n",
              "      --disabled-bg-color: #3B4455;\n",
              "      --disabled-fill-color: #666;\n",
              "  }\n",
              "\n",
              "  .colab-df-quickchart {\n",
              "    background-color: var(--bg-color);\n",
              "    border: none;\n",
              "    border-radius: 50%;\n",
              "    cursor: pointer;\n",
              "    display: none;\n",
              "    fill: var(--fill-color);\n",
              "    height: 32px;\n",
              "    padding: 0;\n",
              "    width: 32px;\n",
              "  }\n",
              "\n",
              "  .colab-df-quickchart:hover {\n",
              "    background-color: var(--hover-bg-color);\n",
              "    box-shadow: 0 1px 2px rgba(60, 64, 67, 0.3), 0 1px 3px 1px rgba(60, 64, 67, 0.15);\n",
              "    fill: var(--button-hover-fill-color);\n",
              "  }\n",
              "\n",
              "  .colab-df-quickchart-complete:disabled,\n",
              "  .colab-df-quickchart-complete:disabled:hover {\n",
              "    background-color: var(--disabled-bg-color);\n",
              "    fill: var(--disabled-fill-color);\n",
              "    box-shadow: none;\n",
              "  }\n",
              "\n",
              "  .colab-df-spinner {\n",
              "    border: 2px solid var(--fill-color);\n",
              "    border-color: transparent;\n",
              "    border-bottom-color: var(--fill-color);\n",
              "    animation:\n",
              "      spin 1s steps(1) infinite;\n",
              "  }\n",
              "\n",
              "  @keyframes spin {\n",
              "    0% {\n",
              "      border-color: transparent;\n",
              "      border-bottom-color: var(--fill-color);\n",
              "      border-left-color: var(--fill-color);\n",
              "    }\n",
              "    20% {\n",
              "      border-color: transparent;\n",
              "      border-left-color: var(--fill-color);\n",
              "      border-top-color: var(--fill-color);\n",
              "    }\n",
              "    30% {\n",
              "      border-color: transparent;\n",
              "      border-left-color: var(--fill-color);\n",
              "      border-top-color: var(--fill-color);\n",
              "      border-right-color: var(--fill-color);\n",
              "    }\n",
              "    40% {\n",
              "      border-color: transparent;\n",
              "      border-right-color: var(--fill-color);\n",
              "      border-top-color: var(--fill-color);\n",
              "    }\n",
              "    60% {\n",
              "      border-color: transparent;\n",
              "      border-right-color: var(--fill-color);\n",
              "    }\n",
              "    80% {\n",
              "      border-color: transparent;\n",
              "      border-right-color: var(--fill-color);\n",
              "      border-bottom-color: var(--fill-color);\n",
              "    }\n",
              "    90% {\n",
              "      border-color: transparent;\n",
              "      border-bottom-color: var(--fill-color);\n",
              "    }\n",
              "  }\n",
              "</style>\n",
              "\n",
              "  <script>\n",
              "    async function quickchart(key) {\n",
              "      const quickchartButtonEl =\n",
              "        document.querySelector('#' + key + ' button');\n",
              "      quickchartButtonEl.disabled = true;  // To prevent multiple clicks.\n",
              "      quickchartButtonEl.classList.add('colab-df-spinner');\n",
              "      try {\n",
              "        const charts = await google.colab.kernel.invokeFunction(\n",
              "            'suggestCharts', [key], {});\n",
              "      } catch (error) {\n",
              "        console.error('Error during call to suggestCharts:', error);\n",
              "      }\n",
              "      quickchartButtonEl.classList.remove('colab-df-spinner');\n",
              "      quickchartButtonEl.classList.add('colab-df-quickchart-complete');\n",
              "    }\n",
              "    (() => {\n",
              "      let quickchartButtonEl =\n",
              "        document.querySelector('#df-8d40755c-862c-42d5-85bd-e75060e6c4c9 button');\n",
              "      quickchartButtonEl.style.display =\n",
              "        google.colab.kernel.accessAllowed ? 'block' : 'none';\n",
              "    })();\n",
              "  </script>\n",
              "</div>\n",
              "\n",
              "  <div id=\"id_b04c0d86-c7f4-4e03-84a8-0bf54a1865bc\">\n",
              "    <style>\n",
              "      .colab-df-generate {\n",
              "        background-color: #E8F0FE;\n",
              "        border: none;\n",
              "        border-radius: 50%;\n",
              "        cursor: pointer;\n",
              "        display: none;\n",
              "        fill: #1967D2;\n",
              "        height: 32px;\n",
              "        padding: 0 0 0 0;\n",
              "        width: 32px;\n",
              "      }\n",
              "\n",
              "      .colab-df-generate:hover {\n",
              "        background-color: #E2EBFA;\n",
              "        box-shadow: 0px 1px 2px rgba(60, 64, 67, 0.3), 0px 1px 3px 1px rgba(60, 64, 67, 0.15);\n",
              "        fill: #174EA6;\n",
              "      }\n",
              "\n",
              "      [theme=dark] .colab-df-generate {\n",
              "        background-color: #3B4455;\n",
              "        fill: #D2E3FC;\n",
              "      }\n",
              "\n",
              "      [theme=dark] .colab-df-generate:hover {\n",
              "        background-color: #434B5C;\n",
              "        box-shadow: 0px 1px 3px 1px rgba(0, 0, 0, 0.15);\n",
              "        filter: drop-shadow(0px 1px 2px rgba(0, 0, 0, 0.3));\n",
              "        fill: #FFFFFF;\n",
              "      }\n",
              "    </style>\n",
              "    <button class=\"colab-df-generate\" onclick=\"generateWithVariable('df')\"\n",
              "            title=\"Generate code using this dataframe.\"\n",
              "            style=\"display:none;\">\n",
              "\n",
              "  <svg xmlns=\"http://www.w3.org/2000/svg\" height=\"24px\"viewBox=\"0 0 24 24\"\n",
              "       width=\"24px\">\n",
              "    <path d=\"M7,19H8.4L18.45,9,17,7.55,7,17.6ZM5,21V16.75L18.45,3.32a2,2,0,0,1,2.83,0l1.4,1.43a1.91,1.91,0,0,1,.58,1.4,1.91,1.91,0,0,1-.58,1.4L9.25,21ZM18.45,9,17,7.55Zm-12,3A5.31,5.31,0,0,0,4.9,8.1,5.31,5.31,0,0,0,1,6.5,5.31,5.31,0,0,0,4.9,4.9,5.31,5.31,0,0,0,6.5,1,5.31,5.31,0,0,0,8.1,4.9,5.31,5.31,0,0,0,12,6.5,5.46,5.46,0,0,0,6.5,12Z\"/>\n",
              "  </svg>\n",
              "    </button>\n",
              "    <script>\n",
              "      (() => {\n",
              "      const buttonEl =\n",
              "        document.querySelector('#id_b04c0d86-c7f4-4e03-84a8-0bf54a1865bc button.colab-df-generate');\n",
              "      buttonEl.style.display =\n",
              "        google.colab.kernel.accessAllowed ? 'block' : 'none';\n",
              "\n",
              "      buttonEl.onclick = () => {\n",
              "        google.colab.notebook.generateWithVariable('df');\n",
              "      }\n",
              "      })();\n",
              "    </script>\n",
              "  </div>\n",
              "\n",
              "    </div>\n",
              "  </div>\n"
            ],
            "application/vnd.google.colaboratory.intrinsic+json": {
              "type": "dataframe",
              "variable_name": "df",
              "summary": "{\n  \"name\": \"df\",\n  \"rows\": 10,\n  \"fields\": [\n    {\n      \"column\": \"Country\",\n      \"properties\": {\n        \"dtype\": \"string\",\n        \"num_unique_values\": 10,\n        \"samples\": [\n          \"Canada\",\n          \"China\",\n          \"United Kingdom\"\n        ],\n        \"semantic_type\": \"\",\n        \"description\": \"\"\n      }\n    },\n    {\n      \"column\": \"GDP (Billion USD)\",\n      \"properties\": {\n        \"dtype\": \"number\",\n        \"std\": 8658.949760845646,\n        \"min\": 2081.24,\n        \"max\": 26854.6,\n        \"num_unique_values\": 10,\n        \"samples\": [\n          2089.67,\n          19373.59,\n          3158.94\n        ],\n        \"semantic_type\": \"\",\n        \"description\": \"\"\n      }\n    }\n  ]\n}"
            }
          },
          "metadata": {},
          "execution_count": 7
        }
      ]
    },
    {
      "cell_type": "markdown",
      "source": [
        "Loading the DataFrame to the CSV file named\n",
        "\n",
        "\"Largest_economies.csv\""
      ],
      "metadata": {
        "id": "yPjNbGgnFDAE"
      }
    },
    {
      "cell_type": "code",
      "source": [
        "df.to_csv('Largest_economies.csv', index=False)\n",
        "\n",
        "from google.colab import files\n",
        "files.download('Largest_economies.csv')"
      ],
      "metadata": {
        "colab": {
          "base_uri": "https://localhost:8080/",
          "height": 17
        },
        "id": "b84JMSfLGweC",
        "outputId": "d3642a68-6f03-4844-aec2-1d8cf680c73c"
      },
      "execution_count": null,
      "outputs": [
        {
          "output_type": "display_data",
          "data": {
            "text/plain": [
              "<IPython.core.display.Javascript object>"
            ],
            "application/javascript": [
              "\n",
              "    async function download(id, filename, size) {\n",
              "      if (!google.colab.kernel.accessAllowed) {\n",
              "        return;\n",
              "      }\n",
              "      const div = document.createElement('div');\n",
              "      const label = document.createElement('label');\n",
              "      label.textContent = `Downloading \"${filename}\": `;\n",
              "      div.appendChild(label);\n",
              "      const progress = document.createElement('progress');\n",
              "      progress.max = size;\n",
              "      div.appendChild(progress);\n",
              "      document.body.appendChild(div);\n",
              "\n",
              "      const buffers = [];\n",
              "      let downloaded = 0;\n",
              "\n",
              "      const channel = await google.colab.kernel.comms.open(id);\n",
              "      // Send a message to notify the kernel that we're ready.\n",
              "      channel.send({})\n",
              "\n",
              "      for await (const message of channel.messages) {\n",
              "        // Send a message to notify the kernel that we're ready.\n",
              "        channel.send({})\n",
              "        if (message.buffers) {\n",
              "          for (const buffer of message.buffers) {\n",
              "            buffers.push(buffer);\n",
              "            downloaded += buffer.byteLength;\n",
              "            progress.value = downloaded;\n",
              "          }\n",
              "        }\n",
              "      }\n",
              "      const blob = new Blob(buffers, {type: 'application/binary'});\n",
              "      const a = document.createElement('a');\n",
              "      a.href = window.URL.createObjectURL(blob);\n",
              "      a.download = filename;\n",
              "      div.appendChild(a);\n",
              "      a.click();\n",
              "      div.remove();\n",
              "    }\n",
              "  "
            ]
          },
          "metadata": {}
        },
        {
          "output_type": "display_data",
          "data": {
            "text/plain": [
              "<IPython.core.display.Javascript object>"
            ],
            "application/javascript": [
              "download(\"download_2886e1a3-2a81-42fa-ac31-423ae8e7330e\", \"Largest_economies.csv\", 189)"
            ]
          },
          "metadata": {}
        }
      ]
    },
    {
      "cell_type": "markdown",
      "source": [
        "# Webscraping and HTML basis\n",
        "\n"
      ],
      "metadata": {
        "id": "zzY3_fhwwdBv"
      }
    },
    {
      "cell_type": "code",
      "source": [
        "import requests\n",
        "from bs4 import BeautifulSoup\n",
        "# The URL of the webpage we want to scrape\n",
        "url = 'https://en.wikipedia.org/wiki/IBM'\n",
        "# Sending an HTTP GET request to the webpage\n",
        "response = requests.get(url)\n",
        "# Storing the HTML content\n",
        "html_content = response.text\n",
        "# Creating a BeautifulSoup object to parse the HTML\n",
        "soup = BeautifulSoup(html_content, 'html.parser')\n",
        "# Displaying a snippet of the HTML content\n",
        "print(html_content[:500])"
      ],
      "metadata": {
        "colab": {
          "base_uri": "https://localhost:8080/"
        },
        "id": "FwhcvMOjXcNu",
        "outputId": "0adbf685-8659-4c76-d485-d3cbedb19d32"
      },
      "execution_count": null,
      "outputs": [
        {
          "output_type": "stream",
          "name": "stdout",
          "text": [
            "<!DOCTYPE html>\n",
            "<html class=\"client-nojs vector-feature-language-in-header-enabled vector-feature-language-in-main-page-header-disabled vector-feature-sticky-header-disabled vector-feature-page-tools-pinned-disabled vector-feature-toc-pinned-clientpref-1 vector-feature-main-menu-pinned-disabled vector-feature-limited-width-clientpref-1 vector-feature-limited-width-content-enabled vector-feature-custom-font-size-clientpref-1 vector-feature-appearance-pinned-clientpref-1 vector-feature-night-mode-\n"
          ]
        }
      ]
    },
    {
      "cell_type": "code",
      "source": [
        "# Find all <a> tags (anchor tags) in the HTML\n",
        "links = soup.find_all('a')\n",
        "# Iterate through the list of links and print their text\n",
        "for link in links[:10]:\n",
        "    print(link.text)"
      ],
      "metadata": {
        "colab": {
          "base_uri": "https://localhost:8080/"
        },
        "id": "-judxbDWXdLH",
        "outputId": "d05b7ab9-a34b-42f1-ee5f-54ebac77dc75"
      },
      "execution_count": null,
      "outputs": [
        {
          "output_type": "stream",
          "name": "stdout",
          "text": [
            "Jump to content\n",
            "Main page\n",
            "Contents\n",
            "Current events\n",
            "Random article\n",
            "About Wikipedia\n",
            "Contact us\n",
            "Help\n",
            "Learn to edit\n",
            "Community portal\n"
          ]
        }
      ]
    },
    {
      "cell_type": "markdown",
      "source": [
        "# Access REST APIs & Request HTTP"
      ],
      "metadata": {
        "id": "fIcqZsdKa7gZ"
      }
    },
    {
      "cell_type": "code",
      "source": [
        "import os\n",
        "from PIL import Image\n",
        "from IPython.display import IFrame\n",
        "from IPython.display import display, Image as IPImage"
      ],
      "metadata": {
        "id": "-P4GNL9_bFzT"
      },
      "execution_count": null,
      "outputs": []
    },
    {
      "cell_type": "code",
      "source": [
        "url='https://www.imdb.com/title/tt0697735/'\n",
        "r=requests.get(url)"
      ],
      "metadata": {
        "id": "T9ClgARkbLN1"
      },
      "execution_count": null,
      "outputs": []
    },
    {
      "cell_type": "code",
      "source": [
        "r.status_code"
      ],
      "metadata": {
        "colab": {
          "base_uri": "https://localhost:8080/"
        },
        "id": "sZ4HcgrqbKts",
        "outputId": "a6909c03-f451-4009-8b13-ea73d55a95f1"
      },
      "execution_count": null,
      "outputs": [
        {
          "output_type": "execute_result",
          "data": {
            "text/plain": [
              "403"
            ]
          },
          "metadata": {},
          "execution_count": 13
        }
      ]
    },
    {
      "cell_type": "code",
      "source": [
        "print(r.request.headers)"
      ],
      "metadata": {
        "colab": {
          "base_uri": "https://localhost:8080/"
        },
        "id": "q_eFdCNpcA2D",
        "outputId": "80ef5033-bb55-4236-c1dc-ee4c1936c07b"
      },
      "execution_count": null,
      "outputs": [
        {
          "output_type": "stream",
          "name": "stdout",
          "text": [
            "{'User-Agent': 'python-requests/2.32.3', 'Accept-Encoding': 'gzip, deflate', 'Accept': '*/*', 'Connection': 'keep-alive'}\n"
          ]
        }
      ]
    },
    {
      "cell_type": "code",
      "source": [
        "header=r.headers\n",
        "print(r.headers)"
      ],
      "metadata": {
        "colab": {
          "base_uri": "https://localhost:8080/"
        },
        "id": "zfOUVUbpcMAM",
        "outputId": "0ec82ae1-ed50-4eb5-8590-a2e156a2a66e"
      },
      "execution_count": null,
      "outputs": [
        {
          "output_type": "stream",
          "name": "stdout",
          "text": [
            "{'Content-Type': 'text/html', 'Transfer-Encoding': 'chunked', 'Connection': 'keep-alive', 'Server': 'Server', 'Date': 'Sat, 04 Jan 2025 03:28:54 GMT', 'Strict-Transport-Security': 'max-age=47474747; includeSubDomains; preload', 'Vary': 'Content-Type,Accept-Encoding,User-Agent', 'x-amz-rid': '3EKK5R98VHMYA272EYTT', 'X-Cache': 'Error from cloudfront', 'Via': '1.1 ac3f5ff5f29f102b8bc81b41df4c002e.cloudfront.net (CloudFront)', 'X-Amz-Cf-Pop': 'LAX50-C3', 'Alt-Svc': 'h3=\":443\"; ma=86400', 'X-Amz-Cf-Id': 'owzJZHHkoIy7g7z1WjraDzHWMZUb-vnSxUT44QaVXKl2PFP1jT7PqA=='}\n"
          ]
        }
      ]
    },
    {
      "cell_type": "code",
      "source": [
        "print(r.request.body)"
      ],
      "metadata": {
        "colab": {
          "base_uri": "https://localhost:8080/"
        },
        "id": "DGvpfT8ueRDc",
        "outputId": "80869d6d-fdb0-4f0f-cb2d-ac58318f4ad3"
      },
      "execution_count": null,
      "outputs": [
        {
          "output_type": "stream",
          "name": "stdout",
          "text": [
            "None\n"
          ]
        }
      ]
    },
    {
      "cell_type": "code",
      "source": [
        "header['date']"
      ],
      "metadata": {
        "colab": {
          "base_uri": "https://localhost:8080/",
          "height": 35
        },
        "id": "PB1U51KGcTVA",
        "outputId": "bbc94a7d-eed2-4be0-de04-c45444fa3626"
      },
      "execution_count": null,
      "outputs": [
        {
          "output_type": "execute_result",
          "data": {
            "text/plain": [
              "'Sat, 04 Jan 2025 03:28:54 GMT'"
            ],
            "application/vnd.google.colaboratory.intrinsic+json": {
              "type": "string"
            }
          },
          "metadata": {},
          "execution_count": 17
        }
      ]
    },
    {
      "cell_type": "code",
      "source": [
        "header['Content-Type']"
      ],
      "metadata": {
        "colab": {
          "base_uri": "https://localhost:8080/",
          "height": 35
        },
        "id": "5dyYR5oGc8X9",
        "outputId": "32824724-642b-43ba-dd23-88eebbe6fefd"
      },
      "execution_count": null,
      "outputs": [
        {
          "output_type": "execute_result",
          "data": {
            "text/plain": [
              "'text/html'"
            ],
            "application/vnd.google.colaboratory.intrinsic+json": {
              "type": "string"
            }
          },
          "metadata": {},
          "execution_count": 18
        }
      ]
    },
    {
      "cell_type": "code",
      "source": [
        " r.encoding"
      ],
      "metadata": {
        "colab": {
          "base_uri": "https://localhost:8080/",
          "height": 35
        },
        "id": "k0J9uOiddEW7",
        "outputId": "b8d3e4a1-db94-4331-f9a3-458b4d4199fa"
      },
      "execution_count": null,
      "outputs": [
        {
          "output_type": "execute_result",
          "data": {
            "text/plain": [
              "'ISO-8859-1'"
            ],
            "application/vnd.google.colaboratory.intrinsic+json": {
              "type": "string"
            }
          },
          "metadata": {},
          "execution_count": 19
        }
      ]
    },
    {
      "cell_type": "code",
      "source": [
        "r.text[0:100]"
      ],
      "metadata": {
        "colab": {
          "base_uri": "https://localhost:8080/",
          "height": 35
        },
        "id": "7e64jo6CdE5K",
        "outputId": "c2918c87-601e-42d6-d7c3-fddc973dbe31"
      },
      "execution_count": null,
      "outputs": [
        {
          "output_type": "execute_result",
          "data": {
            "text/plain": [
              "'<html>\\r\\n<head><title>403 Forbidden</title></head>\\r\\n<body>\\r\\n<center><h1>403 Forbidden</h1></center>\\r\\n'"
            ],
            "application/vnd.google.colaboratory.intrinsic+json": {
              "type": "string"
            }
          },
          "metadata": {},
          "execution_count": 20
        }
      ]
    },
    {
      "cell_type": "code",
      "source": [
        "url = 'https://upload.wikimedia.org/wikipedia/commons/4/44/Our_World_in_Data_logo.png'\n",
        "\n",
        "# Make a GET request\n",
        "r = requests.get(url)"
      ],
      "metadata": {
        "id": "2GG735KudHjR"
      },
      "execution_count": null,
      "outputs": []
    },
    {
      "cell_type": "code",
      "source": [
        "# Check the response\n",
        "if r.status_code == 200 and 'image' in r.headers.get('Content-Type', ''):\n",
        "    # Save the image\n",
        "    path = os.path.join(os.getcwd(), 'image.png')\n",
        "    with open(path, 'wb') as f:\n",
        "        f.write(r.content)\n",
        "\n",
        "    # Display the image in Colab\n",
        "    display(IPImage(path))\n",
        "else:\n",
        "    print(\"Failed to retrieve a valid image.\")"
      ],
      "metadata": {
        "colab": {
          "base_uri": "https://localhost:8080/",
          "height": 737
        },
        "id": "Fe_0H_sMex7t",
        "outputId": "3c559764-41c1-40d7-98de-06a25903a8fc"
      },
      "execution_count": null,
      "outputs": [
        {
          "output_type": "display_data",
          "data": {
            "image/png": "[encoded data removed]",
            "text/plain": [
              "<IPython.core.display.Image object>"
            ]
          },
          "metadata": {}
        }
      ]
    },
    {
      "cell_type": "markdown",
      "source": [
        "-------------------------------------------------------------\n",
        "# Random User API\n"
      ],
      "metadata": {
        "id": "rwrWekbOIbNU"
      }
    },
    {
      "cell_type": "code",
      "source": [
        "!pip install randomuser"
      ],
      "metadata": {
        "colab": {
          "base_uri": "https://localhost:8080/"
        },
        "id": "VGXwY2EYHMln",
        "outputId": "96a2a411-da28-4513-f0f8-d77375cb2190"
      },
      "execution_count": null,
      "outputs": [
        {
          "output_type": "stream",
          "name": "stdout",
          "text": [
            "Collecting randomuser\n",
            "  Downloading randomuser-1.6.tar.gz (5.0 kB)\n",
            "  Preparing metadata (setup.py) ... \u001b[?25l\u001b[?25hdone\n",
            "Building wheels for collected packages: randomuser\n",
            "  Building wheel for randomuser (setup.py) ... \u001b[?25l\u001b[?25hdone\n",
            "  Created wheel for randomuser: filename=randomuser-1.6-py3-none-any.whl size=5068 sha256=e171f69e4050044e42052b11cf75cd2974662ecf4568c1b436931a6d750570bb\n",
            "  Stored in directory: /root/.cache/pip/wheels/b8/f3/19/6a938647065b4bb2471a9d063647d14d4fcc3236731f4e2b53\n",
            "Successfully built randomuser\n",
            "Installing collected packages: randomuser\n",
            "Successfully installed randomuser-1.6\n"
          ]
        }
      ]
    },
    {
      "cell_type": "code",
      "source": [
        "from randomuser import RandomUser\n",
        "from IPython.display import Image, display"
      ],
      "metadata": {
        "id": "gBS_aJ02HcI2"
      },
      "execution_count": null,
      "outputs": []
    },
    {
      "cell_type": "code",
      "source": [
        "r = RandomUser()"
      ],
      "metadata": {
        "id": "cuQmpROQHgut"
      },
      "execution_count": null,
      "outputs": []
    },
    {
      "cell_type": "code",
      "source": [
        "some_list= r.generate_users(5)\n",
        "some_list"
      ],
      "metadata": {
        "colab": {
          "base_uri": "https://localhost:8080/"
        },
        "id": "54ObZ5UPHk6u",
        "outputId": "9abc31e3-c61e-46c8-9ef2-9371d1744e33"
      },
      "execution_count": null,
      "outputs": [
        {
          "output_type": "execute_result",
          "data": {
            "text/plain": [
              "[<randomuser.RandomUser at 0x7a1c82ac59c0>,\n",
              " <randomuser.RandomUser at 0x7a1c82ac4df0>,\n",
              " <randomuser.RandomUser at 0x7a1c82ac6140>,\n",
              " <randomuser.RandomUser at 0x7a1c82ac4280>,\n",
              " <randomuser.RandomUser at 0x7a1c82ac42b0>]"
            ]
          },
          "metadata": {},
          "execution_count": 26
        }
      ]
    },
    {
      "cell_type": "code",
      "source": [
        "name = r.get_full_name()\n",
        "print(name)\n",
        "some_list[1].get_full_name()"
      ],
      "metadata": {
        "colab": {
          "base_uri": "https://localhost:8080/",
          "height": 53
        },
        "id": "lbD7_vCpHzwv",
        "outputId": "a7eea12c-2f57-4a97-8f0e-638a7673ab2d"
      },
      "execution_count": null,
      "outputs": [
        {
          "output_type": "stream",
          "name": "stdout",
          "text": [
            "Logan Gill\n"
          ]
        },
        {
          "output_type": "execute_result",
          "data": {
            "text/plain": [
              "'Enni Latt'"
            ],
            "application/vnd.google.colaboratory.intrinsic+json": {
              "type": "string"
            }
          },
          "metadata": {},
          "execution_count": 27
        }
      ]
    },
    {
      "cell_type": "code",
      "source": [
        "for user in some_list:\n",
        "  print(user.get_full_name(), \" \" ,user.get_gender(), \" \" , user.get_email())"
      ],
      "metadata": {
        "colab": {
          "base_uri": "https://localhost:8080/"
        },
        "id": "eX5bvRBkIHpL",
        "outputId": "f82427e9-498a-4753-948f-660100f3738f"
      },
      "execution_count": null,
      "outputs": [
        {
          "output_type": "stream",
          "name": "stdout",
          "text": [
            "Jaime Meunier   male   jaime.meunier@example.com\n",
            "Enni Latt   female   enni.latt@example.com\n",
            "Ilan Boyer   male   ilan.boyer@example.com\n",
            "Georgia Martin   female   georgia.martin@example.com\n",
            "Michelle Hicks   female   michelle.hicks@example.com\n"
          ]
        }
      ]
    },
    {
      "cell_type": "code",
      "source": [
        "# show their pic\n",
        "for user in some_list:\n",
        "    picture_url = user.get_picture()\n",
        "    display(Image(url=picture_url))"
      ],
      "metadata": {
        "colab": {
          "base_uri": "https://localhost:8080/",
          "height": 676
        },
        "id": "Ym3N8dvrIes-",
        "outputId": "d8e21cff-a401-432f-d254-b5f9d391d017"
      },
      "execution_count": null,
      "outputs": [
        {
          "output_type": "display_data",
          "data": {
            "text/html": [
              "<img src=\"https://randomuser.me/api/portraits/men/37.jpg\"/>"
            ],
            "text/plain": [
              "<IPython.core.display.Image object>"
            ]
          },
          "metadata": {}
        },
        {
          "output_type": "display_data",
          "data": {
            "text/html": [
              "<img src=\"https://randomuser.me/api/portraits/women/10.jpg\"/>"
            ],
            "text/plain": [
              "<IPython.core.display.Image object>"
            ]
          },
          "metadata": {}
        },
        {
          "output_type": "display_data",
          "data": {
            "text/html": [
              "<img src=\"https://randomuser.me/api/portraits/men/74.jpg\"/>"
            ],
            "text/plain": [
              "<IPython.core.display.Image object>"
            ]
          },
          "metadata": {}
        },
        {
          "output_type": "display_data",
          "data": {
            "text/html": [
              "<img src=\"https://randomuser.me/api/portraits/women/43.jpg\"/>"
            ],
            "text/plain": [
              "<IPython.core.display.Image object>"
            ]
          },
          "metadata": {}
        },
        {
          "output_type": "display_data",
          "data": {
            "text/html": [
              "<img src=\"https://randomuser.me/api/portraits/women/71.jpg\"/>"
            ],
            "text/plain": [
              "<IPython.core.display.Image object>"
            ]
          },
          "metadata": {}
        }
      ]
    },
    {
      "cell_type": "code",
      "source": [
        "def user_dataframe():\n",
        "  users=[]\n",
        "\n",
        "  for user in some_list:\n",
        "    users.append({\"Full_name\": user.get_full_name(), \"Email\":user.get_email(), \"Gender\": user.get_gender(), \"Age\": user.get_age()})\n",
        "  return pd.DataFrame(users)\n",
        "\n",
        "\n",
        "print(user_dataframe())"
      ],
      "metadata": {
        "colab": {
          "base_uri": "https://localhost:8080/"
        },
        "id": "To5Mu6vDJTat",
        "outputId": "35c2991f-661b-415b-92f5-902e61199f91"
      },
      "execution_count": null,
      "outputs": [
        {
          "output_type": "stream",
          "name": "stdout",
          "text": [
            "        Full_name                       Email  Gender  Age\n",
            "0   Jaime Meunier   jaime.meunier@example.com    male   35\n",
            "1       Enni Latt       enni.latt@example.com  female   53\n",
            "2      Ilan Boyer      ilan.boyer@example.com    male   78\n",
            "3  Georgia Martin  georgia.martin@example.com  female   35\n",
            "4  Michelle Hicks  michelle.hicks@example.com  female   28\n"
          ]
        }
      ]
    },
    {
      "cell_type": "code",
      "source": [
        "df1 = pd.DataFrame(user_dataframe())"
      ],
      "metadata": {
        "id": "aaLLjyAljDJH"
      },
      "execution_count": null,
      "outputs": []
    },
    {
      "cell_type": "code",
      "source": [
        "import requests\n",
        "import json"
      ],
      "metadata": {
        "id": "LmcKIa07yKHJ"
      },
      "execution_count": null,
      "outputs": []
    },
    {
      "cell_type": "code",
      "source": [
        "data = requests.get(\"https://web.archive.org/web/20240929211114/https://fruityvice.com/api/fruit/all\")"
      ],
      "metadata": {
        "id": "LjLsA71cy1U9"
      },
      "execution_count": null,
      "outputs": []
    },
    {
      "cell_type": "code",
      "source": [
        "results = json.loads(data.text)\n",
        "pd.DataFrame(results)"
      ],
      "metadata": {
        "colab": {
          "base_uri": "https://localhost:8080/",
          "height": 1000
        },
        "id": "wpMPNvU0LeLV",
        "outputId": "f6c65ead-60f3-4406-a964-c8cd127fa1c6"
      },
      "execution_count": null,
      "outputs": [
        {
          "output_type": "execute_result",
          "data": {
            "text/plain": [
              "                  name   id           family             order         genus  \\\n",
              "0            Persimmon   52        Ebenaceae           Rosales     Diospyros   \n",
              "1           Strawberry    3         Rosaceae           Rosales      Fragaria   \n",
              "2               Banana    1         Musaceae      Zingiberales          Musa   \n",
              "3               Tomato    5       Solanaceae         Solanales       Solanum   \n",
              "4                 Pear    4         Rosaceae           Rosales         Pyrus   \n",
              "5               Durian   60        Malvaceae          Malvales         Durio   \n",
              "6           Blackberry   64         Rosaceae           Rosales         Rubus   \n",
              "7          Lingonberry   65        Ericaceae          Ericales     Vaccinium   \n",
              "8                 Kiwi   66    Actinidiaceae  Struthioniformes       Apteryx   \n",
              "9               Lychee   67      Sapindaceae        Sapindales        Litchi   \n",
              "10           Pineapple   10     Bromeliaceae            Poales        Ananas   \n",
              "11                 Fig   68         Moraceae           Rosales         Ficus   \n",
              "12          Gooseberry   69  Grossulariaceae      Saxifragales         Ribes   \n",
              "13        Passionfruit   70   Passifloraceae      Malpighiales    Passiflora   \n",
              "14                Plum   71         Rosaceae           Rosales        Prunus   \n",
              "15              Orange    2         Rutaceae        Sapindales        Citrus   \n",
              "16          GreenApple   72         Rosaceae           Rosales         Malus   \n",
              "17           Raspberry   23         Rosaceae           Rosales         Rubus   \n",
              "18          Watermelon   25    Cucurbitaceae      Cucurbitales     Citrullus   \n",
              "19               Lemon   26         Rutaceae        Sapindales        Citrus   \n",
              "20               Mango   27    Anacardiaceae        Sapindales     Mangifera   \n",
              "21           Blueberry   33         Rosaceae           Rosales      Fragaria   \n",
              "22               Apple    6         Rosaceae           Rosales         Malus   \n",
              "23               Guava   37        Myrtaceae          Myrtales       Psidium   \n",
              "24             Apricot   35         Rosaceae           Rosales        Prunus   \n",
              "25               Melon   41    Cucurbitaceae     Cucurbitaceae       Cucumis   \n",
              "26           Tangerine   77         Rutaceae        Sapindales        Citrus   \n",
              "27            Pitahaya   78        Cactaceae    Caryophyllales     Cactaceae   \n",
              "28                Lime   44         Rutaceae        Sapindales        Citrus   \n",
              "29         Pomegranate   79       Lythraceae          Myrtales        Punica   \n",
              "30         Dragonfruit   80        Cactaceae    Caryophyllales  Selenicereus   \n",
              "31               Grape   81         Vitaceae           Vitales         Vitis   \n",
              "32               Morus   82         Moraceae           Rosales         Morus   \n",
              "33              Feijoa   76        Myrtaceae        Myrtoideae    Sellowiana   \n",
              "34             Avocado   84        Lauraceae          Laurales        Persea   \n",
              "35           Kiwifruit   85    Actinidiaceae          Ericales     Actinidia   \n",
              "36           Cranberry   87        Ericaceae          Ericales     Vaccinium   \n",
              "37              Cherry    9         Rosaceae           Rosales        Prunus   \n",
              "38               Peach   86         Rosaceae           Rosales        Prunus   \n",
              "39           Jackfruit   94         Moraceae           Rosales    Artocarpus   \n",
              "40        Horned Melon   95    Cucurbitaceae      Cucurbitales       Cucumis   \n",
              "41            Hazelnut   96       Betulaceae           Fagales       Corylus   \n",
              "42              Pomelo   98         Rutaceae        Sapindales        Citrus   \n",
              "43          Mangosteen   99       Clusiaceae      Malpighiales      Garcinia   \n",
              "44             Pumpkin  100    Cucurbitaceae      Cucurbitales     Cucurbita   \n",
              "45  Japanese Persimmon  101        Ebenaceae          Ericales     Diospyros   \n",
              "46              Papaya   42       Caricaceae       Brassicales        Carica   \n",
              "47              Annona  103       Annonaceae           Rosales       Annonas   \n",
              "48   Ceylon Gooseberry  104       Salicaceae      Malpighiales      Dovyalis   \n",
              "\n",
              "                                           nutritions  \n",
              "0   {'calories': 81, 'fat': 0.0, 'sugar': 18.0, 'c...  \n",
              "1   {'calories': 29, 'fat': 0.4, 'sugar': 5.4, 'ca...  \n",
              "2   {'calories': 96, 'fat': 0.2, 'sugar': 17.2, 'c...  \n",
              "3   {'calories': 74, 'fat': 0.2, 'sugar': 2.6, 'ca...  \n",
              "4   {'calories': 57, 'fat': 0.1, 'sugar': 10.0, 'c...  \n",
              "5   {'calories': 147, 'fat': 5.3, 'sugar': 6.75, '...  \n",
              "6   {'calories': 40, 'fat': 0.4, 'sugar': 4.5, 'ca...  \n",
              "7   {'calories': 50, 'fat': 0.34, 'sugar': 5.74, '...  \n",
              "8   {'calories': 61, 'fat': 0.5, 'sugar': 9.0, 'ca...  \n",
              "9   {'calories': 66, 'fat': 0.44, 'sugar': 15.0, '...  \n",
              "10  {'calories': 50, 'fat': 0.12, 'sugar': 9.85, '...  \n",
              "11  {'calories': 74, 'fat': 0.3, 'sugar': 16.0, 'c...  \n",
              "12  {'calories': 44, 'fat': 0.6, 'sugar': 0.0, 'ca...  \n",
              "13  {'calories': 97, 'fat': 0.7, 'sugar': 11.2, 'c...  \n",
              "14  {'calories': 46, 'fat': 0.28, 'sugar': 9.92, '...  \n",
              "15  {'calories': 43, 'fat': 0.2, 'sugar': 8.2, 'ca...  \n",
              "16  {'calories': 21, 'fat': 0.1, 'sugar': 6.4, 'ca...  \n",
              "17  {'calories': 53, 'fat': 0.7, 'sugar': 4.4, 'ca...  \n",
              "18  {'calories': 30, 'fat': 0.2, 'sugar': 6.0, 'ca...  \n",
              "19  {'calories': 29, 'fat': 0.3, 'sugar': 2.5, 'ca...  \n",
              "20  {'calories': 60, 'fat': 0.38, 'sugar': 13.7, '...  \n",
              "21  {'calories': 29, 'fat': 0.4, 'sugar': 5.4, 'ca...  \n",
              "22  {'calories': 52, 'fat': 0.4, 'sugar': 10.3, 'c...  \n",
              "23  {'calories': 68, 'fat': 1.0, 'sugar': 9.0, 'ca...  \n",
              "24  {'calories': 15, 'fat': 0.1, 'sugar': 3.2, 'ca...  \n",
              "25  {'calories': 34, 'fat': 0.0, 'sugar': 8.0, 'ca...  \n",
              "26  {'calories': 45, 'fat': 0.4, 'sugar': 9.1, 'ca...  \n",
              "27  {'calories': 36, 'fat': 0.4, 'sugar': 3.0, 'ca...  \n",
              "28  {'calories': 25, 'fat': 0.1, 'sugar': 1.7, 'ca...  \n",
              "29  {'calories': 83, 'fat': 1.2, 'sugar': 13.7, 'c...  \n",
              "30  {'calories': 60, 'fat': 1.5, 'sugar': 8.0, 'ca...  \n",
              "31  {'calories': 69, 'fat': 0.16, 'sugar': 16.0, '...  \n",
              "32  {'calories': 43, 'fat': 0.39, 'sugar': 8.1, 'c...  \n",
              "33  {'calories': 44, 'fat': 0.4, 'sugar': 3.0, 'ca...  \n",
              "34  {'calories': 160, 'fat': 14.66, 'sugar': 0.66,...  \n",
              "35  {'calories': 61, 'fat': 0.5, 'sugar': 8.9, 'ca...  \n",
              "36  {'calories': 46, 'fat': 0.1, 'sugar': 4.0, 'ca...  \n",
              "37  {'calories': 50, 'fat': 0.3, 'sugar': 8.0, 'ca...  \n",
              "38  {'calories': 39, 'fat': 0.25, 'sugar': 8.4, 'c...  \n",
              "39  {'calories': 95, 'fat': 0.0, 'sugar': 19.1, 'c...  \n",
              "40  {'calories': 44, 'fat': 1.26, 'sugar': 0.5, 'c...  \n",
              "41  {'calories': 628, 'fat': 61.0, 'sugar': 4.3, '...  \n",
              "42  {'calories': 37, 'fat': 0.0, 'sugar': 8.5, 'ca...  \n",
              "43  {'calories': 73, 'fat': 0.58, 'sugar': 16.11, ...  \n",
              "44  {'calories': 25, 'fat': 0.3, 'sugar': 3.3, 'ca...  \n",
              "45  {'calories': 70, 'fat': 0.2, 'sugar': 13.0, 'c...  \n",
              "46  {'calories': 39, 'fat': 0.3, 'sugar': 4.4, 'ca...  \n",
              "47  {'calories': 92, 'fat': 0.29, 'sugar': 3.4, 'c...  \n",
              "48  {'calories': 47, 'fat': 0.3, 'sugar': 8.1, 'ca...  "
            ],
            "text/html": [
              "\n",
              "  <div id=\"df-6db5a7b6-3c0d-4123-b989-8f68b1b94831\" class=\"colab-df-container\">\n",
              "    <div>\n",
              "<style scoped>\n",
              "    .dataframe tbody tr th:only-of-type {\n",
              "        vertical-align: middle;\n",
              "    }\n",
              "\n",
              "    .dataframe tbody tr th {\n",
              "        vertical-align: top;\n",
              "    }\n",
              "\n",
              "    .dataframe thead th {\n",
              "        text-align: right;\n",
              "    }\n",
              "</style>\n",
              "<table border=\"1\" class=\"dataframe\">\n",
              "  <thead>\n",
              "    <tr style=\"text-align: right;\">\n",
              "      <th></th>\n",
              "      <th>name</th>\n",
              "      <th>id</th>\n",
              "      <th>family</th>\n",
              "      <th>order</th>\n",
              "      <th>genus</th>\n",
              "      <th>nutritions</th>\n",
              "    </tr>\n",
              "  </thead>\n",
              "  <tbody>\n",
              "    <tr>\n",
              "      <th>0</th>\n",
              "      <td>Persimmon</td>\n",
              "      <td>52</td>\n",
              "      <td>Ebenaceae</td>\n",
              "      <td>Rosales</td>\n",
              "      <td>Diospyros</td>\n",
              "      <td>{'calories': 81, 'fat': 0.0, 'sugar': 18.0, 'c...</td>\n",
              "    </tr>\n",
              "    <tr>\n",
              "      <th>1</th>\n",
              "      <td>Strawberry</td>\n",
              "      <td>3</td>\n",
              "      <td>Rosaceae</td>\n",
              "      <td>Rosales</td>\n",
              "      <td>Fragaria</td>\n",
              "      <td>{'calories': 29, 'fat': 0.4, 'sugar': 5.4, 'ca...</td>\n",
              "    </tr>\n",
              "    <tr>\n",
              "      <th>2</th>\n",
              "      <td>Banana</td>\n",
              "      <td>1</td>\n",
              "      <td>Musaceae</td>\n",
              "      <td>Zingiberales</td>\n",
              "      <td>Musa</td>\n",
              "      <td>{'calories': 96, 'fat': 0.2, 'sugar': 17.2, 'c...</td>\n",
              "    </tr>\n",
              "    <tr>\n",
              "      <th>3</th>\n",
              "      <td>Tomato</td>\n",
              "      <td>5</td>\n",
              "      <td>Solanaceae</td>\n",
              "      <td>Solanales</td>\n",
              "      <td>Solanum</td>\n",
              "      <td>{'calories': 74, 'fat': 0.2, 'sugar': 2.6, 'ca...</td>\n",
              "    </tr>\n",
              "    <tr>\n",
              "      <th>4</th>\n",
              "      <td>Pear</td>\n",
              "      <td>4</td>\n",
              "      <td>Rosaceae</td>\n",
              "      <td>Rosales</td>\n",
              "      <td>Pyrus</td>\n",
              "      <td>{'calories': 57, 'fat': 0.1, 'sugar': 10.0, 'c...</td>\n",
              "    </tr>\n",
              "    <tr>\n",
              "      <th>5</th>\n",
              "      <td>Durian</td>\n",
              "      <td>60</td>\n",
              "      <td>Malvaceae</td>\n",
              "      <td>Malvales</td>\n",
              "      <td>Durio</td>\n",
              "      <td>{'calories': 147, 'fat': 5.3, 'sugar': 6.75, '...</td>\n",
              "    </tr>\n",
              "    <tr>\n",
              "      <th>6</th>\n",
              "      <td>Blackberry</td>\n",
              "      <td>64</td>\n",
              "      <td>Rosaceae</td>\n",
              "      <td>Rosales</td>\n",
              "      <td>Rubus</td>\n",
              "      <td>{'calories': 40, 'fat': 0.4, 'sugar': 4.5, 'ca...</td>\n",
              "    </tr>\n",
              "    <tr>\n",
              "      <th>7</th>\n",
              "      <td>Lingonberry</td>\n",
              "      <td>65</td>\n",
              "      <td>Ericaceae</td>\n",
              "      <td>Ericales</td>\n",
              "      <td>Vaccinium</td>\n",
              "      <td>{'calories': 50, 'fat': 0.34, 'sugar': 5.74, '...</td>\n",
              "    </tr>\n",
              "    <tr>\n",
              "      <th>8</th>\n",
              "      <td>Kiwi</td>\n",
              "      <td>66</td>\n",
              "      <td>Actinidiaceae</td>\n",
              "      <td>Struthioniformes</td>\n",
              "      <td>Apteryx</td>\n",
              "      <td>{'calories': 61, 'fat': 0.5, 'sugar': 9.0, 'ca...</td>\n",
              "    </tr>\n",
              "    <tr>\n",
              "      <th>9</th>\n",
              "      <td>Lychee</td>\n",
              "      <td>67</td>\n",
              "      <td>Sapindaceae</td>\n",
              "      <td>Sapindales</td>\n",
              "      <td>Litchi</td>\n",
              "      <td>{'calories': 66, 'fat': 0.44, 'sugar': 15.0, '...</td>\n",
              "    </tr>\n",
              "    <tr>\n",
              "      <th>10</th>\n",
              "      <td>Pineapple</td>\n",
              "      <td>10</td>\n",
              "      <td>Bromeliaceae</td>\n",
              "      <td>Poales</td>\n",
              "      <td>Ananas</td>\n",
              "      <td>{'calories': 50, 'fat': 0.12, 'sugar': 9.85, '...</td>\n",
              "    </tr>\n",
              "    <tr>\n",
              "      <th>11</th>\n",
              "      <td>Fig</td>\n",
              "      <td>68</td>\n",
              "      <td>Moraceae</td>\n",
              "      <td>Rosales</td>\n",
              "      <td>Ficus</td>\n",
              "      <td>{'calories': 74, 'fat': 0.3, 'sugar': 16.0, 'c...</td>\n",
              "    </tr>\n",
              "    <tr>\n",
              "      <th>12</th>\n",
              "      <td>Gooseberry</td>\n",
              "      <td>69</td>\n",
              "      <td>Grossulariaceae</td>\n",
              "      <td>Saxifragales</td>\n",
              "      <td>Ribes</td>\n",
              "      <td>{'calories': 44, 'fat': 0.6, 'sugar': 0.0, 'ca...</td>\n",
              "    </tr>\n",
              "    <tr>\n",
              "      <th>13</th>\n",
              "      <td>Passionfruit</td>\n",
              "      <td>70</td>\n",
              "      <td>Passifloraceae</td>\n",
              "      <td>Malpighiales</td>\n",
              "      <td>Passiflora</td>\n",
              "      <td>{'calories': 97, 'fat': 0.7, 'sugar': 11.2, 'c...</td>\n",
              "    </tr>\n",
              "    <tr>\n",
              "      <th>14</th>\n",
              "      <td>Plum</td>\n",
              "      <td>71</td>\n",
              "      <td>Rosaceae</td>\n",
              "      <td>Rosales</td>\n",
              "      <td>Prunus</td>\n",
              "      <td>{'calories': 46, 'fat': 0.28, 'sugar': 9.92, '...</td>\n",
              "    </tr>\n",
              "    <tr>\n",
              "      <th>15</th>\n",
              "      <td>Orange</td>\n",
              "      <td>2</td>\n",
              "      <td>Rutaceae</td>\n",
              "      <td>Sapindales</td>\n",
              "      <td>Citrus</td>\n",
              "      <td>{'calories': 43, 'fat': 0.2, 'sugar': 8.2, 'ca...</td>\n",
              "    </tr>\n",
              "    <tr>\n",
              "      <th>16</th>\n",
              "      <td>GreenApple</td>\n",
              "      <td>72</td>\n",
              "      <td>Rosaceae</td>\n",
              "      <td>Rosales</td>\n",
              "      <td>Malus</td>\n",
              "      <td>{'calories': 21, 'fat': 0.1, 'sugar': 6.4, 'ca...</td>\n",
              "    </tr>\n",
              "    <tr>\n",
              "      <th>17</th>\n",
              "      <td>Raspberry</td>\n",
              "      <td>23</td>\n",
              "      <td>Rosaceae</td>\n",
              "      <td>Rosales</td>\n",
              "      <td>Rubus</td>\n",
              "      <td>{'calories': 53, 'fat': 0.7, 'sugar': 4.4, 'ca...</td>\n",
              "    </tr>\n",
              "    <tr>\n",
              "      <th>18</th>\n",
              "      <td>Watermelon</td>\n",
              "      <td>25</td>\n",
              "      <td>Cucurbitaceae</td>\n",
              "      <td>Cucurbitales</td>\n",
              "      <td>Citrullus</td>\n",
              "      <td>{'calories': 30, 'fat': 0.2, 'sugar': 6.0, 'ca...</td>\n",
              "    </tr>\n",
              "    <tr>\n",
              "      <th>19</th>\n",
              "      <td>Lemon</td>\n",
              "      <td>26</td>\n",
              "      <td>Rutaceae</td>\n",
              "      <td>Sapindales</td>\n",
              "      <td>Citrus</td>\n",
              "      <td>{'calories': 29, 'fat': 0.3, 'sugar': 2.5, 'ca...</td>\n",
              "    </tr>\n",
              "    <tr>\n",
              "      <th>20</th>\n",
              "      <td>Mango</td>\n",
              "      <td>27</td>\n",
              "      <td>Anacardiaceae</td>\n",
              "      <td>Sapindales</td>\n",
              "      <td>Mangifera</td>\n",
              "      <td>{'calories': 60, 'fat': 0.38, 'sugar': 13.7, '...</td>\n",
              "    </tr>\n",
              "    <tr>\n",
              "      <th>21</th>\n",
              "      <td>Blueberry</td>\n",
              "      <td>33</td>\n",
              "      <td>Rosaceae</td>\n",
              "      <td>Rosales</td>\n",
              "      <td>Fragaria</td>\n",
              "      <td>{'calories': 29, 'fat': 0.4, 'sugar': 5.4, 'ca...</td>\n",
              "    </tr>\n",
              "    <tr>\n",
              "      <th>22</th>\n",
              "      <td>Apple</td>\n",
              "      <td>6</td>\n",
              "      <td>Rosaceae</td>\n",
              "      <td>Rosales</td>\n",
              "      <td>Malus</td>\n",
              "      <td>{'calories': 52, 'fat': 0.4, 'sugar': 10.3, 'c...</td>\n",
              "    </tr>\n",
              "    <tr>\n",
              "      <th>23</th>\n",
              "      <td>Guava</td>\n",
              "      <td>37</td>\n",
              "      <td>Myrtaceae</td>\n",
              "      <td>Myrtales</td>\n",
              "      <td>Psidium</td>\n",
              "      <td>{'calories': 68, 'fat': 1.0, 'sugar': 9.0, 'ca...</td>\n",
              "    </tr>\n",
              "    <tr>\n",
              "      <th>24</th>\n",
              "      <td>Apricot</td>\n",
              "      <td>35</td>\n",
              "      <td>Rosaceae</td>\n",
              "      <td>Rosales</td>\n",
              "      <td>Prunus</td>\n",
              "      <td>{'calories': 15, 'fat': 0.1, 'sugar': 3.2, 'ca...</td>\n",
              "    </tr>\n",
              "    <tr>\n",
              "      <th>25</th>\n",
              "      <td>Melon</td>\n",
              "      <td>41</td>\n",
              "      <td>Cucurbitaceae</td>\n",
              "      <td>Cucurbitaceae</td>\n",
              "      <td>Cucumis</td>\n",
              "      <td>{'calories': 34, 'fat': 0.0, 'sugar': 8.0, 'ca...</td>\n",
              "    </tr>\n",
              "    <tr>\n",
              "      <th>26</th>\n",
              "      <td>Tangerine</td>\n",
              "      <td>77</td>\n",
              "      <td>Rutaceae</td>\n",
              "      <td>Sapindales</td>\n",
              "      <td>Citrus</td>\n",
              "      <td>{'calories': 45, 'fat': 0.4, 'sugar': 9.1, 'ca...</td>\n",
              "    </tr>\n",
              "    <tr>\n",
              "      <th>27</th>\n",
              "      <td>Pitahaya</td>\n",
              "      <td>78</td>\n",
              "      <td>Cactaceae</td>\n",
              "      <td>Caryophyllales</td>\n",
              "      <td>Cactaceae</td>\n",
              "      <td>{'calories': 36, 'fat': 0.4, 'sugar': 3.0, 'ca...</td>\n",
              "    </tr>\n",
              "    <tr>\n",
              "      <th>28</th>\n",
              "      <td>Lime</td>\n",
              "      <td>44</td>\n",
              "      <td>Rutaceae</td>\n",
              "      <td>Sapindales</td>\n",
              "      <td>Citrus</td>\n",
              "      <td>{'calories': 25, 'fat': 0.1, 'sugar': 1.7, 'ca...</td>\n",
              "    </tr>\n",
              "    <tr>\n",
              "      <th>29</th>\n",
              "      <td>Pomegranate</td>\n",
              "      <td>79</td>\n",
              "      <td>Lythraceae</td>\n",
              "      <td>Myrtales</td>\n",
              "      <td>Punica</td>\n",
              "      <td>{'calories': 83, 'fat': 1.2, 'sugar': 13.7, 'c...</td>\n",
              "    </tr>\n",
              "    <tr>\n",
              "      <th>30</th>\n",
              "      <td>Dragonfruit</td>\n",
              "      <td>80</td>\n",
              "      <td>Cactaceae</td>\n",
              "      <td>Caryophyllales</td>\n",
              "      <td>Selenicereus</td>\n",
              "      <td>{'calories': 60, 'fat': 1.5, 'sugar': 8.0, 'ca...</td>\n",
              "    </tr>\n",
              "    <tr>\n",
              "      <th>31</th>\n",
              "      <td>Grape</td>\n",
              "      <td>81</td>\n",
              "      <td>Vitaceae</td>\n",
              "      <td>Vitales</td>\n",
              "      <td>Vitis</td>\n",
              "      <td>{'calories': 69, 'fat': 0.16, 'sugar': 16.0, '...</td>\n",
              "    </tr>\n",
              "    <tr>\n",
              "      <th>32</th>\n",
              "      <td>Morus</td>\n",
              "      <td>82</td>\n",
              "      <td>Moraceae</td>\n",
              "      <td>Rosales</td>\n",
              "      <td>Morus</td>\n",
              "      <td>{'calories': 43, 'fat': 0.39, 'sugar': 8.1, 'c...</td>\n",
              "    </tr>\n",
              "    <tr>\n",
              "      <th>33</th>\n",
              "      <td>Feijoa</td>\n",
              "      <td>76</td>\n",
              "      <td>Myrtaceae</td>\n",
              "      <td>Myrtoideae</td>\n",
              "      <td>Sellowiana</td>\n",
              "      <td>{'calories': 44, 'fat': 0.4, 'sugar': 3.0, 'ca...</td>\n",
              "    </tr>\n",
              "    <tr>\n",
              "      <th>34</th>\n",
              "      <td>Avocado</td>\n",
              "      <td>84</td>\n",
              "      <td>Lauraceae</td>\n",
              "      <td>Laurales</td>\n",
              "      <td>Persea</td>\n",
              "      <td>{'calories': 160, 'fat': 14.66, 'sugar': 0.66,...</td>\n",
              "    </tr>\n",
              "    <tr>\n",
              "      <th>35</th>\n",
              "      <td>Kiwifruit</td>\n",
              "      <td>85</td>\n",
              "      <td>Actinidiaceae</td>\n",
              "      <td>Ericales</td>\n",
              "      <td>Actinidia</td>\n",
              "      <td>{'calories': 61, 'fat': 0.5, 'sugar': 8.9, 'ca...</td>\n",
              "    </tr>\n",
              "    <tr>\n",
              "      <th>36</th>\n",
              "      <td>Cranberry</td>\n",
              "      <td>87</td>\n",
              "      <td>Ericaceae</td>\n",
              "      <td>Ericales</td>\n",
              "      <td>Vaccinium</td>\n",
              "      <td>{'calories': 46, 'fat': 0.1, 'sugar': 4.0, 'ca...</td>\n",
              "    </tr>\n",
              "    <tr>\n",
              "      <th>37</th>\n",
              "      <td>Cherry</td>\n",
              "      <td>9</td>\n",
              "      <td>Rosaceae</td>\n",
              "      <td>Rosales</td>\n",
              "      <td>Prunus</td>\n",
              "      <td>{'calories': 50, 'fat': 0.3, 'sugar': 8.0, 'ca...</td>\n",
              "    </tr>\n",
              "    <tr>\n",
              "      <th>38</th>\n",
              "      <td>Peach</td>\n",
              "      <td>86</td>\n",
              "      <td>Rosaceae</td>\n",
              "      <td>Rosales</td>\n",
              "      <td>Prunus</td>\n",
              "      <td>{'calories': 39, 'fat': 0.25, 'sugar': 8.4, 'c...</td>\n",
              "    </tr>\n",
              "    <tr>\n",
              "      <th>39</th>\n",
              "      <td>Jackfruit</td>\n",
              "      <td>94</td>\n",
              "      <td>Moraceae</td>\n",
              "      <td>Rosales</td>\n",
              "      <td>Artocarpus</td>\n",
              "      <td>{'calories': 95, 'fat': 0.0, 'sugar': 19.1, 'c...</td>\n",
              "    </tr>\n",
              "    <tr>\n",
              "      <th>40</th>\n",
              "      <td>Horned Melon</td>\n",
              "      <td>95</td>\n",
              "      <td>Cucurbitaceae</td>\n",
              "      <td>Cucurbitales</td>\n",
              "      <td>Cucumis</td>\n",
              "      <td>{'calories': 44, 'fat': 1.26, 'sugar': 0.5, 'c...</td>\n",
              "    </tr>\n",
              "    <tr>\n",
              "      <th>41</th>\n",
              "      <td>Hazelnut</td>\n",
              "      <td>96</td>\n",
              "      <td>Betulaceae</td>\n",
              "      <td>Fagales</td>\n",
              "      <td>Corylus</td>\n",
              "      <td>{'calories': 628, 'fat': 61.0, 'sugar': 4.3, '...</td>\n",
              "    </tr>\n",
              "    <tr>\n",
              "      <th>42</th>\n",
              "      <td>Pomelo</td>\n",
              "      <td>98</td>\n",
              "      <td>Rutaceae</td>\n",
              "      <td>Sapindales</td>\n",
              "      <td>Citrus</td>\n",
              "      <td>{'calories': 37, 'fat': 0.0, 'sugar': 8.5, 'ca...</td>\n",
              "    </tr>\n",
              "    <tr>\n",
              "      <th>43</th>\n",
              "      <td>Mangosteen</td>\n",
              "      <td>99</td>\n",
              "      <td>Clusiaceae</td>\n",
              "      <td>Malpighiales</td>\n",
              "      <td>Garcinia</td>\n",
              "      <td>{'calories': 73, 'fat': 0.58, 'sugar': 16.11, ...</td>\n",
              "    </tr>\n",
              "    <tr>\n",
              "      <th>44</th>\n",
              "      <td>Pumpkin</td>\n",
              "      <td>100</td>\n",
              "      <td>Cucurbitaceae</td>\n",
              "      <td>Cucurbitales</td>\n",
              "      <td>Cucurbita</td>\n",
              "      <td>{'calories': 25, 'fat': 0.3, 'sugar': 3.3, 'ca...</td>\n",
              "    </tr>\n",
              "    <tr>\n",
              "      <th>45</th>\n",
              "      <td>Japanese Persimmon</td>\n",
              "      <td>101</td>\n",
              "      <td>Ebenaceae</td>\n",
              "      <td>Ericales</td>\n",
              "      <td>Diospyros</td>\n",
              "      <td>{'calories': 70, 'fat': 0.2, 'sugar': 13.0, 'c...</td>\n",
              "    </tr>\n",
              "    <tr>\n",
              "      <th>46</th>\n",
              "      <td>Papaya</td>\n",
              "      <td>42</td>\n",
              "      <td>Caricaceae</td>\n",
              "      <td>Brassicales</td>\n",
              "      <td>Carica</td>\n",
              "      <td>{'calories': 39, 'fat': 0.3, 'sugar': 4.4, 'ca...</td>\n",
              "    </tr>\n",
              "    <tr>\n",
              "      <th>47</th>\n",
              "      <td>Annona</td>\n",
              "      <td>103</td>\n",
              "      <td>Annonaceae</td>\n",
              "      <td>Rosales</td>\n",
              "      <td>Annonas</td>\n",
              "      <td>{'calories': 92, 'fat': 0.29, 'sugar': 3.4, 'c...</td>\n",
              "    </tr>\n",
              "    <tr>\n",
              "      <th>48</th>\n",
              "      <td>Ceylon Gooseberry</td>\n",
              "      <td>104</td>\n",
              "      <td>Salicaceae</td>\n",
              "      <td>Malpighiales</td>\n",
              "      <td>Dovyalis</td>\n",
              "      <td>{'calories': 47, 'fat': 0.3, 'sugar': 8.1, 'ca...</td>\n",
              "    </tr>\n",
              "  </tbody>\n",
              "</table>\n",
              "</div>\n",
              "    <div class=\"colab-df-buttons\">\n",
              "\n",
              "  <div class=\"colab-df-container\">\n",
              "    <button class=\"colab-df-convert\" onclick=\"convertToInteractive('df-6db5a7b6-3c0d-4123-b989-8f68b1b94831')\"\n",
              "            title=\"Convert this dataframe to an interactive table.\"\n",
              "            style=\"display:none;\">\n",
              "\n",
              "  <svg xmlns=\"http://www.w3.org/2000/svg\" height=\"24px\" viewBox=\"0 -960 960 960\">\n",
              "    <path d=\"M120-120v-720h720v720H120Zm60-500h600v-160H180v160Zm220 220h160v-160H400v160Zm0 220h160v-160H400v160ZM180-400h160v-160H180v160Zm440 0h160v-160H620v160ZM180-180h160v-160H180v160Zm440 0h160v-160H620v160Z\"/>\n",
              "  </svg>\n",
              "    </button>\n",
              "\n",
              "  <style>\n",
              "    .colab-df-container {\n",
              "      display:flex;\n",
              "      gap: 12px;\n",
              "    }\n",
              "\n",
              "    .colab-df-convert {\n",
              "      background-color: #E8F0FE;\n",
              "      border: none;\n",
              "      border-radius: 50%;\n",
              "      cursor: pointer;\n",
              "      display: none;\n",
              "      fill: #1967D2;\n",
              "      height: 32px;\n",
              "      padding: 0 0 0 0;\n",
              "      width: 32px;\n",
              "    }\n",
              "\n",
              "    .colab-df-convert:hover {\n",
              "      background-color: #E2EBFA;\n",
              "      box-shadow: 0px 1px 2px rgba(60, 64, 67, 0.3), 0px 1px 3px 1px rgba(60, 64, 67, 0.15);\n",
              "      fill: #174EA6;\n",
              "    }\n",
              "\n",
              "    .colab-df-buttons div {\n",
              "      margin-bottom: 4px;\n",
              "    }\n",
              "\n",
              "    [theme=dark] .colab-df-convert {\n",
              "      background-color: #3B4455;\n",
              "      fill: #D2E3FC;\n",
              "    }\n",
              "\n",
              "    [theme=dark] .colab-df-convert:hover {\n",
              "      background-color: #434B5C;\n",
              "      box-shadow: 0px 1px 3px 1px rgba(0, 0, 0, 0.15);\n",
              "      filter: drop-shadow(0px 1px 2px rgba(0, 0, 0, 0.3));\n",
              "      fill: #FFFFFF;\n",
              "    }\n",
              "  </style>\n",
              "\n",
              "    <script>\n",
              "      const buttonEl =\n",
              "        document.querySelector('#df-6db5a7b6-3c0d-4123-b989-8f68b1b94831 button.colab-df-convert');\n",
              "      buttonEl.style.display =\n",
              "        google.colab.kernel.accessAllowed ? 'block' : 'none';\n",
              "\n",
              "      async function convertToInteractive(key) {\n",
              "        const element = document.querySelector('#df-6db5a7b6-3c0d-4123-b989-8f68b1b94831');\n",
              "        const dataTable =\n",
              "          await google.colab.kernel.invokeFunction('convertToInteractive',\n",
              "                                                    [key], {});\n",
              "        if (!dataTable) return;\n",
              "\n",
              "        const docLinkHtml = 'Like what you see? Visit the ' +\n",
              "          '<a target=\"_blank\" href=https://colab.research.google.com/notebooks/data_table.ipynb>data table notebook</a>'\n",
              "          + ' to learn more about interactive tables.';\n",
              "        element.innerHTML = '';\n",
              "        dataTable['output_type'] = 'display_data';\n",
              "        await google.colab.output.renderOutput(dataTable, element);\n",
              "        const docLink = document.createElement('div');\n",
              "        docLink.innerHTML = docLinkHtml;\n",
              "        element.appendChild(docLink);\n",
              "      }\n",
              "    </script>\n",
              "  </div>\n",
              "\n",
              "\n",
              "<div id=\"df-b238da7e-6a63-4726-b654-e8008995a270\">\n",
              "  <button class=\"colab-df-quickchart\" onclick=\"quickchart('df-b238da7e-6a63-4726-b654-e8008995a270')\"\n",
              "            title=\"Suggest charts\"\n",
              "            style=\"display:none;\">\n",
              "\n",
              "<svg xmlns=\"http://www.w3.org/2000/svg\" height=\"24px\"viewBox=\"0 0 24 24\"\n",
              "     width=\"24px\">\n",
              "    <g>\n",
              "        <path d=\"M19 3H5c-1.1 0-2 .9-2 2v14c0 1.1.9 2 2 2h14c1.1 0 2-.9 2-2V5c0-1.1-.9-2-2-2zM9 17H7v-7h2v7zm4 0h-2V7h2v10zm4 0h-2v-4h2v4z\"/>\n",
              "    </g>\n",
              "</svg>\n",
              "  </button>\n",
              "\n",
              "<style>\n",
              "  .colab-df-quickchart {\n",
              "      --bg-color: #E8F0FE;\n",
              "      --fill-color: #1967D2;\n",
              "      --hover-bg-color: #E2EBFA;\n",
              "      --hover-fill-color: #174EA6;\n",
              "      --disabled-fill-color: #AAA;\n",
              "      --disabled-bg-color: #DDD;\n",
              "  }\n",
              "\n",
              "  [theme=dark] .colab-df-quickchart {\n",
              "      --bg-color: #3B4455;\n",
              "      --fill-color: #D2E3FC;\n",
              "      --hover-bg-color: #434B5C;\n",
              "      --hover-fill-color: #FFFFFF;\n",
              "      --disabled-bg-color: #3B4455;\n",
              "      --disabled-fill-color: #666;\n",
              "  }\n",
              "\n",
              "  .colab-df-quickchart {\n",
              "    background-color: var(--bg-color);\n",
              "    border: none;\n",
              "    border-radius: 50%;\n",
              "    cursor: pointer;\n",
              "    display: none;\n",
              "    fill: var(--fill-color);\n",
              "    height: 32px;\n",
              "    padding: 0;\n",
              "    width: 32px;\n",
              "  }\n",
              "\n",
              "  .colab-df-quickchart:hover {\n",
              "    background-color: var(--hover-bg-color);\n",
              "    box-shadow: 0 1px 2px rgba(60, 64, 67, 0.3), 0 1px 3px 1px rgba(60, 64, 67, 0.15);\n",
              "    fill: var(--button-hover-fill-color);\n",
              "  }\n",
              "\n",
              "  .colab-df-quickchart-complete:disabled,\n",
              "  .colab-df-quickchart-complete:disabled:hover {\n",
              "    background-color: var(--disabled-bg-color);\n",
              "    fill: var(--disabled-fill-color);\n",
              "    box-shadow: none;\n",
              "  }\n",
              "\n",
              "  .colab-df-spinner {\n",
              "    border: 2px solid var(--fill-color);\n",
              "    border-color: transparent;\n",
              "    border-bottom-color: var(--fill-color);\n",
              "    animation:\n",
              "      spin 1s steps(1) infinite;\n",
              "  }\n",
              "\n",
              "  @keyframes spin {\n",
              "    0% {\n",
              "      border-color: transparent;\n",
              "      border-bottom-color: var(--fill-color);\n",
              "      border-left-color: var(--fill-color);\n",
              "    }\n",
              "    20% {\n",
              "      border-color: transparent;\n",
              "      border-left-color: var(--fill-color);\n",
              "      border-top-color: var(--fill-color);\n",
              "    }\n",
              "    30% {\n",
              "      border-color: transparent;\n",
              "      border-left-color: var(--fill-color);\n",
              "      border-top-color: var(--fill-color);\n",
              "      border-right-color: var(--fill-color);\n",
              "    }\n",
              "    40% {\n",
              "      border-color: transparent;\n",
              "      border-right-color: var(--fill-color);\n",
              "      border-top-color: var(--fill-color);\n",
              "    }\n",
              "    60% {\n",
              "      border-color: transparent;\n",
              "      border-right-color: var(--fill-color);\n",
              "    }\n",
              "    80% {\n",
              "      border-color: transparent;\n",
              "      border-right-color: var(--fill-color);\n",
              "      border-bottom-color: var(--fill-color);\n",
              "    }\n",
              "    90% {\n",
              "      border-color: transparent;\n",
              "      border-bottom-color: var(--fill-color);\n",
              "    }\n",
              "  }\n",
              "</style>\n",
              "\n",
              "  <script>\n",
              "    async function quickchart(key) {\n",
              "      const quickchartButtonEl =\n",
              "        document.querySelector('#' + key + ' button');\n",
              "      quickchartButtonEl.disabled = true;  // To prevent multiple clicks.\n",
              "      quickchartButtonEl.classList.add('colab-df-spinner');\n",
              "      try {\n",
              "        const charts = await google.colab.kernel.invokeFunction(\n",
              "            'suggestCharts', [key], {});\n",
              "      } catch (error) {\n",
              "        console.error('Error during call to suggestCharts:', error);\n",
              "      }\n",
              "      quickchartButtonEl.classList.remove('colab-df-spinner');\n",
              "      quickchartButtonEl.classList.add('colab-df-quickchart-complete');\n",
              "    }\n",
              "    (() => {\n",
              "      let quickchartButtonEl =\n",
              "        document.querySelector('#df-b238da7e-6a63-4726-b654-e8008995a270 button');\n",
              "      quickchartButtonEl.style.display =\n",
              "        google.colab.kernel.accessAllowed ? 'block' : 'none';\n",
              "    })();\n",
              "  </script>\n",
              "</div>\n",
              "\n",
              "    </div>\n",
              "  </div>\n"
            ],
            "application/vnd.google.colaboratory.intrinsic+json": {
              "type": "dataframe",
              "summary": "{\n  \"name\": \"pd\",\n  \"rows\": 49,\n  \"fields\": [\n    {\n      \"column\": \"name\",\n      \"properties\": {\n        \"dtype\": \"string\",\n        \"num_unique_values\": 49,\n        \"samples\": [\n          \"Passionfruit\",\n          \"Japanese Persimmon\",\n          \"Annona\"\n        ],\n        \"semantic_type\": \"\",\n        \"description\": \"\"\n      }\n    },\n    {\n      \"column\": \"id\",\n      \"properties\": {\n        \"dtype\": \"number\",\n        \"std\": 32,\n        \"min\": 1,\n        \"max\": 104,\n        \"num_unique_values\": 49,\n        \"samples\": [\n          70,\n          101,\n          103\n        ],\n        \"semantic_type\": \"\",\n        \"description\": \"\"\n      }\n    },\n    {\n      \"column\": \"family\",\n      \"properties\": {\n        \"dtype\": \"string\",\n        \"num_unique_values\": 26,\n        \"samples\": [\n          \"Bromeliaceae\",\n          \"Cactaceae\",\n          \"Ebenaceae\"\n        ],\n        \"semantic_type\": \"\",\n        \"description\": \"\"\n      }\n    },\n    {\n      \"column\": \"order\",\n      \"properties\": {\n        \"dtype\": \"category\",\n        \"num_unique_values\": 20,\n        \"samples\": [\n          \"Rosales\",\n          \"Fagales\",\n          \"Myrtoideae\"\n        ],\n        \"semantic_type\": \"\",\n        \"description\": \"\"\n      }\n    },\n    {\n      \"column\": \"genus\",\n      \"properties\": {\n        \"dtype\": \"string\",\n        \"num_unique_values\": 36,\n        \"samples\": [\n          \"Dovyalis\",\n          \"Passiflora\",\n          \"Sellowiana\"\n        ],\n        \"semantic_type\": \"\",\n        \"description\": \"\"\n      }\n    },\n    {\n      \"column\": \"nutritions\",\n      \"properties\": {\n        \"dtype\": \"object\",\n        \"semantic_type\": \"\",\n        \"description\": \"\"\n      }\n    }\n  ]\n}"
            }
          },
          "metadata": {},
          "execution_count": 34
        }
      ]
    },
    {
      "cell_type": "markdown",
      "source": [
        "The result is in a nested json format. The 'nutrition' column contains multiple subcolumns, so the data needs to be 'flattened' or normalized.\n"
      ],
      "metadata": {
        "id": "FyN6Uczyx9ch"
      }
    },
    {
      "cell_type": "code",
      "source": [
        "df2 = pd.json_normalize(results)\n",
        "df2"
      ],
      "metadata": {
        "colab": {
          "base_uri": "https://localhost:8080/",
          "height": 1000
        },
        "id": "gwULMC28MRp-",
        "outputId": "e3176c27-749d-47f6-f56f-8927b6300eb7"
      },
      "execution_count": null,
      "outputs": [
        {
          "output_type": "execute_result",
          "data": {
            "text/plain": [
              "                  name   id           family             order         genus  \\\n",
              "0            Persimmon   52        Ebenaceae           Rosales     Diospyros   \n",
              "1           Strawberry    3         Rosaceae           Rosales      Fragaria   \n",
              "2               Banana    1         Musaceae      Zingiberales          Musa   \n",
              "3               Tomato    5       Solanaceae         Solanales       Solanum   \n",
              "4                 Pear    4         Rosaceae           Rosales         Pyrus   \n",
              "5               Durian   60        Malvaceae          Malvales         Durio   \n",
              "6           Blackberry   64         Rosaceae           Rosales         Rubus   \n",
              "7          Lingonberry   65        Ericaceae          Ericales     Vaccinium   \n",
              "8                 Kiwi   66    Actinidiaceae  Struthioniformes       Apteryx   \n",
              "9               Lychee   67      Sapindaceae        Sapindales        Litchi   \n",
              "10           Pineapple   10     Bromeliaceae            Poales        Ananas   \n",
              "11                 Fig   68         Moraceae           Rosales         Ficus   \n",
              "12          Gooseberry   69  Grossulariaceae      Saxifragales         Ribes   \n",
              "13        Passionfruit   70   Passifloraceae      Malpighiales    Passiflora   \n",
              "14                Plum   71         Rosaceae           Rosales        Prunus   \n",
              "15              Orange    2         Rutaceae        Sapindales        Citrus   \n",
              "16          GreenApple   72         Rosaceae           Rosales         Malus   \n",
              "17           Raspberry   23         Rosaceae           Rosales         Rubus   \n",
              "18          Watermelon   25    Cucurbitaceae      Cucurbitales     Citrullus   \n",
              "19               Lemon   26         Rutaceae        Sapindales        Citrus   \n",
              "20               Mango   27    Anacardiaceae        Sapindales     Mangifera   \n",
              "21           Blueberry   33         Rosaceae           Rosales      Fragaria   \n",
              "22               Apple    6         Rosaceae           Rosales         Malus   \n",
              "23               Guava   37        Myrtaceae          Myrtales       Psidium   \n",
              "24             Apricot   35         Rosaceae           Rosales        Prunus   \n",
              "25               Melon   41    Cucurbitaceae     Cucurbitaceae       Cucumis   \n",
              "26           Tangerine   77         Rutaceae        Sapindales        Citrus   \n",
              "27            Pitahaya   78        Cactaceae    Caryophyllales     Cactaceae   \n",
              "28                Lime   44         Rutaceae        Sapindales        Citrus   \n",
              "29         Pomegranate   79       Lythraceae          Myrtales        Punica   \n",
              "30         Dragonfruit   80        Cactaceae    Caryophyllales  Selenicereus   \n",
              "31               Grape   81         Vitaceae           Vitales         Vitis   \n",
              "32               Morus   82         Moraceae           Rosales         Morus   \n",
              "33              Feijoa   76        Myrtaceae        Myrtoideae    Sellowiana   \n",
              "34             Avocado   84        Lauraceae          Laurales        Persea   \n",
              "35           Kiwifruit   85    Actinidiaceae          Ericales     Actinidia   \n",
              "36           Cranberry   87        Ericaceae          Ericales     Vaccinium   \n",
              "37              Cherry    9         Rosaceae           Rosales        Prunus   \n",
              "38               Peach   86         Rosaceae           Rosales        Prunus   \n",
              "39           Jackfruit   94         Moraceae           Rosales    Artocarpus   \n",
              "40        Horned Melon   95    Cucurbitaceae      Cucurbitales       Cucumis   \n",
              "41            Hazelnut   96       Betulaceae           Fagales       Corylus   \n",
              "42              Pomelo   98         Rutaceae        Sapindales        Citrus   \n",
              "43          Mangosteen   99       Clusiaceae      Malpighiales      Garcinia   \n",
              "44             Pumpkin  100    Cucurbitaceae      Cucurbitales     Cucurbita   \n",
              "45  Japanese Persimmon  101        Ebenaceae          Ericales     Diospyros   \n",
              "46              Papaya   42       Caricaceae       Brassicales        Carica   \n",
              "47              Annona  103       Annonaceae           Rosales       Annonas   \n",
              "48   Ceylon Gooseberry  104       Salicaceae      Malpighiales      Dovyalis   \n",
              "\n",
              "    nutritions.calories  nutritions.fat  nutritions.sugar  \\\n",
              "0                    81            0.00             18.00   \n",
              "1                    29            0.40              5.40   \n",
              "2                    96            0.20             17.20   \n",
              "3                    74            0.20              2.60   \n",
              "4                    57            0.10             10.00   \n",
              "5                   147            5.30              6.75   \n",
              "6                    40            0.40              4.50   \n",
              "7                    50            0.34              5.74   \n",
              "8                    61            0.50              9.00   \n",
              "9                    66            0.44             15.00   \n",
              "10                   50            0.12              9.85   \n",
              "11                   74            0.30             16.00   \n",
              "12                   44            0.60              0.00   \n",
              "13                   97            0.70             11.20   \n",
              "14                   46            0.28              9.92   \n",
              "15                   43            0.20              8.20   \n",
              "16                   21            0.10              6.40   \n",
              "17                   53            0.70              4.40   \n",
              "18                   30            0.20              6.00   \n",
              "19                   29            0.30              2.50   \n",
              "20                   60            0.38             13.70   \n",
              "21                   29            0.40              5.40   \n",
              "22                   52            0.40             10.30   \n",
              "23                   68            1.00              9.00   \n",
              "24                   15            0.10              3.20   \n",
              "25                   34            0.00              8.00   \n",
              "26                   45            0.40              9.10   \n",
              "27                   36            0.40              3.00   \n",
              "28                   25            0.10              1.70   \n",
              "29                   83            1.20             13.70   \n",
              "30                   60            1.50              8.00   \n",
              "31                   69            0.16             16.00   \n",
              "32                   43            0.39              8.10   \n",
              "33                   44            0.40              3.00   \n",
              "34                  160           14.66              0.66   \n",
              "35                   61            0.50              8.90   \n",
              "36                   46            0.10              4.00   \n",
              "37                   50            0.30              8.00   \n",
              "38                   39            0.25              8.40   \n",
              "39                   95            0.00             19.10   \n",
              "40                   44            1.26              0.50   \n",
              "41                  628           61.00              4.30   \n",
              "42                   37            0.00              8.50   \n",
              "43                   73            0.58             16.11   \n",
              "44                   25            0.30              3.30   \n",
              "45                   70            0.20             13.00   \n",
              "46                   39            0.30              4.40   \n",
              "47                   92            0.29              3.40   \n",
              "48                   47            0.30              8.10   \n",
              "\n",
              "    nutritions.carbohydrates  nutritions.protein  \n",
              "0                      18.00                0.00  \n",
              "1                       5.50                0.80  \n",
              "2                      22.00                1.00  \n",
              "3                       3.90                0.90  \n",
              "4                      15.00                0.40  \n",
              "5                      27.10                1.50  \n",
              "6                       9.00                1.30  \n",
              "7                      11.30                0.75  \n",
              "8                      15.00                1.10  \n",
              "9                      17.00                0.80  \n",
              "10                     13.12                0.54  \n",
              "11                     19.00                0.80  \n",
              "12                     10.00                0.90  \n",
              "13                     22.40                2.20  \n",
              "14                     11.40                0.70  \n",
              "15                      8.30                1.00  \n",
              "16                      3.10                0.40  \n",
              "17                     12.00                1.20  \n",
              "18                      8.00                0.60  \n",
              "19                      9.00                1.10  \n",
              "20                     15.00                0.82  \n",
              "21                      5.50                0.00  \n",
              "22                     11.40                0.30  \n",
              "23                     14.00                2.60  \n",
              "24                      3.90                0.50  \n",
              "25                      8.00                0.00  \n",
              "26                      8.30                0.00  \n",
              "27                      7.00                1.00  \n",
              "28                      8.40                0.30  \n",
              "29                     18.70                1.70  \n",
              "30                      9.00                9.00  \n",
              "31                     18.10                0.72  \n",
              "32                      9.80                1.44  \n",
              "33                      8.00                0.60  \n",
              "34                      8.53                2.00  \n",
              "35                     14.60                1.14  \n",
              "36                     12.20                0.40  \n",
              "37                     12.00                1.00  \n",
              "38                      9.50                0.90  \n",
              "39                     23.20                1.72  \n",
              "40                      7.56                1.78  \n",
              "41                     17.00               15.00  \n",
              "42                      9.67                0.82  \n",
              "43                     17.91                0.41  \n",
              "44                      4.60                1.10  \n",
              "45                     19.00                0.60  \n",
              "46                      5.80                0.50  \n",
              "47                     19.10                1.50  \n",
              "48                      9.60                1.20  "
            ],
            "text/html": [
              "\n",
              "  <div id=\"df-f92de030-de42-4586-86c1-83e9ea8d3f19\" class=\"colab-df-container\">\n",
              "    <div>\n",
              "<style scoped>\n",
              "    .dataframe tbody tr th:only-of-type {\n",
              "        vertical-align: middle;\n",
              "    }\n",
              "\n",
              "    .dataframe tbody tr th {\n",
              "        vertical-align: top;\n",
              "    }\n",
              "\n",
              "    .dataframe thead th {\n",
              "        text-align: right;\n",
              "    }\n",
              "</style>\n",
              "<table border=\"1\" class=\"dataframe\">\n",
              "  <thead>\n",
              "    <tr style=\"text-align: right;\">\n",
              "      <th></th>\n",
              "      <th>name</th>\n",
              "      <th>id</th>\n",
              "      <th>family</th>\n",
              "      <th>order</th>\n",
              "      <th>genus</th>\n",
              "      <th>nutritions.calories</th>\n",
              "      <th>nutritions.fat</th>\n",
              "      <th>nutritions.sugar</th>\n",
              "      <th>nutritions.carbohydrates</th>\n",
              "      <th>nutritions.protein</th>\n",
              "    </tr>\n",
              "  </thead>\n",
              "  <tbody>\n",
              "    <tr>\n",
              "      <th>0</th>\n",
              "      <td>Persimmon</td>\n",
              "      <td>52</td>\n",
              "      <td>Ebenaceae</td>\n",
              "      <td>Rosales</td>\n",
              "      <td>Diospyros</td>\n",
              "      <td>81</td>\n",
              "      <td>0.00</td>\n",
              "      <td>18.00</td>\n",
              "      <td>18.00</td>\n",
              "      <td>0.00</td>\n",
              "    </tr>\n",
              "    <tr>\n",
              "      <th>1</th>\n",
              "      <td>Strawberry</td>\n",
              "      <td>3</td>\n",
              "      <td>Rosaceae</td>\n",
              "      <td>Rosales</td>\n",
              "      <td>Fragaria</td>\n",
              "      <td>29</td>\n",
              "      <td>0.40</td>\n",
              "      <td>5.40</td>\n",
              "      <td>5.50</td>\n",
              "      <td>0.80</td>\n",
              "    </tr>\n",
              "    <tr>\n",
              "      <th>2</th>\n",
              "      <td>Banana</td>\n",
              "      <td>1</td>\n",
              "      <td>Musaceae</td>\n",
              "      <td>Zingiberales</td>\n",
              "      <td>Musa</td>\n",
              "      <td>96</td>\n",
              "      <td>0.20</td>\n",
              "      <td>17.20</td>\n",
              "      <td>22.00</td>\n",
              "      <td>1.00</td>\n",
              "    </tr>\n",
              "    <tr>\n",
              "      <th>3</th>\n",
              "      <td>Tomato</td>\n",
              "      <td>5</td>\n",
              "      <td>Solanaceae</td>\n",
              "      <td>Solanales</td>\n",
              "      <td>Solanum</td>\n",
              "      <td>74</td>\n",
              "      <td>0.20</td>\n",
              "      <td>2.60</td>\n",
              "      <td>3.90</td>\n",
              "      <td>0.90</td>\n",
              "    </tr>\n",
              "    <tr>\n",
              "      <th>4</th>\n",
              "      <td>Pear</td>\n",
              "      <td>4</td>\n",
              "      <td>Rosaceae</td>\n",
              "      <td>Rosales</td>\n",
              "      <td>Pyrus</td>\n",
              "      <td>57</td>\n",
              "      <td>0.10</td>\n",
              "      <td>10.00</td>\n",
              "      <td>15.00</td>\n",
              "      <td>0.40</td>\n",
              "    </tr>\n",
              "    <tr>\n",
              "      <th>5</th>\n",
              "      <td>Durian</td>\n",
              "      <td>60</td>\n",
              "      <td>Malvaceae</td>\n",
              "      <td>Malvales</td>\n",
              "      <td>Durio</td>\n",
              "      <td>147</td>\n",
              "      <td>5.30</td>\n",
              "      <td>6.75</td>\n",
              "      <td>27.10</td>\n",
              "      <td>1.50</td>\n",
              "    </tr>\n",
              "    <tr>\n",
              "      <th>6</th>\n",
              "      <td>Blackberry</td>\n",
              "      <td>64</td>\n",
              "      <td>Rosaceae</td>\n",
              "      <td>Rosales</td>\n",
              "      <td>Rubus</td>\n",
              "      <td>40</td>\n",
              "      <td>0.40</td>\n",
              "      <td>4.50</td>\n",
              "      <td>9.00</td>\n",
              "      <td>1.30</td>\n",
              "    </tr>\n",
              "    <tr>\n",
              "      <th>7</th>\n",
              "      <td>Lingonberry</td>\n",
              "      <td>65</td>\n",
              "      <td>Ericaceae</td>\n",
              "      <td>Ericales</td>\n",
              "      <td>Vaccinium</td>\n",
              "      <td>50</td>\n",
              "      <td>0.34</td>\n",
              "      <td>5.74</td>\n",
              "      <td>11.30</td>\n",
              "      <td>0.75</td>\n",
              "    </tr>\n",
              "    <tr>\n",
              "      <th>8</th>\n",
              "      <td>Kiwi</td>\n",
              "      <td>66</td>\n",
              "      <td>Actinidiaceae</td>\n",
              "      <td>Struthioniformes</td>\n",
              "      <td>Apteryx</td>\n",
              "      <td>61</td>\n",
              "      <td>0.50</td>\n",
              "      <td>9.00</td>\n",
              "      <td>15.00</td>\n",
              "      <td>1.10</td>\n",
              "    </tr>\n",
              "    <tr>\n",
              "      <th>9</th>\n",
              "      <td>Lychee</td>\n",
              "      <td>67</td>\n",
              "      <td>Sapindaceae</td>\n",
              "      <td>Sapindales</td>\n",
              "      <td>Litchi</td>\n",
              "      <td>66</td>\n",
              "      <td>0.44</td>\n",
              "      <td>15.00</td>\n",
              "      <td>17.00</td>\n",
              "      <td>0.80</td>\n",
              "    </tr>\n",
              "    <tr>\n",
              "      <th>10</th>\n",
              "      <td>Pineapple</td>\n",
              "      <td>10</td>\n",
              "      <td>Bromeliaceae</td>\n",
              "      <td>Poales</td>\n",
              "      <td>Ananas</td>\n",
              "      <td>50</td>\n",
              "      <td>0.12</td>\n",
              "      <td>9.85</td>\n",
              "      <td>13.12</td>\n",
              "      <td>0.54</td>\n",
              "    </tr>\n",
              "    <tr>\n",
              "      <th>11</th>\n",
              "      <td>Fig</td>\n",
              "      <td>68</td>\n",
              "      <td>Moraceae</td>\n",
              "      <td>Rosales</td>\n",
              "      <td>Ficus</td>\n",
              "      <td>74</td>\n",
              "      <td>0.30</td>\n",
              "      <td>16.00</td>\n",
              "      <td>19.00</td>\n",
              "      <td>0.80</td>\n",
              "    </tr>\n",
              "    <tr>\n",
              "      <th>12</th>\n",
              "      <td>Gooseberry</td>\n",
              "      <td>69</td>\n",
              "      <td>Grossulariaceae</td>\n",
              "      <td>Saxifragales</td>\n",
              "      <td>Ribes</td>\n",
              "      <td>44</td>\n",
              "      <td>0.60</td>\n",
              "      <td>0.00</td>\n",
              "      <td>10.00</td>\n",
              "      <td>0.90</td>\n",
              "    </tr>\n",
              "    <tr>\n",
              "      <th>13</th>\n",
              "      <td>Passionfruit</td>\n",
              "      <td>70</td>\n",
              "      <td>Passifloraceae</td>\n",
              "      <td>Malpighiales</td>\n",
              "      <td>Passiflora</td>\n",
              "      <td>97</td>\n",
              "      <td>0.70</td>\n",
              "      <td>11.20</td>\n",
              "      <td>22.40</td>\n",
              "      <td>2.20</td>\n",
              "    </tr>\n",
              "    <tr>\n",
              "      <th>14</th>\n",
              "      <td>Plum</td>\n",
              "      <td>71</td>\n",
              "      <td>Rosaceae</td>\n",
              "      <td>Rosales</td>\n",
              "      <td>Prunus</td>\n",
              "      <td>46</td>\n",
              "      <td>0.28</td>\n",
              "      <td>9.92</td>\n",
              "      <td>11.40</td>\n",
              "      <td>0.70</td>\n",
              "    </tr>\n",
              "    <tr>\n",
              "      <th>15</th>\n",
              "      <td>Orange</td>\n",
              "      <td>2</td>\n",
              "      <td>Rutaceae</td>\n",
              "      <td>Sapindales</td>\n",
              "      <td>Citrus</td>\n",
              "      <td>43</td>\n",
              "      <td>0.20</td>\n",
              "      <td>8.20</td>\n",
              "      <td>8.30</td>\n",
              "      <td>1.00</td>\n",
              "    </tr>\n",
              "    <tr>\n",
              "      <th>16</th>\n",
              "      <td>GreenApple</td>\n",
              "      <td>72</td>\n",
              "      <td>Rosaceae</td>\n",
              "      <td>Rosales</td>\n",
              "      <td>Malus</td>\n",
              "      <td>21</td>\n",
              "      <td>0.10</td>\n",
              "      <td>6.40</td>\n",
              "      <td>3.10</td>\n",
              "      <td>0.40</td>\n",
              "    </tr>\n",
              "    <tr>\n",
              "      <th>17</th>\n",
              "      <td>Raspberry</td>\n",
              "      <td>23</td>\n",
              "      <td>Rosaceae</td>\n",
              "      <td>Rosales</td>\n",
              "      <td>Rubus</td>\n",
              "      <td>53</td>\n",
              "      <td>0.70</td>\n",
              "      <td>4.40</td>\n",
              "      <td>12.00</td>\n",
              "      <td>1.20</td>\n",
              "    </tr>\n",
              "    <tr>\n",
              "      <th>18</th>\n",
              "      <td>Watermelon</td>\n",
              "      <td>25</td>\n",
              "      <td>Cucurbitaceae</td>\n",
              "      <td>Cucurbitales</td>\n",
              "      <td>Citrullus</td>\n",
              "      <td>30</td>\n",
              "      <td>0.20</td>\n",
              "      <td>6.00</td>\n",
              "      <td>8.00</td>\n",
              "      <td>0.60</td>\n",
              "    </tr>\n",
              "    <tr>\n",
              "      <th>19</th>\n",
              "      <td>Lemon</td>\n",
              "      <td>26</td>\n",
              "      <td>Rutaceae</td>\n",
              "      <td>Sapindales</td>\n",
              "      <td>Citrus</td>\n",
              "      <td>29</td>\n",
              "      <td>0.30</td>\n",
              "      <td>2.50</td>\n",
              "      <td>9.00</td>\n",
              "      <td>1.10</td>\n",
              "    </tr>\n",
              "    <tr>\n",
              "      <th>20</th>\n",
              "      <td>Mango</td>\n",
              "      <td>27</td>\n",
              "      <td>Anacardiaceae</td>\n",
              "      <td>Sapindales</td>\n",
              "      <td>Mangifera</td>\n",
              "      <td>60</td>\n",
              "      <td>0.38</td>\n",
              "      <td>13.70</td>\n",
              "      <td>15.00</td>\n",
              "      <td>0.82</td>\n",
              "    </tr>\n",
              "    <tr>\n",
              "      <th>21</th>\n",
              "      <td>Blueberry</td>\n",
              "      <td>33</td>\n",
              "      <td>Rosaceae</td>\n",
              "      <td>Rosales</td>\n",
              "      <td>Fragaria</td>\n",
              "      <td>29</td>\n",
              "      <td>0.40</td>\n",
              "      <td>5.40</td>\n",
              "      <td>5.50</td>\n",
              "      <td>0.00</td>\n",
              "    </tr>\n",
              "    <tr>\n",
              "      <th>22</th>\n",
              "      <td>Apple</td>\n",
              "      <td>6</td>\n",
              "      <td>Rosaceae</td>\n",
              "      <td>Rosales</td>\n",
              "      <td>Malus</td>\n",
              "      <td>52</td>\n",
              "      <td>0.40</td>\n",
              "      <td>10.30</td>\n",
              "      <td>11.40</td>\n",
              "      <td>0.30</td>\n",
              "    </tr>\n",
              "    <tr>\n",
              "      <th>23</th>\n",
              "      <td>Guava</td>\n",
              "      <td>37</td>\n",
              "      <td>Myrtaceae</td>\n",
              "      <td>Myrtales</td>\n",
              "      <td>Psidium</td>\n",
              "      <td>68</td>\n",
              "      <td>1.00</td>\n",
              "      <td>9.00</td>\n",
              "      <td>14.00</td>\n",
              "      <td>2.60</td>\n",
              "    </tr>\n",
              "    <tr>\n",
              "      <th>24</th>\n",
              "      <td>Apricot</td>\n",
              "      <td>35</td>\n",
              "      <td>Rosaceae</td>\n",
              "      <td>Rosales</td>\n",
              "      <td>Prunus</td>\n",
              "      <td>15</td>\n",
              "      <td>0.10</td>\n",
              "      <td>3.20</td>\n",
              "      <td>3.90</td>\n",
              "      <td>0.50</td>\n",
              "    </tr>\n",
              "    <tr>\n",
              "      <th>25</th>\n",
              "      <td>Melon</td>\n",
              "      <td>41</td>\n",
              "      <td>Cucurbitaceae</td>\n",
              "      <td>Cucurbitaceae</td>\n",
              "      <td>Cucumis</td>\n",
              "      <td>34</td>\n",
              "      <td>0.00</td>\n",
              "      <td>8.00</td>\n",
              "      <td>8.00</td>\n",
              "      <td>0.00</td>\n",
              "    </tr>\n",
              "    <tr>\n",
              "      <th>26</th>\n",
              "      <td>Tangerine</td>\n",
              "      <td>77</td>\n",
              "      <td>Rutaceae</td>\n",
              "      <td>Sapindales</td>\n",
              "      <td>Citrus</td>\n",
              "      <td>45</td>\n",
              "      <td>0.40</td>\n",
              "      <td>9.10</td>\n",
              "      <td>8.30</td>\n",
              "      <td>0.00</td>\n",
              "    </tr>\n",
              "    <tr>\n",
              "      <th>27</th>\n",
              "      <td>Pitahaya</td>\n",
              "      <td>78</td>\n",
              "      <td>Cactaceae</td>\n",
              "      <td>Caryophyllales</td>\n",
              "      <td>Cactaceae</td>\n",
              "      <td>36</td>\n",
              "      <td>0.40</td>\n",
              "      <td>3.00</td>\n",
              "      <td>7.00</td>\n",
              "      <td>1.00</td>\n",
              "    </tr>\n",
              "    <tr>\n",
              "      <th>28</th>\n",
              "      <td>Lime</td>\n",
              "      <td>44</td>\n",
              "      <td>Rutaceae</td>\n",
              "      <td>Sapindales</td>\n",
              "      <td>Citrus</td>\n",
              "      <td>25</td>\n",
              "      <td>0.10</td>\n",
              "      <td>1.70</td>\n",
              "      <td>8.40</td>\n",
              "      <td>0.30</td>\n",
              "    </tr>\n",
              "    <tr>\n",
              "      <th>29</th>\n",
              "      <td>Pomegranate</td>\n",
              "      <td>79</td>\n",
              "      <td>Lythraceae</td>\n",
              "      <td>Myrtales</td>\n",
              "      <td>Punica</td>\n",
              "      <td>83</td>\n",
              "      <td>1.20</td>\n",
              "      <td>13.70</td>\n",
              "      <td>18.70</td>\n",
              "      <td>1.70</td>\n",
              "    </tr>\n",
              "    <tr>\n",
              "      <th>30</th>\n",
              "      <td>Dragonfruit</td>\n",
              "      <td>80</td>\n",
              "      <td>Cactaceae</td>\n",
              "      <td>Caryophyllales</td>\n",
              "      <td>Selenicereus</td>\n",
              "      <td>60</td>\n",
              "      <td>1.50</td>\n",
              "      <td>8.00</td>\n",
              "      <td>9.00</td>\n",
              "      <td>9.00</td>\n",
              "    </tr>\n",
              "    <tr>\n",
              "      <th>31</th>\n",
              "      <td>Grape</td>\n",
              "      <td>81</td>\n",
              "      <td>Vitaceae</td>\n",
              "      <td>Vitales</td>\n",
              "      <td>Vitis</td>\n",
              "      <td>69</td>\n",
              "      <td>0.16</td>\n",
              "      <td>16.00</td>\n",
              "      <td>18.10</td>\n",
              "      <td>0.72</td>\n",
              "    </tr>\n",
              "    <tr>\n",
              "      <th>32</th>\n",
              "      <td>Morus</td>\n",
              "      <td>82</td>\n",
              "      <td>Moraceae</td>\n",
              "      <td>Rosales</td>\n",
              "      <td>Morus</td>\n",
              "      <td>43</td>\n",
              "      <td>0.39</td>\n",
              "      <td>8.10</td>\n",
              "      <td>9.80</td>\n",
              "      <td>1.44</td>\n",
              "    </tr>\n",
              "    <tr>\n",
              "      <th>33</th>\n",
              "      <td>Feijoa</td>\n",
              "      <td>76</td>\n",
              "      <td>Myrtaceae</td>\n",
              "      <td>Myrtoideae</td>\n",
              "      <td>Sellowiana</td>\n",
              "      <td>44</td>\n",
              "      <td>0.40</td>\n",
              "      <td>3.00</td>\n",
              "      <td>8.00</td>\n",
              "      <td>0.60</td>\n",
              "    </tr>\n",
              "    <tr>\n",
              "      <th>34</th>\n",
              "      <td>Avocado</td>\n",
              "      <td>84</td>\n",
              "      <td>Lauraceae</td>\n",
              "      <td>Laurales</td>\n",
              "      <td>Persea</td>\n",
              "      <td>160</td>\n",
              "      <td>14.66</td>\n",
              "      <td>0.66</td>\n",
              "      <td>8.53</td>\n",
              "      <td>2.00</td>\n",
              "    </tr>\n",
              "    <tr>\n",
              "      <th>35</th>\n",
              "      <td>Kiwifruit</td>\n",
              "      <td>85</td>\n",
              "      <td>Actinidiaceae</td>\n",
              "      <td>Ericales</td>\n",
              "      <td>Actinidia</td>\n",
              "      <td>61</td>\n",
              "      <td>0.50</td>\n",
              "      <td>8.90</td>\n",
              "      <td>14.60</td>\n",
              "      <td>1.14</td>\n",
              "    </tr>\n",
              "    <tr>\n",
              "      <th>36</th>\n",
              "      <td>Cranberry</td>\n",
              "      <td>87</td>\n",
              "      <td>Ericaceae</td>\n",
              "      <td>Ericales</td>\n",
              "      <td>Vaccinium</td>\n",
              "      <td>46</td>\n",
              "      <td>0.10</td>\n",
              "      <td>4.00</td>\n",
              "      <td>12.20</td>\n",
              "      <td>0.40</td>\n",
              "    </tr>\n",
              "    <tr>\n",
              "      <th>37</th>\n",
              "      <td>Cherry</td>\n",
              "      <td>9</td>\n",
              "      <td>Rosaceae</td>\n",
              "      <td>Rosales</td>\n",
              "      <td>Prunus</td>\n",
              "      <td>50</td>\n",
              "      <td>0.30</td>\n",
              "      <td>8.00</td>\n",
              "      <td>12.00</td>\n",
              "      <td>1.00</td>\n",
              "    </tr>\n",
              "    <tr>\n",
              "      <th>38</th>\n",
              "      <td>Peach</td>\n",
              "      <td>86</td>\n",
              "      <td>Rosaceae</td>\n",
              "      <td>Rosales</td>\n",
              "      <td>Prunus</td>\n",
              "      <td>39</td>\n",
              "      <td>0.25</td>\n",
              "      <td>8.40</td>\n",
              "      <td>9.50</td>\n",
              "      <td>0.90</td>\n",
              "    </tr>\n",
              "    <tr>\n",
              "      <th>39</th>\n",
              "      <td>Jackfruit</td>\n",
              "      <td>94</td>\n",
              "      <td>Moraceae</td>\n",
              "      <td>Rosales</td>\n",
              "      <td>Artocarpus</td>\n",
              "      <td>95</td>\n",
              "      <td>0.00</td>\n",
              "      <td>19.10</td>\n",
              "      <td>23.20</td>\n",
              "      <td>1.72</td>\n",
              "    </tr>\n",
              "    <tr>\n",
              "      <th>40</th>\n",
              "      <td>Horned Melon</td>\n",
              "      <td>95</td>\n",
              "      <td>Cucurbitaceae</td>\n",
              "      <td>Cucurbitales</td>\n",
              "      <td>Cucumis</td>\n",
              "      <td>44</td>\n",
              "      <td>1.26</td>\n",
              "      <td>0.50</td>\n",
              "      <td>7.56</td>\n",
              "      <td>1.78</td>\n",
              "    </tr>\n",
              "    <tr>\n",
              "      <th>41</th>\n",
              "      <td>Hazelnut</td>\n",
              "      <td>96</td>\n",
              "      <td>Betulaceae</td>\n",
              "      <td>Fagales</td>\n",
              "      <td>Corylus</td>\n",
              "      <td>628</td>\n",
              "      <td>61.00</td>\n",
              "      <td>4.30</td>\n",
              "      <td>17.00</td>\n",
              "      <td>15.00</td>\n",
              "    </tr>\n",
              "    <tr>\n",
              "      <th>42</th>\n",
              "      <td>Pomelo</td>\n",
              "      <td>98</td>\n",
              "      <td>Rutaceae</td>\n",
              "      <td>Sapindales</td>\n",
              "      <td>Citrus</td>\n",
              "      <td>37</td>\n",
              "      <td>0.00</td>\n",
              "      <td>8.50</td>\n",
              "      <td>9.67</td>\n",
              "      <td>0.82</td>\n",
              "    </tr>\n",
              "    <tr>\n",
              "      <th>43</th>\n",
              "      <td>Mangosteen</td>\n",
              "      <td>99</td>\n",
              "      <td>Clusiaceae</td>\n",
              "      <td>Malpighiales</td>\n",
              "      <td>Garcinia</td>\n",
              "      <td>73</td>\n",
              "      <td>0.58</td>\n",
              "      <td>16.11</td>\n",
              "      <td>17.91</td>\n",
              "      <td>0.41</td>\n",
              "    </tr>\n",
              "    <tr>\n",
              "      <th>44</th>\n",
              "      <td>Pumpkin</td>\n",
              "      <td>100</td>\n",
              "      <td>Cucurbitaceae</td>\n",
              "      <td>Cucurbitales</td>\n",
              "      <td>Cucurbita</td>\n",
              "      <td>25</td>\n",
              "      <td>0.30</td>\n",
              "      <td>3.30</td>\n",
              "      <td>4.60</td>\n",
              "      <td>1.10</td>\n",
              "    </tr>\n",
              "    <tr>\n",
              "      <th>45</th>\n",
              "      <td>Japanese Persimmon</td>\n",
              "      <td>101</td>\n",
              "      <td>Ebenaceae</td>\n",
              "      <td>Ericales</td>\n",
              "      <td>Diospyros</td>\n",
              "      <td>70</td>\n",
              "      <td>0.20</td>\n",
              "      <td>13.00</td>\n",
              "      <td>19.00</td>\n",
              "      <td>0.60</td>\n",
              "    </tr>\n",
              "    <tr>\n",
              "      <th>46</th>\n",
              "      <td>Papaya</td>\n",
              "      <td>42</td>\n",
              "      <td>Caricaceae</td>\n",
              "      <td>Brassicales</td>\n",
              "      <td>Carica</td>\n",
              "      <td>39</td>\n",
              "      <td>0.30</td>\n",
              "      <td>4.40</td>\n",
              "      <td>5.80</td>\n",
              "      <td>0.50</td>\n",
              "    </tr>\n",
              "    <tr>\n",
              "      <th>47</th>\n",
              "      <td>Annona</td>\n",
              "      <td>103</td>\n",
              "      <td>Annonaceae</td>\n",
              "      <td>Rosales</td>\n",
              "      <td>Annonas</td>\n",
              "      <td>92</td>\n",
              "      <td>0.29</td>\n",
              "      <td>3.40</td>\n",
              "      <td>19.10</td>\n",
              "      <td>1.50</td>\n",
              "    </tr>\n",
              "    <tr>\n",
              "      <th>48</th>\n",
              "      <td>Ceylon Gooseberry</td>\n",
              "      <td>104</td>\n",
              "      <td>Salicaceae</td>\n",
              "      <td>Malpighiales</td>\n",
              "      <td>Dovyalis</td>\n",
              "      <td>47</td>\n",
              "      <td>0.30</td>\n",
              "      <td>8.10</td>\n",
              "      <td>9.60</td>\n",
              "      <td>1.20</td>\n",
              "    </tr>\n",
              "  </tbody>\n",
              "</table>\n",
              "</div>\n",
              "    <div class=\"colab-df-buttons\">\n",
              "\n",
              "  <div class=\"colab-df-container\">\n",
              "    <button class=\"colab-df-convert\" onclick=\"convertToInteractive('df-f92de030-de42-4586-86c1-83e9ea8d3f19')\"\n",
              "            title=\"Convert this dataframe to an interactive table.\"\n",
              "            style=\"display:none;\">\n",
              "\n",
              "  <svg xmlns=\"http://www.w3.org/2000/svg\" height=\"24px\" viewBox=\"0 -960 960 960\">\n",
              "    <path d=\"M120-120v-720h720v720H120Zm60-500h600v-160H180v160Zm220 220h160v-160H400v160Zm0 220h160v-160H400v160ZM180-400h160v-160H180v160Zm440 0h160v-160H620v160ZM180-180h160v-160H180v160Zm440 0h160v-160H620v160Z\"/>\n",
              "  </svg>\n",
              "    </button>\n",
              "\n",
              "  <style>\n",
              "    .colab-df-container {\n",
              "      display:flex;\n",
              "      gap: 12px;\n",
              "    }\n",
              "\n",
              "    .colab-df-convert {\n",
              "      background-color: #E8F0FE;\n",
              "      border: none;\n",
              "      border-radius: 50%;\n",
              "      cursor: pointer;\n",
              "      display: none;\n",
              "      fill: #1967D2;\n",
              "      height: 32px;\n",
              "      padding: 0 0 0 0;\n",
              "      width: 32px;\n",
              "    }\n",
              "\n",
              "    .colab-df-convert:hover {\n",
              "      background-color: #E2EBFA;\n",
              "      box-shadow: 0px 1px 2px rgba(60, 64, 67, 0.3), 0px 1px 3px 1px rgba(60, 64, 67, 0.15);\n",
              "      fill: #174EA6;\n",
              "    }\n",
              "\n",
              "    .colab-df-buttons div {\n",
              "      margin-bottom: 4px;\n",
              "    }\n",
              "\n",
              "    [theme=dark] .colab-df-convert {\n",
              "      background-color: #3B4455;\n",
              "      fill: #D2E3FC;\n",
              "    }\n",
              "\n",
              "    [theme=dark] .colab-df-convert:hover {\n",
              "      background-color: #434B5C;\n",
              "      box-shadow: 0px 1px 3px 1px rgba(0, 0, 0, 0.15);\n",
              "      filter: drop-shadow(0px 1px 2px rgba(0, 0, 0, 0.3));\n",
              "      fill: #FFFFFF;\n",
              "    }\n",
              "  </style>\n",
              "\n",
              "    <script>\n",
              "      const buttonEl =\n",
              "        document.querySelector('#df-f92de030-de42-4586-86c1-83e9ea8d3f19 button.colab-df-convert');\n",
              "      buttonEl.style.display =\n",
              "        google.colab.kernel.accessAllowed ? 'block' : 'none';\n",
              "\n",
              "      async function convertToInteractive(key) {\n",
              "        const element = document.querySelector('#df-f92de030-de42-4586-86c1-83e9ea8d3f19');\n",
              "        const dataTable =\n",
              "          await google.colab.kernel.invokeFunction('convertToInteractive',\n",
              "                                                    [key], {});\n",
              "        if (!dataTable) return;\n",
              "\n",
              "        const docLinkHtml = 'Like what you see? Visit the ' +\n",
              "          '<a target=\"_blank\" href=https://colab.research.google.com/notebooks/data_table.ipynb>data table notebook</a>'\n",
              "          + ' to learn more about interactive tables.';\n",
              "        element.innerHTML = '';\n",
              "        dataTable['output_type'] = 'display_data';\n",
              "        await google.colab.output.renderOutput(dataTable, element);\n",
              "        const docLink = document.createElement('div');\n",
              "        docLink.innerHTML = docLinkHtml;\n",
              "        element.appendChild(docLink);\n",
              "      }\n",
              "    </script>\n",
              "  </div>\n",
              "\n",
              "\n",
              "<div id=\"df-411c5ac2-9f4a-4d75-ac36-7d1e26828b51\">\n",
              "  <button class=\"colab-df-quickchart\" onclick=\"quickchart('df-411c5ac2-9f4a-4d75-ac36-7d1e26828b51')\"\n",
              "            title=\"Suggest charts\"\n",
              "            style=\"display:none;\">\n",
              "\n",
              "<svg xmlns=\"http://www.w3.org/2000/svg\" height=\"24px\"viewBox=\"0 0 24 24\"\n",
              "     width=\"24px\">\n",
              "    <g>\n",
              "        <path d=\"M19 3H5c-1.1 0-2 .9-2 2v14c0 1.1.9 2 2 2h14c1.1 0 2-.9 2-2V5c0-1.1-.9-2-2-2zM9 17H7v-7h2v7zm4 0h-2V7h2v10zm4 0h-2v-4h2v4z\"/>\n",
              "    </g>\n",
              "</svg>\n",
              "  </button>\n",
              "\n",
              "<style>\n",
              "  .colab-df-quickchart {\n",
              "      --bg-color: #E8F0FE;\n",
              "      --fill-color: #1967D2;\n",
              "      --hover-bg-color: #E2EBFA;\n",
              "      --hover-fill-color: #174EA6;\n",
              "      --disabled-fill-color: #AAA;\n",
              "      --disabled-bg-color: #DDD;\n",
              "  }\n",
              "\n",
              "  [theme=dark] .colab-df-quickchart {\n",
              "      --bg-color: #3B4455;\n",
              "      --fill-color: #D2E3FC;\n",
              "      --hover-bg-color: #434B5C;\n",
              "      --hover-fill-color: #FFFFFF;\n",
              "      --disabled-bg-color: #3B4455;\n",
              "      --disabled-fill-color: #666;\n",
              "  }\n",
              "\n",
              "  .colab-df-quickchart {\n",
              "    background-color: var(--bg-color);\n",
              "    border: none;\n",
              "    border-radius: 50%;\n",
              "    cursor: pointer;\n",
              "    display: none;\n",
              "    fill: var(--fill-color);\n",
              "    height: 32px;\n",
              "    padding: 0;\n",
              "    width: 32px;\n",
              "  }\n",
              "\n",
              "  .colab-df-quickchart:hover {\n",
              "    background-color: var(--hover-bg-color);\n",
              "    box-shadow: 0 1px 2px rgba(60, 64, 67, 0.3), 0 1px 3px 1px rgba(60, 64, 67, 0.15);\n",
              "    fill: var(--button-hover-fill-color);\n",
              "  }\n",
              "\n",
              "  .colab-df-quickchart-complete:disabled,\n",
              "  .colab-df-quickchart-complete:disabled:hover {\n",
              "    background-color: var(--disabled-bg-color);\n",
              "    fill: var(--disabled-fill-color);\n",
              "    box-shadow: none;\n",
              "  }\n",
              "\n",
              "  .colab-df-spinner {\n",
              "    border: 2px solid var(--fill-color);\n",
              "    border-color: transparent;\n",
              "    border-bottom-color: var(--fill-color);\n",
              "    animation:\n",
              "      spin 1s steps(1) infinite;\n",
              "  }\n",
              "\n",
              "  @keyframes spin {\n",
              "    0% {\n",
              "      border-color: transparent;\n",
              "      border-bottom-color: var(--fill-color);\n",
              "      border-left-color: var(--fill-color);\n",
              "    }\n",
              "    20% {\n",
              "      border-color: transparent;\n",
              "      border-left-color: var(--fill-color);\n",
              "      border-top-color: var(--fill-color);\n",
              "    }\n",
              "    30% {\n",
              "      border-color: transparent;\n",
              "      border-left-color: var(--fill-color);\n",
              "      border-top-color: var(--fill-color);\n",
              "      border-right-color: var(--fill-color);\n",
              "    }\n",
              "    40% {\n",
              "      border-color: transparent;\n",
              "      border-right-color: var(--fill-color);\n",
              "      border-top-color: var(--fill-color);\n",
              "    }\n",
              "    60% {\n",
              "      border-color: transparent;\n",
              "      border-right-color: var(--fill-color);\n",
              "    }\n",
              "    80% {\n",
              "      border-color: transparent;\n",
              "      border-right-color: var(--fill-color);\n",
              "      border-bottom-color: var(--fill-color);\n",
              "    }\n",
              "    90% {\n",
              "      border-color: transparent;\n",
              "      border-bottom-color: var(--fill-color);\n",
              "    }\n",
              "  }\n",
              "</style>\n",
              "\n",
              "  <script>\n",
              "    async function quickchart(key) {\n",
              "      const quickchartButtonEl =\n",
              "        document.querySelector('#' + key + ' button');\n",
              "      quickchartButtonEl.disabled = true;  // To prevent multiple clicks.\n",
              "      quickchartButtonEl.classList.add('colab-df-spinner');\n",
              "      try {\n",
              "        const charts = await google.colab.kernel.invokeFunction(\n",
              "            'suggestCharts', [key], {});\n",
              "      } catch (error) {\n",
              "        console.error('Error during call to suggestCharts:', error);\n",
              "      }\n",
              "      quickchartButtonEl.classList.remove('colab-df-spinner');\n",
              "      quickchartButtonEl.classList.add('colab-df-quickchart-complete');\n",
              "    }\n",
              "    (() => {\n",
              "      let quickchartButtonEl =\n",
              "        document.querySelector('#df-411c5ac2-9f4a-4d75-ac36-7d1e26828b51 button');\n",
              "      quickchartButtonEl.style.display =\n",
              "        google.colab.kernel.accessAllowed ? 'block' : 'none';\n",
              "    })();\n",
              "  </script>\n",
              "</div>\n",
              "\n",
              "  <div id=\"id_0d8bd315-b994-466b-b33a-7130eee4af79\">\n",
              "    <style>\n",
              "      .colab-df-generate {\n",
              "        background-color: #E8F0FE;\n",
              "        border: none;\n",
              "        border-radius: 50%;\n",
              "        cursor: pointer;\n",
              "        display: none;\n",
              "        fill: #1967D2;\n",
              "        height: 32px;\n",
              "        padding: 0 0 0 0;\n",
              "        width: 32px;\n",
              "      }\n",
              "\n",
              "      .colab-df-generate:hover {\n",
              "        background-color: #E2EBFA;\n",
              "        box-shadow: 0px 1px 2px rgba(60, 64, 67, 0.3), 0px 1px 3px 1px rgba(60, 64, 67, 0.15);\n",
              "        fill: #174EA6;\n",
              "      }\n",
              "\n",
              "      [theme=dark] .colab-df-generate {\n",
              "        background-color: #3B4455;\n",
              "        fill: #D2E3FC;\n",
              "      }\n",
              "\n",
              "      [theme=dark] .colab-df-generate:hover {\n",
              "        background-color: #434B5C;\n",
              "        box-shadow: 0px 1px 3px 1px rgba(0, 0, 0, 0.15);\n",
              "        filter: drop-shadow(0px 1px 2px rgba(0, 0, 0, 0.3));\n",
              "        fill: #FFFFFF;\n",
              "      }\n",
              "    </style>\n",
              "    <button class=\"colab-df-generate\" onclick=\"generateWithVariable('df2')\"\n",
              "            title=\"Generate code using this dataframe.\"\n",
              "            style=\"display:none;\">\n",
              "\n",
              "  <svg xmlns=\"http://www.w3.org/2000/svg\" height=\"24px\"viewBox=\"0 0 24 24\"\n",
              "       width=\"24px\">\n",
              "    <path d=\"M7,19H8.4L18.45,9,17,7.55,7,17.6ZM5,21V16.75L18.45,3.32a2,2,0,0,1,2.83,0l1.4,1.43a1.91,1.91,0,0,1,.58,1.4,1.91,1.91,0,0,1-.58,1.4L9.25,21ZM18.45,9,17,7.55Zm-12,3A5.31,5.31,0,0,0,4.9,8.1,5.31,5.31,0,0,0,1,6.5,5.31,5.31,0,0,0,4.9,4.9,5.31,5.31,0,0,0,6.5,1,5.31,5.31,0,0,0,8.1,4.9,5.31,5.31,0,0,0,12,6.5,5.46,5.46,0,0,0,6.5,12Z\"/>\n",
              "  </svg>\n",
              "    </button>\n",
              "    <script>\n",
              "      (() => {\n",
              "      const buttonEl =\n",
              "        document.querySelector('#id_0d8bd315-b994-466b-b33a-7130eee4af79 button.colab-df-generate');\n",
              "      buttonEl.style.display =\n",
              "        google.colab.kernel.accessAllowed ? 'block' : 'none';\n",
              "\n",
              "      buttonEl.onclick = () => {\n",
              "        google.colab.notebook.generateWithVariable('df2');\n",
              "      }\n",
              "      })();\n",
              "    </script>\n",
              "  </div>\n",
              "\n",
              "    </div>\n",
              "  </div>\n"
            ],
            "application/vnd.google.colaboratory.intrinsic+json": {
              "type": "dataframe",
              "variable_name": "df2",
              "summary": "{\n  \"name\": \"df2\",\n  \"rows\": 49,\n  \"fields\": [\n    {\n      \"column\": \"name\",\n      \"properties\": {\n        \"dtype\": \"string\",\n        \"num_unique_values\": 49,\n        \"samples\": [\n          \"Passionfruit\",\n          \"Japanese Persimmon\",\n          \"Annona\"\n        ],\n        \"semantic_type\": \"\",\n        \"description\": \"\"\n      }\n    },\n    {\n      \"column\": \"id\",\n      \"properties\": {\n        \"dtype\": \"number\",\n        \"std\": 32,\n        \"min\": 1,\n        \"max\": 104,\n        \"num_unique_values\": 49,\n        \"samples\": [\n          70,\n          101,\n          103\n        ],\n        \"semantic_type\": \"\",\n        \"description\": \"\"\n      }\n    },\n    {\n      \"column\": \"family\",\n      \"properties\": {\n        \"dtype\": \"string\",\n        \"num_unique_values\": 26,\n        \"samples\": [\n          \"Bromeliaceae\",\n          \"Cactaceae\",\n          \"Ebenaceae\"\n        ],\n        \"semantic_type\": \"\",\n        \"description\": \"\"\n      }\n    },\n    {\n      \"column\": \"order\",\n      \"properties\": {\n        \"dtype\": \"category\",\n        \"num_unique_values\": 20,\n        \"samples\": [\n          \"Rosales\",\n          \"Fagales\",\n          \"Myrtoideae\"\n        ],\n        \"semantic_type\": \"\",\n        \"description\": \"\"\n      }\n    },\n    {\n      \"column\": \"genus\",\n      \"properties\": {\n        \"dtype\": \"string\",\n        \"num_unique_values\": 36,\n        \"samples\": [\n          \"Dovyalis\",\n          \"Passiflora\",\n          \"Sellowiana\"\n        ],\n        \"semantic_type\": \"\",\n        \"description\": \"\"\n      }\n    },\n    {\n      \"column\": \"nutritions.calories\",\n      \"properties\": {\n        \"dtype\": \"number\",\n        \"std\": 86,\n        \"min\": 15,\n        \"max\": 628,\n        \"num_unique_values\": 36,\n        \"samples\": [\n          47,\n          43,\n          69\n        ],\n        \"semantic_type\": \"\",\n        \"description\": \"\"\n      }\n    },\n    {\n      \"column\": \"nutritions.fat\",\n      \"properties\": {\n        \"dtype\": \"number\",\n        \"std\": 8.872052356146467,\n        \"min\": 0.0,\n        \"max\": 61.0,\n        \"num_unique_values\": 25,\n        \"samples\": [\n          0.12,\n          1.5,\n          0.0\n        ],\n        \"semantic_type\": \"\",\n        \"description\": \"\"\n      }\n    },\n    {\n      \"column\": \"nutritions.sugar\",\n      \"properties\": {\n        \"dtype\": \"number\",\n        \"std\": 4.9071635388071835,\n        \"min\": 0.0,\n        \"max\": 19.1,\n        \"num_unique_values\": 40,\n        \"samples\": [\n          2.5,\n          6.4,\n          8.2\n        ],\n        \"semantic_type\": \"\",\n        \"description\": \"\"\n      }\n    },\n    {\n      \"column\": \"nutritions.carbohydrates\",\n      \"properties\": {\n        \"dtype\": \"number\",\n        \"std\": 5.6617705564013585,\n        \"min\": 3.1,\n        \"max\": 27.1,\n        \"num_unique_values\": 36,\n        \"samples\": [\n          9.6,\n          11.4,\n          12.2\n        ],\n        \"semantic_type\": \"\",\n        \"description\": \"\"\n      }\n    },\n    {\n      \"column\": \"nutritions.protein\",\n      \"properties\": {\n        \"dtype\": \"number\",\n        \"std\": 2.36702051944122,\n        \"min\": 0.0,\n        \"max\": 15.0,\n        \"num_unique_values\": 28,\n        \"samples\": [\n          0.54,\n          1.78,\n          1.1\n        ],\n        \"semantic_type\": \"\",\n        \"description\": \"\"\n      }\n    }\n  ]\n}"
            }
          },
          "metadata": {},
          "execution_count": 35
        }
      ]
    },
    {
      "cell_type": "markdown",
      "source": [
        "we need to know the family and genus of a cherry"
      ],
      "metadata": {
        "id": "MvSmWqa8yAks"
      }
    },
    {
      "cell_type": "code",
      "source": [
        "result= df2.loc[df2['name']==\"Cherry\",['family','genus']]\n",
        "result"
      ],
      "metadata": {
        "colab": {
          "base_uri": "https://localhost:8080/",
          "height": 89
        },
        "id": "pluWkjc1jk7-",
        "outputId": "853f57fb-d0b0-46b4-8ffb-e800b8a15e66"
      },
      "execution_count": null,
      "outputs": [
        {
          "output_type": "execute_result",
          "data": {
            "text/plain": [
              "      family   genus\n",
              "37  Rosaceae  Prunus"
            ],
            "text/html": [
              "\n",
              "  <div id=\"df-a38e6760-db1e-4d63-9514-1c62f11b0393\" class=\"colab-df-container\">\n",
              "    <div>\n",
              "<style scoped>\n",
              "    .dataframe tbody tr th:only-of-type {\n",
              "        vertical-align: middle;\n",
              "    }\n",
              "\n",
              "    .dataframe tbody tr th {\n",
              "        vertical-align: top;\n",
              "    }\n",
              "\n",
              "    .dataframe thead th {\n",
              "        text-align: right;\n",
              "    }\n",
              "</style>\n",
              "<table border=\"1\" class=\"dataframe\">\n",
              "  <thead>\n",
              "    <tr style=\"text-align: right;\">\n",
              "      <th></th>\n",
              "      <th>family</th>\n",
              "      <th>genus</th>\n",
              "    </tr>\n",
              "  </thead>\n",
              "  <tbody>\n",
              "    <tr>\n",
              "      <th>37</th>\n",
              "      <td>Rosaceae</td>\n",
              "      <td>Prunus</td>\n",
              "    </tr>\n",
              "  </tbody>\n",
              "</table>\n",
              "</div>\n",
              "    <div class=\"colab-df-buttons\">\n",
              "\n",
              "  <div class=\"colab-df-container\">\n",
              "    <button class=\"colab-df-convert\" onclick=\"convertToInteractive('df-a38e6760-db1e-4d63-9514-1c62f11b0393')\"\n",
              "            title=\"Convert this dataframe to an interactive table.\"\n",
              "            style=\"display:none;\">\n",
              "\n",
              "  <svg xmlns=\"http://www.w3.org/2000/svg\" height=\"24px\" viewBox=\"0 -960 960 960\">\n",
              "    <path d=\"M120-120v-720h720v720H120Zm60-500h600v-160H180v160Zm220 220h160v-160H400v160Zm0 220h160v-160H400v160ZM180-400h160v-160H180v160Zm440 0h160v-160H620v160ZM180-180h160v-160H180v160Zm440 0h160v-160H620v160Z\"/>\n",
              "  </svg>\n",
              "    </button>\n",
              "\n",
              "  <style>\n",
              "    .colab-df-container {\n",
              "      display:flex;\n",
              "      gap: 12px;\n",
              "    }\n",
              "\n",
              "    .colab-df-convert {\n",
              "      background-color: #E8F0FE;\n",
              "      border: none;\n",
              "      border-radius: 50%;\n",
              "      cursor: pointer;\n",
              "      display: none;\n",
              "      fill: #1967D2;\n",
              "      height: 32px;\n",
              "      padding: 0 0 0 0;\n",
              "      width: 32px;\n",
              "    }\n",
              "\n",
              "    .colab-df-convert:hover {\n",
              "      background-color: #E2EBFA;\n",
              "      box-shadow: 0px 1px 2px rgba(60, 64, 67, 0.3), 0px 1px 3px 1px rgba(60, 64, 67, 0.15);\n",
              "      fill: #174EA6;\n",
              "    }\n",
              "\n",
              "    .colab-df-buttons div {\n",
              "      margin-bottom: 4px;\n",
              "    }\n",
              "\n",
              "    [theme=dark] .colab-df-convert {\n",
              "      background-color: #3B4455;\n",
              "      fill: #D2E3FC;\n",
              "    }\n",
              "\n",
              "    [theme=dark] .colab-df-convert:hover {\n",
              "      background-color: #434B5C;\n",
              "      box-shadow: 0px 1px 3px 1px rgba(0, 0, 0, 0.15);\n",
              "      filter: drop-shadow(0px 1px 2px rgba(0, 0, 0, 0.3));\n",
              "      fill: #FFFFFF;\n",
              "    }\n",
              "  </style>\n",
              "\n",
              "    <script>\n",
              "      const buttonEl =\n",
              "        document.querySelector('#df-a38e6760-db1e-4d63-9514-1c62f11b0393 button.colab-df-convert');\n",
              "      buttonEl.style.display =\n",
              "        google.colab.kernel.accessAllowed ? 'block' : 'none';\n",
              "\n",
              "      async function convertToInteractive(key) {\n",
              "        const element = document.querySelector('#df-a38e6760-db1e-4d63-9514-1c62f11b0393');\n",
              "        const dataTable =\n",
              "          await google.colab.kernel.invokeFunction('convertToInteractive',\n",
              "                                                    [key], {});\n",
              "        if (!dataTable) return;\n",
              "\n",
              "        const docLinkHtml = 'Like what you see? Visit the ' +\n",
              "          '<a target=\"_blank\" href=https://colab.research.google.com/notebooks/data_table.ipynb>data table notebook</a>'\n",
              "          + ' to learn more about interactive tables.';\n",
              "        element.innerHTML = '';\n",
              "        dataTable['output_type'] = 'display_data';\n",
              "        await google.colab.output.renderOutput(dataTable, element);\n",
              "        const docLink = document.createElement('div');\n",
              "        docLink.innerHTML = docLinkHtml;\n",
              "        element.appendChild(docLink);\n",
              "      }\n",
              "    </script>\n",
              "  </div>\n",
              "\n",
              "\n",
              "  <div id=\"id_b61dfe22-7010-4e13-9d6a-9ed87796a5c8\">\n",
              "    <style>\n",
              "      .colab-df-generate {\n",
              "        background-color: #E8F0FE;\n",
              "        border: none;\n",
              "        border-radius: 50%;\n",
              "        cursor: pointer;\n",
              "        display: none;\n",
              "        fill: #1967D2;\n",
              "        height: 32px;\n",
              "        padding: 0 0 0 0;\n",
              "        width: 32px;\n",
              "      }\n",
              "\n",
              "      .colab-df-generate:hover {\n",
              "        background-color: #E2EBFA;\n",
              "        box-shadow: 0px 1px 2px rgba(60, 64, 67, 0.3), 0px 1px 3px 1px rgba(60, 64, 67, 0.15);\n",
              "        fill: #174EA6;\n",
              "      }\n",
              "\n",
              "      [theme=dark] .colab-df-generate {\n",
              "        background-color: #3B4455;\n",
              "        fill: #D2E3FC;\n",
              "      }\n",
              "\n",
              "      [theme=dark] .colab-df-generate:hover {\n",
              "        background-color: #434B5C;\n",
              "        box-shadow: 0px 1px 3px 1px rgba(0, 0, 0, 0.15);\n",
              "        filter: drop-shadow(0px 1px 2px rgba(0, 0, 0, 0.3));\n",
              "        fill: #FFFFFF;\n",
              "      }\n",
              "    </style>\n",
              "    <button class=\"colab-df-generate\" onclick=\"generateWithVariable('result')\"\n",
              "            title=\"Generate code using this dataframe.\"\n",
              "            style=\"display:none;\">\n",
              "\n",
              "  <svg xmlns=\"http://www.w3.org/2000/svg\" height=\"24px\"viewBox=\"0 0 24 24\"\n",
              "       width=\"24px\">\n",
              "    <path d=\"M7,19H8.4L18.45,9,17,7.55,7,17.6ZM5,21V16.75L18.45,3.32a2,2,0,0,1,2.83,0l1.4,1.43a1.91,1.91,0,0,1,.58,1.4,1.91,1.91,0,0,1-.58,1.4L9.25,21ZM18.45,9,17,7.55Zm-12,3A5.31,5.31,0,0,0,4.9,8.1,5.31,5.31,0,0,0,1,6.5,5.31,5.31,0,0,0,4.9,4.9,5.31,5.31,0,0,0,6.5,1,5.31,5.31,0,0,0,8.1,4.9,5.31,5.31,0,0,0,12,6.5,5.46,5.46,0,0,0,6.5,12Z\"/>\n",
              "  </svg>\n",
              "    </button>\n",
              "    <script>\n",
              "      (() => {\n",
              "      const buttonEl =\n",
              "        document.querySelector('#id_b61dfe22-7010-4e13-9d6a-9ed87796a5c8 button.colab-df-generate');\n",
              "      buttonEl.style.display =\n",
              "        google.colab.kernel.accessAllowed ? 'block' : 'none';\n",
              "\n",
              "      buttonEl.onclick = () => {\n",
              "        google.colab.notebook.generateWithVariable('result');\n",
              "      }\n",
              "      })();\n",
              "    </script>\n",
              "  </div>\n",
              "\n",
              "    </div>\n",
              "  </div>\n"
            ],
            "application/vnd.google.colaboratory.intrinsic+json": {
              "type": "dataframe",
              "variable_name": "result",
              "summary": "{\n  \"name\": \"result\",\n  \"rows\": 1,\n  \"fields\": [\n    {\n      \"column\": \"family\",\n      \"properties\": {\n        \"dtype\": \"string\",\n        \"num_unique_values\": 1,\n        \"samples\": [\n          \"Rosaceae\"\n        ],\n        \"semantic_type\": \"\",\n        \"description\": \"\"\n      }\n    },\n    {\n      \"column\": \"genus\",\n      \"properties\": {\n        \"dtype\": \"string\",\n        \"num_unique_values\": 1,\n        \"samples\": [\n          \"Prunus\"\n        ],\n        \"semantic_type\": \"\",\n        \"description\": \"\"\n      }\n    }\n  ]\n}"
            }
          },
          "metadata": {},
          "execution_count": 36
        }
      ]
    },
    {
      "cell_type": "code",
      "source": [
        "banana_cal = df2.loc[df2['name']=='Banana', ['nutritions.calories']]\n",
        "banana_cal.iloc[0,0]"
      ],
      "metadata": {
        "colab": {
          "base_uri": "https://localhost:8080/"
        },
        "id": "1eZ_sf7VfiQe",
        "outputId": "d62acc38-5ee7-46b6-9289-379a63ea512f"
      },
      "execution_count": null,
      "outputs": [
        {
          "output_type": "execute_result",
          "data": {
            "text/plain": [
              "96"
            ]
          },
          "metadata": {},
          "execution_count": 37
        }
      ]
    },
    {
      "cell_type": "code",
      "source": [
        "cal_banana = df2.loc[df2[\"name\"] == 'Banana']\n",
        "cal_banana.iloc[0]['nutritions.calories']"
      ],
      "metadata": {
        "colab": {
          "base_uri": "https://localhost:8080/"
        },
        "id": "iYw7KPy4fzMP",
        "outputId": "32857ce2-5e4f-4a6b-99d7-e6523d8a60fc"
      },
      "execution_count": null,
      "outputs": [
        {
          "output_type": "execute_result",
          "data": {
            "text/plain": [
              "96"
            ]
          },
          "metadata": {},
          "execution_count": 38
        }
      ]
    },
    {
      "cell_type": "markdown",
      "source": [
        "# Extracting data from HTML file using \"Beautiful Soup\""
      ],
      "metadata": {
        "id": "5LL6KL618DjF"
      }
    },
    {
      "cell_type": "code",
      "source": [
        "!pip install requests pandas html5lib"
      ],
      "metadata": {
        "colab": {
          "base_uri": "https://localhost:8080/"
        },
        "id": "NMIFwotdpmTr",
        "outputId": "f053b07c-ddf0-4d7d-e22d-224287b2fee8"
      },
      "execution_count": null,
      "outputs": [
        {
          "output_type": "stream",
          "name": "stdout",
          "text": [
            "Requirement already satisfied: requests in /usr/local/lib/python3.10/dist-packages (2.32.3)\n",
            "Requirement already satisfied: pandas in /usr/local/lib/python3.10/dist-packages (2.2.2)\n",
            "Requirement already satisfied: html5lib in /usr/local/lib/python3.10/dist-packages (1.1)\n",
            "Requirement already satisfied: charset-normalizer<4,>=2 in /usr/local/lib/python3.10/dist-packages (from requests) (3.4.0)\n",
            "Requirement already satisfied: idna<4,>=2.5 in /usr/local/lib/python3.10/dist-packages (from requests) (3.10)\n",
            "Requirement already satisfied: urllib3<3,>=1.21.1 in /usr/local/lib/python3.10/dist-packages (from requests) (2.2.3)\n",
            "Requirement already satisfied: certifi>=2017.4.17 in /usr/local/lib/python3.10/dist-packages (from requests) (2024.12.14)\n",
            "Requirement already satisfied: numpy>=1.22.4 in /usr/local/lib/python3.10/dist-packages (from pandas) (1.26.4)\n",
            "Requirement already satisfied: python-dateutil>=2.8.2 in /usr/local/lib/python3.10/dist-packages (from pandas) (2.8.2)\n",
            "Requirement already satisfied: pytz>=2020.1 in /usr/local/lib/python3.10/dist-packages (from pandas) (2024.2)\n",
            "Requirement already satisfied: tzdata>=2022.7 in /usr/local/lib/python3.10/dist-packages (from pandas) (2024.2)\n",
            "Requirement already satisfied: six>=1.9 in /usr/local/lib/python3.10/dist-packages (from html5lib) (1.17.0)\n",
            "Requirement already satisfied: webencodings in /usr/local/lib/python3.10/dist-packages (from html5lib) (0.5.1)\n"
          ]
        }
      ]
    },
    {
      "cell_type": "markdown",
      "source": [
        "given the html file:"
      ],
      "metadata": {
        "id": "DBM_HYHN8iAj"
      }
    },
    {
      "cell_type": "code",
      "source": [
        "from bs4 import BeautifulSoup"
      ],
      "metadata": {
        "id": "Ip0uTx9b-ZWL"
      },
      "execution_count": null,
      "outputs": []
    },
    {
      "cell_type": "code",
      "source": [
        "%%html\n",
        "<!DOCTYPE html>\n",
        "<html>\n",
        "<head>\n",
        "<title>Page Title</title>\n",
        "</head>\n",
        "<body>\n",
        "<h3><b id='boldest'>Lebron James</b></h3>\n",
        "<p> Salary: $ 92,000,000 </p>\n",
        "<h3> Stephen Curry</h3>\n",
        "<p> Salary: $85,000, 000 </p>\n",
        "<h3> Kevin Durant </h3>\n",
        "<p> Salary: $73,200, 000</p>\n",
        "</body>\n",
        "</html>"
      ],
      "metadata": {
        "colab": {
          "base_uri": "https://localhost:8080/",
          "height": 203
        },
        "id": "vo-zAyEH8Ua_",
        "outputId": "a68fd5c7-6ff1-48e6-d49e-aadc09242105"
      },
      "execution_count": null,
      "outputs": [
        {
          "output_type": "display_data",
          "data": {
            "text/plain": [
              "<IPython.core.display.HTML object>"
            ],
            "text/html": [
              "<!DOCTYPE html>\n",
              "<html>\n",
              "<head>\n",
              "<title>Page Title</title>\n",
              "</head>\n",
              "<body>\n",
              "<h3><b id='boldest'>Lebron James</b></h3>\n",
              "<p> Salary: $ 92,000,000 </p>\n",
              "<h3> Stephen Curry</h3>\n",
              "<p> Salary: $85,000, 000 </p>\n",
              "<h3> Kevin Durant </h3>\n",
              "<p> Salary: $73,200, 000</p>\n",
              "</body>\n",
              "</html>\n"
            ]
          },
          "metadata": {}
        }
      ]
    },
    {
      "cell_type": "code",
      "source": [
        "html = \"<!DOCTYPE html><html><head><title>Page Title</title></head><body><h3><b id='boldest'>Lebron James</b></h3><p> Salary: $ 92,000,000 </p><h3> Stephen Curry</h3><p> Salary: $85,000, 000 </p><h3> Kevin Durant </h3><p> Salary: $73,200, 000</p></body></html>\"\n",
        "# for parse the doc we use beautiful soup class\n",
        "soup = BeautifulSoup(html, \"html5lib\")"
      ],
      "metadata": {
        "id": "ExMBlLKc9Bnw"
      },
      "execution_count": null,
      "outputs": []
    },
    {
      "cell_type": "code",
      "source": [
        "print(soup.prettify())"
      ],
      "metadata": {
        "colab": {
          "base_uri": "https://localhost:8080/"
        },
        "id": "cdaYtfsZ9teb",
        "outputId": "45cedb3f-371d-43be-e4cb-b5a7fce99281"
      },
      "execution_count": null,
      "outputs": [
        {
          "output_type": "stream",
          "name": "stdout",
          "text": [
            "<!DOCTYPE html>\n",
            "<html>\n",
            " <head>\n",
            "  <title>\n",
            "   Page Title\n",
            "  </title>\n",
            " </head>\n",
            " <body>\n",
            "  <h3>\n",
            "   <b id=\"boldest\">\n",
            "    Lebron James\n",
            "   </b>\n",
            "  </h3>\n",
            "  <p>\n",
            "   Salary: $ 92,000,000\n",
            "  </p>\n",
            "  <h3>\n",
            "   Stephen Curry\n",
            "  </h3>\n",
            "  <p>\n",
            "   Salary: $85,000, 000\n",
            "  </p>\n",
            "  <h3>\n",
            "   Kevin Durant\n",
            "  </h3>\n",
            "  <p>\n",
            "   Salary: $73,200, 000\n",
            "  </p>\n",
            " </body>\n",
            "</html>\n",
            "\n"
          ]
        }
      ]
    },
    {
      "cell_type": "code",
      "source": [
        "# tag\n",
        "print('title in text:' , soup.title.text)\n",
        "print('title:' , soup.title)"
      ],
      "metadata": {
        "colab": {
          "base_uri": "https://localhost:8080/"
        },
        "id": "gyCDdYGtDtEm",
        "outputId": "0e3fba45-5edd-4402-f8bd-76bb69a8d185"
      },
      "execution_count": null,
      "outputs": [
        {
          "output_type": "stream",
          "name": "stdout",
          "text": [
            "title in text: Page Title\n",
            "title: <title>Page Title</title>\n"
          ]
        }
      ]
    },
    {
      "cell_type": "code",
      "source": [
        "print(type(soup.title))"
      ],
      "metadata": {
        "colab": {
          "base_uri": "https://localhost:8080/"
        },
        "id": "g-FatBXbDz4a",
        "outputId": "61182db8-b34c-4f96-ee9a-5c7aecec3c5d"
      },
      "execution_count": null,
      "outputs": [
        {
          "output_type": "stream",
          "name": "stdout",
          "text": [
            "<class 'bs4.element.Tag'>\n"
          ]
        }
      ]
    },
    {
      "cell_type": "code",
      "source": [
        "# tag\n",
        "tag_object=soup.h3\n",
        "tag_object\n",
        "print(\"tag h3:\",soup.h3.text)"
      ],
      "metadata": {
        "colab": {
          "base_uri": "https://localhost:8080/"
        },
        "id": "XUb0fymdWAv9",
        "outputId": "0e2b108a-a8b9-4068-d36e-b5dcdd375d93"
      },
      "execution_count": null,
      "outputs": [
        {
          "output_type": "stream",
          "name": "stdout",
          "text": [
            "tag h3: Lebron James\n"
          ]
        }
      ]
    },
    {
      "cell_type": "code",
      "source": [
        "# child\n",
        "tag_child =tag_object.b\n",
        "tag_child"
      ],
      "metadata": {
        "colab": {
          "base_uri": "https://localhost:8080/"
        },
        "id": "Qly8ceQ4XWdY",
        "outputId": "55639d24-c3f2-4a09-88ed-43bf71fa88f6"
      },
      "execution_count": null,
      "outputs": [
        {
          "output_type": "execute_result",
          "data": {
            "text/plain": [
              "<b id=\"boldest\">Lebron James</b>"
            ]
          },
          "metadata": {},
          "execution_count": 47
        }
      ]
    },
    {
      "cell_type": "code",
      "source": [
        "# parents\n",
        "parent_tag=tag_child.parent\n",
        "parent_tag"
      ],
      "metadata": {
        "colab": {
          "base_uri": "https://localhost:8080/"
        },
        "id": "aZeHqm1Nl8d_",
        "outputId": "88030cc0-e06f-436f-8537-6dcfde787d4f"
      },
      "execution_count": null,
      "outputs": [
        {
          "output_type": "execute_result",
          "data": {
            "text/plain": [
              "<h3><b id=\"boldest\">Lebron James</b></h3>"
            ]
          },
          "metadata": {},
          "execution_count": 48
        }
      ]
    },
    {
      "cell_type": "code",
      "source": [
        "# sibling\n",
        "sibling_1=tag_object.next_sibling\n",
        "sibling_1"
      ],
      "metadata": {
        "colab": {
          "base_uri": "https://localhost:8080/"
        },
        "id": "g_iNnwOMoHnM",
        "outputId": "087e862a-ebcb-4d9b-e8fe-961b9083e0ce"
      },
      "execution_count": null,
      "outputs": [
        {
          "output_type": "execute_result",
          "data": {
            "text/plain": [
              "<p> Salary: $ 92,000,000 </p>"
            ]
          },
          "metadata": {},
          "execution_count": 49
        }
      ]
    },
    {
      "cell_type": "code",
      "source": [
        "# value of an attribute\n",
        "tag_child['id']"
      ],
      "metadata": {
        "colab": {
          "base_uri": "https://localhost:8080/",
          "height": 35
        },
        "id": "QNQEnwitoNj8",
        "outputId": "ad1dc064-e98c-451d-c795-b89734cc2fba"
      },
      "execution_count": null,
      "outputs": [
        {
          "output_type": "execute_result",
          "data": {
            "text/plain": [
              "'boldest'"
            ],
            "application/vnd.google.colaboratory.intrinsic+json": {
              "type": "string"
            }
          },
          "metadata": {},
          "execution_count": 50
        }
      ]
    },
    {
      "cell_type": "code",
      "source": [
        "tag_child.get('id')"
      ],
      "metadata": {
        "colab": {
          "base_uri": "https://localhost:8080/",
          "height": 35
        },
        "id": "b_j6dsXSoick",
        "outputId": "4b172e98-8a74-4d30-a3b5-719b78c2da00"
      },
      "execution_count": null,
      "outputs": [
        {
          "output_type": "execute_result",
          "data": {
            "text/plain": [
              "'boldest'"
            ],
            "application/vnd.google.colaboratory.intrinsic+json": {
              "type": "string"
            }
          },
          "metadata": {},
          "execution_count": 51
        }
      ]
    },
    {
      "cell_type": "code",
      "source": [
        "# gets all attributes\n",
        "tag_child.attrs"
      ],
      "metadata": {
        "colab": {
          "base_uri": "https://localhost:8080/"
        },
        "id": "PoD83N4ppEA2",
        "outputId": "4af7f459-451f-4671-a4d6-deea1fd7bcff"
      },
      "execution_count": null,
      "outputs": [
        {
          "output_type": "execute_result",
          "data": {
            "text/plain": [
              "{'id': 'boldest'}"
            ]
          },
          "metadata": {},
          "execution_count": 52
        }
      ]
    },
    {
      "cell_type": "code",
      "source": [
        "tag_string=tag_child.string\n",
        "tag_string"
      ],
      "metadata": {
        "colab": {
          "base_uri": "https://localhost:8080/",
          "height": 35
        },
        "id": "eXZo6V1lpMWC",
        "outputId": "9e1e58ce-9a02-4526-a06b-552b4f0ce59c"
      },
      "execution_count": null,
      "outputs": [
        {
          "output_type": "execute_result",
          "data": {
            "text/plain": [
              "'Lebron James'"
            ],
            "application/vnd.google.colaboratory.intrinsic+json": {
              "type": "string"
            }
          },
          "metadata": {},
          "execution_count": 53
        }
      ]
    },
    {
      "cell_type": "code",
      "source": [
        "type(tag_string)"
      ],
      "metadata": {
        "colab": {
          "base_uri": "https://localhost:8080/"
        },
        "id": "z9M1Ok8AIknS",
        "outputId": "63411bbd-337d-4291-c964-7bad2046af3e"
      },
      "execution_count": null,
      "outputs": [
        {
          "output_type": "execute_result",
          "data": {
            "text/plain": [
              "bs4.element.NavigableString"
            ]
          },
          "metadata": {},
          "execution_count": 54
        }
      ]
    },
    {
      "cell_type": "code",
      "source": [
        "unicode_string = str(tag_string)\n",
        "unicode_string"
      ],
      "metadata": {
        "colab": {
          "base_uri": "https://localhost:8080/",
          "height": 35
        },
        "id": "DP4wikXGI6G3",
        "outputId": "1bfc3c7a-5c67-4462-bd1e-39250e45ecb4"
      },
      "execution_count": null,
      "outputs": [
        {
          "output_type": "execute_result",
          "data": {
            "text/plain": [
              "'Lebron James'"
            ],
            "application/vnd.google.colaboratory.intrinsic+json": {
              "type": "string"
            }
          },
          "metadata": {},
          "execution_count": 55
        }
      ]
    },
    {
      "cell_type": "code",
      "source": [
        "type(unicode_string)"
      ],
      "metadata": {
        "colab": {
          "base_uri": "https://localhost:8080/"
        },
        "id": "tIs8Hl__I8kS",
        "outputId": "b5ee56d9-4278-4e32-a1ed-50d73ae1572a"
      },
      "execution_count": null,
      "outputs": [
        {
          "output_type": "execute_result",
          "data": {
            "text/plain": [
              "str"
            ]
          },
          "metadata": {},
          "execution_count": 56
        }
      ]
    },
    {
      "cell_type": "code",
      "source": [
        "%%html\n",
        "<table>\n",
        "  <tr>\n",
        "    <td id='flight' >Flight No</td>\n",
        "    <td>Launch site</td>\n",
        "    <td>Payload mass</td>\n",
        "   </tr>\n",
        "  <tr>\n",
        "    <td>1</td>\n",
        "    <td><a href='https://en.wikipedia.org/wiki/Florida'>Florida</a></td>\n",
        "    <td>300 kg</td>\n",
        "  </tr>\n",
        "  <tr>\n",
        "    <td>2</td>\n",
        "    <td><a href='https://en.wikipedia.org/wiki/Texas'>Texas</a></td>\n",
        "    <td>94 kg</td>\n",
        "  </tr>\n",
        "  <tr>\n",
        "    <td>3</td>\n",
        "    <td><a href='https://en.wikipedia.org/wiki/Florida'>Florida<a> </td>\n",
        "    <td>80 kg</td>\n",
        "  </tr>\n",
        "</table>"
      ],
      "metadata": {
        "colab": {
          "base_uri": "https://localhost:8080/",
          "height": 104
        },
        "id": "z1ok4RtJJDNp",
        "outputId": "3eb63933-c1ed-4f45-c9b0-1d02e826723b"
      },
      "execution_count": null,
      "outputs": [
        {
          "output_type": "display_data",
          "data": {
            "text/plain": [
              "<IPython.core.display.HTML object>"
            ],
            "text/html": [
              "<table>\n",
              "  <tr>\n",
              "    <td id='flight' >Flight No</td>\n",
              "    <td>Launch site</td>\n",
              "    <td>Payload mass</td>\n",
              "   </tr>\n",
              "  <tr>\n",
              "    <td>1</td>\n",
              "    <td><a href='https://en.wikipedia.org/wiki/Florida'>Florida</a></td>\n",
              "    <td>300 kg</td>\n",
              "  </tr>\n",
              "  <tr>\n",
              "    <td>2</td>\n",
              "    <td><a href='https://en.wikipedia.org/wiki/Texas'>Texas</a></td>\n",
              "    <td>94 kg</td>\n",
              "  </tr>\n",
              "  <tr>\n",
              "    <td>3</td>\n",
              "    <td><a href='https://en.wikipedia.org/wiki/Florida'>Florida<a> </td>\n",
              "    <td>80 kg</td>\n",
              "  </tr>\n",
              "</table>\n"
            ]
          },
          "metadata": {}
        }
      ]
    },
    {
      "cell_type": "code",
      "source": [
        "table=\"<table><tr><td id='flight'>Flight No</td><td>Launch site</td> <td>Payload mass</td></tr><tr> <td>1</td><td><a href='https://en.wikipedia.org/wiki/Florida'>Florida<a></td><td>300 kg</td></tr><tr><td>2</td><td><a href='https://en.wikipedia.org/wiki/Texas'>Texas</a></td><td>94 kg</td></tr><tr><td>3</td><td><a href='https://en.wikipedia.org/wiki/Florida'>Florida<a> </td><td>80 kg</td></tr></table>\""
      ],
      "metadata": {
        "id": "-Ob16BDKJvXi"
      },
      "execution_count": null,
      "outputs": []
    },
    {
      "cell_type": "code",
      "source": [
        "table_BS= BeautifulSoup(table, 'html5lib')"
      ],
      "metadata": {
        "id": "SOdZ_UuiJ5OE"
      },
      "execution_count": null,
      "outputs": []
    },
    {
      "cell_type": "code",
      "source": [
        "rows=table_BS.find_all(\"tr\")\n",
        "for i, row in enumerate(rows):\n",
        "  print(\"row\" , i , \"is\", row)"
      ],
      "metadata": {
        "colab": {
          "base_uri": "https://localhost:8080/"
        },
        "id": "TyaCvekNgQ2R",
        "outputId": "c6ec7d59-420d-4a2c-fcdb-a21252f73289"
      },
      "execution_count": null,
      "outputs": [
        {
          "output_type": "stream",
          "name": "stdout",
          "text": [
            "row 0 is <tr><td id=\"flight\">Flight No</td><td>Launch site</td> <td>Payload mass</td></tr>\n",
            "row 1 is <tr> <td>1</td><td><a href=\"https://en.wikipedia.org/wiki/Florida\">Florida</a><a></a></td><td>300 kg</td></tr>\n",
            "row 2 is <tr><td>2</td><td><a href=\"https://en.wikipedia.org/wiki/Texas\">Texas</a></td><td>94 kg</td></tr>\n",
            "row 3 is <tr><td>3</td><td><a href=\"https://en.wikipedia.org/wiki/Florida\">Florida</a><a> </a></td><td>80 kg</td></tr>\n"
          ]
        }
      ]
    },
    {
      "cell_type": "code",
      "source": [
        "for i, row in enumerate(rows):\n",
        "  print(\"row\", i,\":\")\n",
        "  for j, cell in enumerate(row.find_all(\"td\")):\n",
        "    print(\"cell\" , j , \"is:\", cell)"
      ],
      "metadata": {
        "colab": {
          "base_uri": "https://localhost:8080/"
        },
        "id": "ar5hM4Yxg2sf",
        "outputId": "f24cb71b-6681-417c-8cc2-cc7d45d9ae9c"
      },
      "execution_count": null,
      "outputs": [
        {
          "output_type": "stream",
          "name": "stdout",
          "text": [
            "row 0 :\n",
            "cell 0 is: <td id=\"flight\">Flight No</td>\n",
            "cell 1 is: <td>Launch site</td>\n",
            "cell 2 is: <td>Payload mass</td>\n",
            "row 1 :\n",
            "cell 0 is: <td>1</td>\n",
            "cell 1 is: <td><a href=\"https://en.wikipedia.org/wiki/Florida\">Florida</a><a></a></td>\n",
            "cell 2 is: <td>300 kg</td>\n",
            "row 2 :\n",
            "cell 0 is: <td>2</td>\n",
            "cell 1 is: <td><a href=\"https://en.wikipedia.org/wiki/Texas\">Texas</a></td>\n",
            "cell 2 is: <td>94 kg</td>\n",
            "row 3 :\n",
            "cell 0 is: <td>3</td>\n",
            "cell 1 is: <td><a href=\"https://en.wikipedia.org/wiki/Florida\">Florida</a><a> </a></td>\n",
            "cell 2 is: <td>80 kg</td>\n"
          ]
        }
      ]
    },
    {
      "cell_type": "code",
      "source": [
        "table_BS.find_all(id=\"flight\")"
      ],
      "metadata": {
        "colab": {
          "base_uri": "https://localhost:8080/"
        },
        "id": "wxKQnLTuWvDu",
        "outputId": "c7733cc0-3623-4cf4-8c50-b5d6407f792d"
      },
      "execution_count": null,
      "outputs": [
        {
          "output_type": "execute_result",
          "data": {
            "text/plain": [
              "[<td id=\"flight\">Flight No</td>]"
            ]
          },
          "metadata": {},
          "execution_count": 73
        }
      ]
    },
    {
      "cell_type": "code",
      "source": [
        "list_input=table_BS.find_all(href=\"https://en.wikipedia.org/wiki/Texas\")\n",
        "list_input"
      ],
      "metadata": {
        "colab": {
          "base_uri": "https://localhost:8080/"
        },
        "id": "W-WWJYpdZZNa",
        "outputId": "0544f5e4-c872-46ec-9936-e50aeab5103c"
      },
      "execution_count": null,
      "outputs": [
        {
          "output_type": "execute_result",
          "data": {
            "text/plain": [
              "[<a href=\"https://en.wikipedia.org/wiki/Texas\">Texas</a>]"
            ]
          },
          "metadata": {},
          "execution_count": 69
        }
      ]
    },
    {
      "cell_type": "code",
      "source": [
        "table_BS.find_all(href=True)"
      ],
      "metadata": {
        "colab": {
          "base_uri": "https://localhost:8080/"
        },
        "id": "m9FT9M09a6_g",
        "outputId": "78d6019b-2b07-4be5-90ae-767ff32992fe"
      },
      "execution_count": null,
      "outputs": [
        {
          "output_type": "execute_result",
          "data": {
            "text/plain": [
              "[<a href=\"https://en.wikipedia.org/wiki/Florida\">Florida</a>,\n",
              " <a href=\"https://en.wikipedia.org/wiki/Texas\">Texas</a>,\n",
              " <a href=\"https://en.wikipedia.org/wiki/Florida\">Florida</a>]"
            ]
          },
          "metadata": {},
          "execution_count": 70
        }
      ]
    },
    {
      "cell_type": "code",
      "source": [
        "# find_all --> name, string, attr, href, ...\n",
        "table_BS.find_all(string=\"Florida\")"
      ],
      "metadata": {
        "colab": {
          "base_uri": "https://localhost:8080/"
        },
        "id": "7Hac7SD8eHel",
        "outputId": "ff91f335-3856-4c83-b1d8-8279a8eb724f"
      },
      "execution_count": null,
      "outputs": [
        {
          "output_type": "execute_result",
          "data": {
            "text/plain": [
              "['Florida', 'Florida']"
            ]
          },
          "metadata": {},
          "execution_count": 74
        }
      ]
    },
    {
      "cell_type": "code",
      "source": [
        "%%html\n",
        "<h1><b>Rocket Launch</b> </h1>\n",
        "\n",
        "<p>\n",
        "<table class='rocket'>\n",
        "  <tr>\n",
        "    <td>Flight No</td>\n",
        "    <td>Launch site</td>\n",
        "    <td>Payload mass</td>\n",
        "  </tr>\n",
        "  <tr>\n",
        "    <td>1</td>\n",
        "    <td>Florida</td>\n",
        "    <td>300 kg</td>\n",
        "  </tr>\n",
        "  <tr>\n",
        "    <td>2</td>\n",
        "    <td>Texas</td>\n",
        "    <td>94 kg</td>\n",
        "  </tr>\n",
        "  <tr>\n",
        "    <td>3</td>\n",
        "    <td>Florida </td>\n",
        "    <td>80 kg</td>\n",
        "  </tr>\n",
        "</table>\n",
        "</p>\n",
        "<p>\n",
        "\n",
        "<h3>Pizza Party  </h3>\n",
        "\n",
        "\n",
        "<table class='pizza'>\n",
        "  <tr>\n",
        "    <td>Pizza Place</td>\n",
        "    <td>Orders</td>\n",
        "    <td>Slices </td>\n",
        "   </tr>\n",
        "  <tr>\n",
        "    <td>Domino's Pizza</td>\n",
        "    <td>10</td>\n",
        "    <td>100</td>\n",
        "  </tr>\n",
        "  <tr>\n",
        "    <td>Little Caesars</td>\n",
        "    <td>12</td>\n",
        "    <td >144 </td>\n",
        "  </tr>\n",
        "  <tr>\n",
        "    <td>Papa John's </td>\n",
        "    <td>15 </td>\n",
        "    <td>165</td>\n",
        "  </tr>\n"
      ],
      "metadata": {
        "colab": {
          "base_uri": "https://localhost:8080/",
          "height": 292
        },
        "id": "wSgo_lzoiKxt",
        "outputId": "e7ace5f6-099f-4518-f674-fb6ba434ce8c"
      },
      "execution_count": null,
      "outputs": [
        {
          "output_type": "display_data",
          "data": {
            "text/plain": [
              "<IPython.core.display.HTML object>"
            ],
            "text/html": [
              "<h1><b>Rocket Launch</b> </h1>\n",
              "\n",
              "<p>\n",
              "<table class='rocket'>\n",
              "  <tr>\n",
              "    <td>Flight No</td>\n",
              "    <td>Launch site</td> \n",
              "    <td>Payload mass</td>\n",
              "  </tr>\n",
              "  <tr>\n",
              "    <td>1</td>\n",
              "    <td>Florida</td>\n",
              "    <td>300 kg</td>\n",
              "  </tr>\n",
              "  <tr>\n",
              "    <td>2</td>\n",
              "    <td>Texas</td>\n",
              "    <td>94 kg</td>\n",
              "  </tr>\n",
              "  <tr>\n",
              "    <td>3</td>\n",
              "    <td>Florida </td>\n",
              "    <td>80 kg</td>\n",
              "  </tr>\n",
              "</table>\n",
              "</p>\n",
              "<p>\n",
              "\n",
              "<h3>Pizza Party  </h3>\n",
              "  \n",
              "    \n",
              "<table class='pizza'>\n",
              "  <tr>\n",
              "    <td>Pizza Place</td>\n",
              "    <td>Orders</td> \n",
              "    <td>Slices </td>\n",
              "   </tr>\n",
              "  <tr>\n",
              "    <td>Domino's Pizza</td>\n",
              "    <td>10</td>\n",
              "    <td>100</td>\n",
              "  </tr>\n",
              "  <tr>\n",
              "    <td>Little Caesars</td>\n",
              "    <td>12</td>\n",
              "    <td >144 </td>\n",
              "  </tr>\n",
              "  <tr>\n",
              "    <td>Papa John's </td>\n",
              "    <td>15 </td>\n",
              "    <td>165</td>\n",
              "  </tr>\n"
            ]
          },
          "metadata": {}
        }
      ]
    },
    {
      "cell_type": "code",
      "source": [
        "two_tables=\"<h1><b>Rocket Launch </b></h1><p><table class='rocket'><tr><td>Flight No</td><td>Launch site</td> <td>Payload mass</td></tr><tr><td>1</td><td>Florida</td><td>300 kg</td></tr><tr><td>2</td><td>Texas</td><td>94 kg</td></tr><tr><td>3</td><td>Florida </td><td>80 kg</td></tr></table></p><p><h3>Pizza Party  </h3><table class='pizza'><tr><td>Pizza Place</td><td>Orders</td> <td>Slices </td></tr><tr><td>Domino's Pizza</td><td>10</td><td>100</td></tr><tr><td>Little Caesars</td><td>12</td><td >144 </td></tr><tr><td>Papa John's </td><td>15 </td><td>165</td></tr>\""
      ],
      "metadata": {
        "id": "x1AyZkhPi1tl"
      },
      "execution_count": null,
      "outputs": []
    },
    {
      "cell_type": "code",
      "source": [
        "two_tables_bs= BeautifulSoup(two_tables, 'html.parser')"
      ],
      "metadata": {
        "id": "Bq3varigi27Y"
      },
      "execution_count": null,
      "outputs": []
    },
    {
      "cell_type": "code",
      "source": [
        "two_tables_bs.find(\"table\")"
      ],
      "metadata": {
        "colab": {
          "base_uri": "https://localhost:8080/"
        },
        "id": "_Bq2wG52jSLe",
        "outputId": "7e90bd61-6cab-4c4b-8286-a2dd2405c8f5"
      },
      "execution_count": null,
      "outputs": [
        {
          "output_type": "execute_result",
          "data": {
            "text/plain": [
              "<table class=\"rocket\"><tr><td>Flight No</td><td>Launch site</td> <td>Payload mass</td></tr><tr><td>1</td><td>Florida</td><td>300 kg</td></tr><tr><td>2</td><td>Texas</td><td>94 kg</td></tr><tr><td>3</td><td>Florida </td><td>80 kg</td></tr></table>"
            ]
          },
          "metadata": {},
          "execution_count": 87
        }
      ]
    },
    {
      "cell_type": "code",
      "source": [
        "two_tables_bs.find(\"table\",class_='pizza')"
      ],
      "metadata": {
        "colab": {
          "base_uri": "https://localhost:8080/"
        },
        "id": "yDMV3OjCjiQr",
        "outputId": "5855c79f-eed7-4817-85cd-c932d453e69d"
      },
      "execution_count": null,
      "outputs": [
        {
          "output_type": "execute_result",
          "data": {
            "text/plain": [
              "<table class=\"pizza\"><tr><td>Pizza Place</td><td>Orders</td> <td>Slices </td></tr><tr><td>Domino's Pizza</td><td>10</td><td>100</td></tr><tr><td>Little Caesars</td><td>12</td><td>144 </td></tr><tr><td>Papa John's </td><td>15 </td><td>165</td></tr></table>"
            ]
          },
          "metadata": {},
          "execution_count": 88
        }
      ]
    },
    {
      "cell_type": "markdown",
      "source": [
        "# **Downloading And Scraping The Contents Of A Web Page**"
      ],
      "metadata": {
        "id": "pdm6Zpr_9fhH"
      }
    },
    {
      "cell_type": "code",
      "source": [
        "url = \"https://en.wikipedia.org/wiki/Data_analysis\""
      ],
      "metadata": {
        "id": "FXqtdrEu9acV"
      },
      "execution_count": null,
      "outputs": []
    },
    {
      "cell_type": "code",
      "source": [
        "data= requests.get(url).text"
      ],
      "metadata": {
        "id": "2pXDyfcG_0e2"
      },
      "execution_count": null,
      "outputs": []
    },
    {
      "cell_type": "code",
      "source": [
        "soup= BeautifulSoup(data, \"html5lib\")"
      ],
      "metadata": {
        "id": "DQpzFzx7_66h"
      },
      "execution_count": null,
      "outputs": []
    },
    {
      "cell_type": "code",
      "source": [],
      "metadata": {
        "id": "ZFaNRanoAG5t"
      },
      "execution_count": null,
      "outputs": []
    },
    {
      "cell_type": "code",
      "source": [
        "for link in soup.find_all('img'):# in html <img> --> image\n",
        "    print(link)\n",
        "    print(link.get('src'))"
      ],
      "metadata": {
        "colab": {
          "base_uri": "https://localhost:8080/"
        },
        "id": "z9EVaHRXAsfC",
        "outputId": "412add51-3394-47b8-a40e-fe9c66f05f72"
      },
      "execution_count": null,
      "outputs": [
        {
          "output_type": "stream",
          "name": "stdout",
          "text": [
            "<img alt=\"\" aria-hidden=\"true\" class=\"mw-logo-icon\" height=\"50\" src=\"/static/images/icons/wikipedia.png\" width=\"50\"/>\n",
            "/static/images/icons/wikipedia.png\n",
            "<img alt=\"Wikipedia\" class=\"mw-logo-wordmark\" src=\"/static/images/mobile/copyright/wikipedia-wordmark-en.svg\" style=\"width: 7.5em; height: 1.125em;\"/>\n",
            "/static/images/mobile/copyright/wikipedia-wordmark-en.svg\n",
            "<img alt=\"The Free Encyclopedia\" class=\"mw-logo-tagline\" height=\"13\" src=\"/static/images/mobile/copyright/wikipedia-tagline-en.svg\" style=\"width: 7.3125em; height: 0.8125em;\" width=\"117\"/>\n",
            "/static/images/mobile/copyright/wikipedia-tagline-en.svg\n",
            "<img class=\"mw-file-element\" data-file-height=\"500\" data-file-width=\"500\" decoding=\"async\" height=\"220\" src=\"//upload.wikimedia.org/wikipedia/commons/thumb/5/54/Rayleigh-Taylor_instability.jpg/220px-Rayleigh-Taylor_instability.jpg\" srcset=\"//upload.wikimedia.org/wikipedia/commons/thumb/5/54/Rayleigh-Taylor_instability.jpg/330px-Rayleigh-Taylor_instability.jpg 1.5x, //upload.wikimedia.org/wikipedia/commons/thumb/5/54/Rayleigh-Taylor_instability.jpg/440px-Rayleigh-Taylor_instability.jpg 2x\" width=\"220\"/>\n",
            "//upload.wikimedia.org/wikipedia/commons/thumb/5/54/Rayleigh-Taylor_instability.jpg/220px-Rayleigh-Taylor_instability.jpg\n",
            "<img class=\"mw-file-element\" data-file-height=\"720\" data-file-width=\"960\" decoding=\"async\" height=\"263\" src=\"//upload.wikimedia.org/wikipedia/commons/thumb/b/ba/Data_visualization_process_v1.png/350px-Data_visualization_process_v1.png\" srcset=\"//upload.wikimedia.org/wikipedia/commons/thumb/b/ba/Data_visualization_process_v1.png/525px-Data_visualization_process_v1.png 1.5x, //upload.wikimedia.org/wikipedia/commons/thumb/b/ba/Data_visualization_process_v1.png/700px-Data_visualization_process_v1.png 2x\" width=\"350\"/>\n",
            "//upload.wikimedia.org/wikipedia/commons/thumb/b/ba/Data_visualization_process_v1.png/350px-Data_visualization_process_v1.png\n",
            "<img class=\"mw-file-element\" data-file-height=\"720\" data-file-width=\"960\" decoding=\"async\" height=\"263\" src=\"//upload.wikimedia.org/wikipedia/commons/thumb/e/ee/Relationship_of_data%2C_information_and_intelligence.png/350px-Relationship_of_data%2C_information_and_intelligence.png\" srcset=\"//upload.wikimedia.org/wikipedia/commons/thumb/e/ee/Relationship_of_data%2C_information_and_intelligence.png/525px-Relationship_of_data%2C_information_and_intelligence.png 1.5x, //upload.wikimedia.org/wikipedia/commons/thumb/e/ee/Relationship_of_data%2C_information_and_intelligence.png/700px-Relationship_of_data%2C_information_and_intelligence.png 2x\" width=\"350\"/>\n",
            "//upload.wikimedia.org/wikipedia/commons/thumb/e/ee/Relationship_of_data%2C_information_and_intelligence.png/350px-Relationship_of_data%2C_information_and_intelligence.png\n",
            "<img class=\"mw-file-element\" data-file-height=\"882\" data-file-width=\"1184\" decoding=\"async\" height=\"186\" src=\"//upload.wikimedia.org/wikipedia/commons/thumb/9/9b/Social_Network_Analysis_Visualization.png/250px-Social_Network_Analysis_Visualization.png\" srcset=\"//upload.wikimedia.org/wikipedia/commons/thumb/9/9b/Social_Network_Analysis_Visualization.png/375px-Social_Network_Analysis_Visualization.png 1.5x, //upload.wikimedia.org/wikipedia/commons/thumb/9/9b/Social_Network_Analysis_Visualization.png/500px-Social_Network_Analysis_Visualization.png 2x\" width=\"250\"/>\n",
            "//upload.wikimedia.org/wikipedia/commons/thumb/9/9b/Social_Network_Analysis_Visualization.png/250px-Social_Network_Analysis_Visualization.png\n",
            "<img class=\"mw-file-element\" data-file-height=\"484\" data-file-width=\"1025\" decoding=\"async\" height=\"118\" src=\"//upload.wikimedia.org/wikipedia/commons/thumb/f/fb/Total_Revenues_and_Outlays_as_Percent_GDP_2013.png/250px-Total_Revenues_and_Outlays_as_Percent_GDP_2013.png\" srcset=\"//upload.wikimedia.org/wikipedia/commons/thumb/f/fb/Total_Revenues_and_Outlays_as_Percent_GDP_2013.png/375px-Total_Revenues_and_Outlays_as_Percent_GDP_2013.png 1.5x, //upload.wikimedia.org/wikipedia/commons/thumb/f/fb/Total_Revenues_and_Outlays_as_Percent_GDP_2013.png/500px-Total_Revenues_and_Outlays_as_Percent_GDP_2013.png 2x\" width=\"250\"/>\n",
            "//upload.wikimedia.org/wikipedia/commons/thumb/f/fb/Total_Revenues_and_Outlays_as_Percent_GDP_2013.png/250px-Total_Revenues_and_Outlays_as_Percent_GDP_2013.png\n",
            "<img class=\"mw-file-element\" data-file-height=\"720\" data-file-width=\"960\" decoding=\"async\" height=\"188\" src=\"//upload.wikimedia.org/wikipedia/commons/thumb/7/7e/U.S._Phillips_Curve_2000_to_2013.png/250px-U.S._Phillips_Curve_2000_to_2013.png\" srcset=\"//upload.wikimedia.org/wikipedia/commons/thumb/7/7e/U.S._Phillips_Curve_2000_to_2013.png/375px-U.S._Phillips_Curve_2000_to_2013.png 1.5x, //upload.wikimedia.org/wikipedia/commons/thumb/7/7e/U.S._Phillips_Curve_2000_to_2013.png/500px-U.S._Phillips_Curve_2000_to_2013.png 2x\" width=\"250\"/>\n",
            "//upload.wikimedia.org/wikipedia/commons/thumb/7/7e/U.S._Phillips_Curve_2000_to_2013.png/250px-U.S._Phillips_Curve_2000_to_2013.png\n",
            "<img class=\"mw-file-element\" data-file-height=\"789\" data-file-width=\"1388\" decoding=\"async\" height=\"142\" src=\"//upload.wikimedia.org/wikipedia/commons/thumb/d/db/US_Employment_Statistics_-_March_2015.png/250px-US_Employment_Statistics_-_March_2015.png\" srcset=\"//upload.wikimedia.org/wikipedia/commons/thumb/d/db/US_Employment_Statistics_-_March_2015.png/375px-US_Employment_Statistics_-_March_2015.png 1.5x, //upload.wikimedia.org/wikipedia/commons/thumb/d/db/US_Employment_Statistics_-_March_2015.png/500px-US_Employment_Statistics_-_March_2015.png 2x\" width=\"250\"/>\n",
            "//upload.wikimedia.org/wikipedia/commons/thumb/d/db/US_Employment_Statistics_-_March_2015.png/250px-US_Employment_Statistics_-_March_2015.png\n",
            "<img class=\"mw-file-element\" data-file-height=\"566\" data-file-width=\"710\" decoding=\"async\" height=\"279\" src=\"//upload.wikimedia.org/wikipedia/commons/thumb/8/80/User-activities.png/350px-User-activities.png\" srcset=\"//upload.wikimedia.org/wikipedia/commons/thumb/8/80/User-activities.png/525px-User-activities.png 1.5x, //upload.wikimedia.org/wikipedia/commons/thumb/8/80/User-activities.png/700px-User-activities.png 2x\" width=\"350\"/>\n",
            "//upload.wikimedia.org/wikipedia/commons/thumb/8/80/User-activities.png/350px-User-activities.png\n",
            "<img alt=\"\" class=\"mw-file-element\" data-file-height=\"512\" data-file-width=\"626\" decoding=\"async\" height=\"33\" src=\"//upload.wikimedia.org/wikipedia/commons/thumb/0/0b/Wikiversity_logo_2017.svg/40px-Wikiversity_logo_2017.svg.png\" srcset=\"//upload.wikimedia.org/wikipedia/commons/thumb/0/0b/Wikiversity_logo_2017.svg/60px-Wikiversity_logo_2017.svg.png 1.5x, //upload.wikimedia.org/wikipedia/commons/thumb/0/0b/Wikiversity_logo_2017.svg/80px-Wikiversity_logo_2017.svg.png 2x\" width=\"40\"/>\n",
            "//upload.wikimedia.org/wikipedia/commons/thumb/0/0b/Wikiversity_logo_2017.svg/40px-Wikiversity_logo_2017.svg.png\n",
            "<img alt=\"Edit this at Wikidata\" class=\"mw-file-element\" data-file-height=\"20\" data-file-width=\"20\" decoding=\"async\" height=\"10\" src=\"//upload.wikimedia.org/wikipedia/en/thumb/8/8a/OOjs_UI_icon_edit-ltr-progressive.svg/10px-OOjs_UI_icon_edit-ltr-progressive.svg.png\" srcset=\"//upload.wikimedia.org/wikipedia/en/thumb/8/8a/OOjs_UI_icon_edit-ltr-progressive.svg/15px-OOjs_UI_icon_edit-ltr-progressive.svg.png 1.5x, //upload.wikimedia.org/wikipedia/en/thumb/8/8a/OOjs_UI_icon_edit-ltr-progressive.svg/20px-OOjs_UI_icon_edit-ltr-progressive.svg.png 2x\" width=\"10\"/>\n",
            "//upload.wikimedia.org/wikipedia/en/thumb/8/8a/OOjs_UI_icon_edit-ltr-progressive.svg/10px-OOjs_UI_icon_edit-ltr-progressive.svg.png\n",
            "<img alt=\"\" height=\"1\" src=\"https://login.wikimedia.org/wiki/Special:CentralAutoLogin/start?useformat=desktop&amp;type=1x1&amp;usesul3=0\" style=\"border: none; position: absolute;\" width=\"1\"/>\n",
            "https://login.wikimedia.org/wiki/Special:CentralAutoLogin/start?useformat=desktop&type=1x1&usesul3=0\n",
            "<img alt=\"Wikimedia Foundation\" height=\"29\" loading=\"lazy\" src=\"/static/images/footer/wikimedia-button.svg\" width=\"84\"/>\n",
            "/static/images/footer/wikimedia-button.svg\n",
            "<img alt=\"Powered by MediaWiki\" height=\"31\" loading=\"lazy\" src=\"/w/resources/assets/poweredby_mediawiki.svg\" width=\"88\"/>\n",
            "/w/resources/assets/poweredby_mediawiki.svg\n"
          ]
        }
      ]
    },
    {
      "cell_type": "code",
      "source": [],
      "metadata": {
        "id": "BoT9AaVuBQtx"
      },
      "execution_count": null,
      "outputs": []
    }
  ]
}