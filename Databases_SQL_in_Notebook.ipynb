{
  "cells": [
    {
      "cell_type": "markdown",
      "metadata": {
        "id": "view-in-github",
        "colab_type": "text"
      },
      "source": [
        "<a href=\"https://colab.research.google.com/github/CO-CO-LAB/Data-Extraction/blob/main/Databases_SQL_in_Notebook.ipynb\" target=\"_parent\"><img src=\"https://colab.research.google.com/assets/colab-badge.svg\" alt=\"Open In Colab\"/></a>"
      ]
    },
    {
      "cell_type": "markdown",
      "source": [
        "### Working with dataset using SQL and Python\n",
        "* Loading datasets into tables in a SQLIte database\n",
        "* Executing SQL queries\n",
        "\n",
        "Solving 10 objectives."
      ],
      "metadata": {
        "id": "983MrFSBtx9i"
      }
    },
    {
      "cell_type": "code",
      "execution_count": null,
      "metadata": {
        "id": "FRNMUjENeCy0"
      },
      "outputs": [],
      "source": [
        "# Store dataset in SQLite database\n",
        "import csv, sqlite3\n",
        "import pandas\n",
        "\n",
        "con = sqlite3.connect(\"RealWorldData.db\")\n",
        "cur = con.cursor()"
      ]
    },
    {
      "cell_type": "code",
      "execution_count": null,
      "metadata": {
        "id": "z4slfx-6fkvm"
      },
      "outputs": [],
      "source": [
        "# importing prettytable to visualize data in a table format\n",
        "import prettytable\n",
        "prettytable.DEFAULT = 'DEFAULT'"
      ]
    },
    {
      "cell_type": "code",
      "source": [
        "# magic sql, loading SQL extension\n",
        "%load_ext sql"
      ],
      "metadata": {
        "id": "Hv-i_x_ZztCy"
      },
      "execution_count": null,
      "outputs": []
    },
    {
      "cell_type": "code",
      "source": [
        "# connecting to the database\n",
        "%sql sqlite:///FinalDB.db"
      ],
      "metadata": {
        "id": "YcLcZXYUzvRe"
      },
      "execution_count": null,
      "outputs": []
    },
    {
      "cell_type": "code",
      "source": [
        "df1= pandas.read_csv(\"https://cf-courses-data.s3.us.cloud-object-storage.appdomain.cloud/IBMDeveloperSkillsNetwork-DB0201EN-SkillsNetwork/labs/FinalModule_Coursera_V5/data/ChicagoCensusData.csv?utm_medium=Exinfluencer&utm_source=Exinfluencer&utm_content=000026UJ&utm_term=10006555&utm_id=NA-SkillsNetwork-Channel-SkillsNetworkCoursesIBMDeveloperSkillsNetworkDB0201ENSkillsNetwork20127838-2021-01-01\")\n",
        "df2= pandas.read_csv(\"https://cf-courses-data.s3.us.cloud-object-storage.appdomain.cloud/IBMDeveloperSkillsNetwork-DB0201EN-SkillsNetwork/labs/FinalModule_Coursera_V5/data/ChicagoPublicSchools.csv?utm_medium=Exinfluencer&utm_source=Exinfluencer&utm_content=000026UJ&utm_term=10006555&utm_id=NA-SkillsNetwork-Channel-SkillsNetworkCoursesIBMDeveloperSkillsNetworkDB0201ENSkillsNetwork20127838-2021-01-01\")\n",
        "df3= pandas.read_csv(\"https://cf-courses-data.s3.us.cloud-object-storage.appdomain.cloud/IBMDeveloperSkillsNetwork-DB0201EN-SkillsNetwork/labs/FinalModule_Coursera_V5/data/ChicagoCrimeData.csv?utm_medium=Exinfluencer&utm_source=Exinfluencer&utm_content=000026UJ&utm_term=10006555&utm_id=NA-SkillsNetwork-Channel-SkillsNetworkCoursesIBMDeveloperSkillsNetworkDB0201ENSkillsNetwork20127838-2021-01-01\")\n",
        "\n",
        "\n",
        "df1.to_sql(\"CENSUS_DATA\", con, if_exists= \"replace\", index=False, method =\"multi\")\n",
        "df2.to_sql(\"CHICAGO_PUBLIC_SCHOOLS\", con, if_exists=\"replace\", index=False, method=\"multi\")\n",
        "df3.to_sql(\"CHICAGO_CRIME_DATA\", con, if_exists=\"replace\", index=False , method= \"multi\")"
      ],
      "metadata": {
        "colab": {
          "base_uri": "https://localhost:8080/"
        },
        "id": "6V3w61RH69zG",
        "outputId": "cc35be70-dfcc-4829-a391-dc13ffde7958"
      },
      "execution_count": null,
      "outputs": [
        {
          "output_type": "execute_result",
          "data": {
            "text/plain": [
              "533"
            ]
          },
          "metadata": {},
          "execution_count": 10
        }
      ]
    },
    {
      "cell_type": "code",
      "source": [
        "con= sqlite3.connect(\"FinalDB.db\")\n",
        "cur = con.cursor()"
      ],
      "metadata": {
        "id": "UdVapvgH83Y2"
      },
      "execution_count": null,
      "outputs": []
    },
    {
      "cell_type": "markdown",
      "source": [
        "1- Finding the total number of crimes recorded in the CRIME table."
      ],
      "metadata": {
        "id": "-fTF6q0a9C0L"
      }
    },
    {
      "cell_type": "code",
      "source": [
        "%sql select Count(*) from CHICAGO_CRIME_DATA;"
      ],
      "metadata": {
        "colab": {
          "base_uri": "https://localhost:8080/",
          "height": 97
        },
        "id": "8cEUWaRM8-nD",
        "outputId": "de0326d7-40a7-44e3-d584-a04e4ea8bdcc"
      },
      "execution_count": null,
      "outputs": [
        {
          "output_type": "stream",
          "name": "stdout",
          "text": [
            " * sqlite:///FinalDB.db\n",
            "Done.\n"
          ]
        },
        {
          "output_type": "execute_result",
          "data": {
            "text/plain": [
              "[(533,)]"
            ],
            "text/html": [
              "<table>\n",
              "    <thead>\n",
              "        <tr>\n",
              "            <th>Count(*)</th>\n",
              "        </tr>\n",
              "    </thead>\n",
              "    <tbody>\n",
              "        <tr>\n",
              "            <td>533</td>\n",
              "        </tr>\n",
              "    </tbody>\n",
              "</table>"
            ]
          },
          "metadata": {},
          "execution_count": 12
        }
      ]
    },
    {
      "cell_type": "markdown",
      "source": [
        "2- List community area names and numbers with per capita income less than 11000."
      ],
      "metadata": {
        "id": "VzQarjRvLpAq"
      }
    },
    {
      "cell_type": "code",
      "source": [
        "%sql select COMMUNITY_AREA_NAME, COMMUNITY_AREA_NUMBER, PER_CAPITA_INCOME from CENSUS_DATA where PER_CAPITA_INCOME<11000;"
      ],
      "metadata": {
        "colab": {
          "base_uri": "https://localhost:8080/",
          "height": 162
        },
        "id": "zwQIS4sO9JZ7",
        "outputId": "acabc6b2-8cd3-457a-f3c7-45b293bc1c1d"
      },
      "execution_count": null,
      "outputs": [
        {
          "output_type": "stream",
          "name": "stdout",
          "text": [
            " * sqlite:///FinalDB.db\n",
            "Done.\n"
          ]
        },
        {
          "output_type": "execute_result",
          "data": {
            "text/plain": [
              "[('West Garfield Park', 26.0, 10934),\n",
              " ('South Lawndale', 30.0, 10402),\n",
              " ('Fuller Park', 37.0, 10432),\n",
              " ('Riverdale', 54.0, 8201)]"
            ],
            "text/html": [
              "<table>\n",
              "    <thead>\n",
              "        <tr>\n",
              "            <th>COMMUNITY_AREA_NAME</th>\n",
              "            <th>COMMUNITY_AREA_NUMBER</th>\n",
              "            <th>PER_CAPITA_INCOME</th>\n",
              "        </tr>\n",
              "    </thead>\n",
              "    <tbody>\n",
              "        <tr>\n",
              "            <td>West Garfield Park</td>\n",
              "            <td>26.0</td>\n",
              "            <td>10934</td>\n",
              "        </tr>\n",
              "        <tr>\n",
              "            <td>South Lawndale</td>\n",
              "            <td>30.0</td>\n",
              "            <td>10402</td>\n",
              "        </tr>\n",
              "        <tr>\n",
              "            <td>Fuller Park</td>\n",
              "            <td>37.0</td>\n",
              "            <td>10432</td>\n",
              "        </tr>\n",
              "        <tr>\n",
              "            <td>Riverdale</td>\n",
              "            <td>54.0</td>\n",
              "            <td>8201</td>\n",
              "        </tr>\n",
              "    </tbody>\n",
              "</table>"
            ]
          },
          "metadata": {},
          "execution_count": 13
        }
      ]
    },
    {
      "cell_type": "markdown",
      "source": [
        "3- List all case numbers for crimes involving minors?(children are not considered minors for the purposes of crime analysis)¶"
      ],
      "metadata": {
        "id": "VB_RdBpsMDMM"
      }
    },
    {
      "cell_type": "code",
      "source": [
        "%sql select case_number from CHICAGO_CRIME_DATA where DESCRIPTION like '%minor%'"
      ],
      "metadata": {
        "colab": {
          "base_uri": "https://localhost:8080/",
          "height": 119
        },
        "id": "PsAU6EltL_O5",
        "outputId": "df6d276c-71bc-47ed-ac7a-22a200dec539"
      },
      "execution_count": null,
      "outputs": [
        {
          "output_type": "stream",
          "name": "stdout",
          "text": [
            " * sqlite:///FinalDB.db\n",
            "Done.\n"
          ]
        },
        {
          "output_type": "execute_result",
          "data": {
            "text/plain": [
              "[('HL266884',), ('HK238408',)]"
            ],
            "text/html": [
              "<table>\n",
              "    <thead>\n",
              "        <tr>\n",
              "            <th>CASE_NUMBER</th>\n",
              "        </tr>\n",
              "    </thead>\n",
              "    <tbody>\n",
              "        <tr>\n",
              "            <td>HL266884</td>\n",
              "        </tr>\n",
              "        <tr>\n",
              "            <td>HK238408</td>\n",
              "        </tr>\n",
              "    </tbody>\n",
              "</table>"
            ]
          },
          "metadata": {},
          "execution_count": 14
        }
      ]
    },
    {
      "cell_type": "markdown",
      "source": [
        "4- List all kidnapping crimes involving a child?¶"
      ],
      "metadata": {
        "id": "9hxNL0xfMJXZ"
      }
    },
    {
      "cell_type": "code",
      "source": [
        "%sql select * FROM CHICAGO_CRIME_DATA WHERE PRIMARY_TYPE= \"KIDNAPPING\";"
      ],
      "metadata": {
        "colab": {
          "base_uri": "https://localhost:8080/",
          "height": 170
        },
        "id": "XDYhGGG7MG-R",
        "outputId": "b808cea5-7623-4f46-f5ff-822ef784e60f"
      },
      "execution_count": null,
      "outputs": [
        {
          "output_type": "stream",
          "name": "stdout",
          "text": [
            " * sqlite:///FinalDB.db\n",
            "Done.\n"
          ]
        },
        {
          "output_type": "execute_result",
          "data": {
            "text/plain": [
              "[(5276766, 'HN144152', '2007-01-26', '050XX W VAN BUREN ST', '1792', 'KIDNAPPING', 'CHILD ABDUCTION/STRANGER', 'STREET', 0, 0, 1533, 15, 29.0, 25.0, '20', 1143050.0, 1897546.0, 2007, 41.87490841, -87.75024931, '(41.874908413, -87.750249307)')]"
            ],
            "text/html": [
              "<table>\n",
              "    <thead>\n",
              "        <tr>\n",
              "            <th>ID</th>\n",
              "            <th>CASE_NUMBER</th>\n",
              "            <th>DATE</th>\n",
              "            <th>BLOCK</th>\n",
              "            <th>IUCR</th>\n",
              "            <th>PRIMARY_TYPE</th>\n",
              "            <th>DESCRIPTION</th>\n",
              "            <th>LOCATION_DESCRIPTION</th>\n",
              "            <th>ARREST</th>\n",
              "            <th>DOMESTIC</th>\n",
              "            <th>BEAT</th>\n",
              "            <th>DISTRICT</th>\n",
              "            <th>WARD</th>\n",
              "            <th>COMMUNITY_AREA_NUMBER</th>\n",
              "            <th>FBICODE</th>\n",
              "            <th>X_COORDINATE</th>\n",
              "            <th>Y_COORDINATE</th>\n",
              "            <th>YEAR</th>\n",
              "            <th>LATITUDE</th>\n",
              "            <th>LONGITUDE</th>\n",
              "            <th>LOCATION</th>\n",
              "        </tr>\n",
              "    </thead>\n",
              "    <tbody>\n",
              "        <tr>\n",
              "            <td>5276766</td>\n",
              "            <td>HN144152</td>\n",
              "            <td>2007-01-26</td>\n",
              "            <td>050XX W VAN BUREN ST</td>\n",
              "            <td>1792</td>\n",
              "            <td>KIDNAPPING</td>\n",
              "            <td>CHILD ABDUCTION/STRANGER</td>\n",
              "            <td>STREET</td>\n",
              "            <td>0</td>\n",
              "            <td>0</td>\n",
              "            <td>1533</td>\n",
              "            <td>15</td>\n",
              "            <td>29.0</td>\n",
              "            <td>25.0</td>\n",
              "            <td>20</td>\n",
              "            <td>1143050.0</td>\n",
              "            <td>1897546.0</td>\n",
              "            <td>2007</td>\n",
              "            <td>41.87490841</td>\n",
              "            <td>-87.75024931</td>\n",
              "            <td>(41.874908413, -87.750249307)</td>\n",
              "        </tr>\n",
              "    </tbody>\n",
              "</table>"
            ]
          },
          "metadata": {},
          "execution_count": 15
        }
      ]
    },
    {
      "cell_type": "markdown",
      "source": [
        "5- List the kind of crimes that were recorded at schools. (No repetitions)"
      ],
      "metadata": {
        "id": "3HlfchS9MPgp"
      }
    },
    {
      "cell_type": "code",
      "source": [
        "%sql SELECT * from CHICAGO_CRIME_DATA where LOCATION_DESCRIPTION like '%SCHOOL%';"
      ],
      "metadata": {
        "colab": {
          "base_uri": "https://localhost:8080/",
          "height": 717
        },
        "id": "vT6myN5EMMQo",
        "outputId": "42cf72c7-6d81-4dd4-efb7-4e8f57b85243"
      },
      "execution_count": null,
      "outputs": [
        {
          "output_type": "stream",
          "name": "stdout",
          "text": [
            " * sqlite:///FinalDB.db\n",
            "Done.\n"
          ]
        },
        {
          "output_type": "execute_result",
          "data": {
            "text/plain": [
              "[(4006321, 'HL353697', '2005-05-04', '077XX S BURNHAM AVE', '460', 'BATTERY', 'SIMPLE', 'SCHOOL, PUBLIC, GROUNDS', 0, 0, 421, 4, 7.0, 43.0, '08B', 1196066.0, 1854156.0, 2005, 41.75469107, -87.55703869, '(41.754691074, -87.557038686)'),\n",
              " (4430638, 'HL725506', '2005-11-09', '048XX N FRANCISCO AVE', '484', 'BATTERY', 'PRO EMP HANDS NO/MIN INJURY', 'SCHOOL, PUBLIC, BUILDING', 1, 0, 2031, 20, 40.0, 4.0, '08B', 1156348.0, 1932071.0, 2005, 41.96938944, -87.70048881, '(41.96938944, -87.700488807)'),\n",
              " (6644618, 'HP716225', '2008-12-04', '030XX S DR MARTIN LUTHER KING JR DR', '460', 'BATTERY', 'SIMPLE', 'SCHOOL, PUBLIC, BUILDING', 0, 0, 2112, 1, 2.0, 35.0, '08B', 1179306.0, 1885032.0, 2008, 41.83981621, -87.61751617, '(41.839816207, -87.617516172)'),\n",
              " (2341955, 'HH639427', '2002-09-10', '005XX N WALLER AVE', '460', 'BATTERY', 'SIMPLE', 'SCHOOL, PUBLIC, BUILDING', 0, 0, 1512, 15, 29.0, 25.0, '08B', 1138238.0, 1903181.0, 2002, 41.89045993, -87.76778089, '(41.890459933, -87.767780886)'),\n",
              " (11110571, 'JA460432', '2017-10-05', '076XX S HOMAN AVE', '460', 'BATTERY', 'SIMPLE', 'SCHOOL, PUBLIC, GROUNDS', 0, 0, 835, 8, 18.0, 70.0, '08B', 1155024.0, 1853614.0, 2017, 41.75412154, -87.70746025, '(41.754121535, -87.707460248)'),\n",
              " (7399281, 'HS200939', '2010-03-10', '053XX W CONGRESS PKWY', '1320', 'CRIMINAL DAMAGE', 'TO VEHICLE', 'SCHOOL, PUBLIC, GROUNDS', 0, 0, 1522, 15, 29.0, 25.0, '14', 1140822.0, 1897164.0, 2010, 41.8739014, -87.7584391, '(41.873901397, -87.758439102)'),\n",
              " (3530721, 'HK577020', '2004-08-23', '016XX W JONQUIL TER', '2024', 'NARCOTICS', 'POSS: HEROIN(WHITE)', 'SCHOOL, PUBLIC, GROUNDS', 1, 0, 2422, 24, 49.0, 1.0, '18', 1163893.0, 1951001.0, 2004, 42.0211776, -87.67220843, '(42.021177601, -87.67220843)'),\n",
              " (7502426, 'HS305355', '2010-05-13', '035XX S WASHTENAW AVE', '1821', 'NARCOTICS', 'MANU/DEL:CANNABIS 10GM OR LESS', 'SCHOOL, PUBLIC, BUILDING', 1, 0, 913, 9, 12.0, 58.0, '18', 1158944.0, 1880896.0, 2010, 41.82890791, -87.69234919, '(41.828907913, -87.692349187)'),\n",
              " (8082600, 'HT315369', '2011-05-26', '032XX W ADAMS ST', '545', 'ASSAULT', 'PRO EMP HANDS NO/MIN INJURY', 'SCHOOL, PUBLIC, GROUNDS', 0, 0, 1124, 11, 28.0, 27.0, '08A', 1154752.0, 1898890.0, 2011, 41.87837031, -87.70724814, '(41.878370307, -87.707248137)'),\n",
              " (7174283, 'HR585012', '2009-10-13', '043XX W 79TH ST', '1330', 'CRIMINAL TRESPASS', 'TO LAND', 'SCHOOL, PUBLIC, GROUNDS', 1, 0, 834, 8, 13.0, 70.0, '26', 1148764.0, 1851854.0, 2009, 41.74941446, -87.7304466, '(41.749414464, -87.730446597)'),\n",
              " (2075734, 'HH292682', '2002-04-05', '016XX W BRYN MAWR AV', '2850', 'PUBLIC PEACE VIOLATION', 'BOMB THREAT', 'SCHOOL, PRIVATE, BUILDING', 0, 0, 2012, 20, None, None, '26', None, None, 2002, None, None, None),\n",
              " (1806896, 'G635735', '2001-10-22', '0000X N HERMITAGE AV', '2850', 'PUBLIC PEACE VIOLATION', 'BOMB THREAT', 'SCHOOL, PUBLIC, BUILDING', 1, 0, 1333, 12, None, None, '26', 1164687.0, 1900646.0, 2001, 41.88298425, -87.67071922, '(41.882984246, -87.670719218)')]"
            ],
            "text/html": [
              "<table>\n",
              "    <thead>\n",
              "        <tr>\n",
              "            <th>ID</th>\n",
              "            <th>CASE_NUMBER</th>\n",
              "            <th>DATE</th>\n",
              "            <th>BLOCK</th>\n",
              "            <th>IUCR</th>\n",
              "            <th>PRIMARY_TYPE</th>\n",
              "            <th>DESCRIPTION</th>\n",
              "            <th>LOCATION_DESCRIPTION</th>\n",
              "            <th>ARREST</th>\n",
              "            <th>DOMESTIC</th>\n",
              "            <th>BEAT</th>\n",
              "            <th>DISTRICT</th>\n",
              "            <th>WARD</th>\n",
              "            <th>COMMUNITY_AREA_NUMBER</th>\n",
              "            <th>FBICODE</th>\n",
              "            <th>X_COORDINATE</th>\n",
              "            <th>Y_COORDINATE</th>\n",
              "            <th>YEAR</th>\n",
              "            <th>LATITUDE</th>\n",
              "            <th>LONGITUDE</th>\n",
              "            <th>LOCATION</th>\n",
              "        </tr>\n",
              "    </thead>\n",
              "    <tbody>\n",
              "        <tr>\n",
              "            <td>4006321</td>\n",
              "            <td>HL353697</td>\n",
              "            <td>2005-05-04</td>\n",
              "            <td>077XX S BURNHAM AVE</td>\n",
              "            <td>460</td>\n",
              "            <td>BATTERY</td>\n",
              "            <td>SIMPLE</td>\n",
              "            <td>SCHOOL, PUBLIC, GROUNDS</td>\n",
              "            <td>0</td>\n",
              "            <td>0</td>\n",
              "            <td>421</td>\n",
              "            <td>4</td>\n",
              "            <td>7.0</td>\n",
              "            <td>43.0</td>\n",
              "            <td>08B</td>\n",
              "            <td>1196066.0</td>\n",
              "            <td>1854156.0</td>\n",
              "            <td>2005</td>\n",
              "            <td>41.75469107</td>\n",
              "            <td>-87.55703869</td>\n",
              "            <td>(41.754691074, -87.557038686)</td>\n",
              "        </tr>\n",
              "        <tr>\n",
              "            <td>4430638</td>\n",
              "            <td>HL725506</td>\n",
              "            <td>2005-11-09</td>\n",
              "            <td>048XX N FRANCISCO AVE</td>\n",
              "            <td>484</td>\n",
              "            <td>BATTERY</td>\n",
              "            <td>PRO EMP HANDS NO/MIN INJURY</td>\n",
              "            <td>SCHOOL, PUBLIC, BUILDING</td>\n",
              "            <td>1</td>\n",
              "            <td>0</td>\n",
              "            <td>2031</td>\n",
              "            <td>20</td>\n",
              "            <td>40.0</td>\n",
              "            <td>4.0</td>\n",
              "            <td>08B</td>\n",
              "            <td>1156348.0</td>\n",
              "            <td>1932071.0</td>\n",
              "            <td>2005</td>\n",
              "            <td>41.96938944</td>\n",
              "            <td>-87.70048881</td>\n",
              "            <td>(41.96938944, -87.700488807)</td>\n",
              "        </tr>\n",
              "        <tr>\n",
              "            <td>6644618</td>\n",
              "            <td>HP716225</td>\n",
              "            <td>2008-12-04</td>\n",
              "            <td>030XX S DR MARTIN LUTHER KING JR DR</td>\n",
              "            <td>460</td>\n",
              "            <td>BATTERY</td>\n",
              "            <td>SIMPLE</td>\n",
              "            <td>SCHOOL, PUBLIC, BUILDING</td>\n",
              "            <td>0</td>\n",
              "            <td>0</td>\n",
              "            <td>2112</td>\n",
              "            <td>1</td>\n",
              "            <td>2.0</td>\n",
              "            <td>35.0</td>\n",
              "            <td>08B</td>\n",
              "            <td>1179306.0</td>\n",
              "            <td>1885032.0</td>\n",
              "            <td>2008</td>\n",
              "            <td>41.83981621</td>\n",
              "            <td>-87.61751617</td>\n",
              "            <td>(41.839816207, -87.617516172)</td>\n",
              "        </tr>\n",
              "        <tr>\n",
              "            <td>2341955</td>\n",
              "            <td>HH639427</td>\n",
              "            <td>2002-09-10</td>\n",
              "            <td>005XX N WALLER AVE</td>\n",
              "            <td>460</td>\n",
              "            <td>BATTERY</td>\n",
              "            <td>SIMPLE</td>\n",
              "            <td>SCHOOL, PUBLIC, BUILDING</td>\n",
              "            <td>0</td>\n",
              "            <td>0</td>\n",
              "            <td>1512</td>\n",
              "            <td>15</td>\n",
              "            <td>29.0</td>\n",
              "            <td>25.0</td>\n",
              "            <td>08B</td>\n",
              "            <td>1138238.0</td>\n",
              "            <td>1903181.0</td>\n",
              "            <td>2002</td>\n",
              "            <td>41.89045993</td>\n",
              "            <td>-87.76778089</td>\n",
              "            <td>(41.890459933, -87.767780886)</td>\n",
              "        </tr>\n",
              "        <tr>\n",
              "            <td>11110571</td>\n",
              "            <td>JA460432</td>\n",
              "            <td>2017-10-05</td>\n",
              "            <td>076XX S HOMAN AVE</td>\n",
              "            <td>460</td>\n",
              "            <td>BATTERY</td>\n",
              "            <td>SIMPLE</td>\n",
              "            <td>SCHOOL, PUBLIC, GROUNDS</td>\n",
              "            <td>0</td>\n",
              "            <td>0</td>\n",
              "            <td>835</td>\n",
              "            <td>8</td>\n",
              "            <td>18.0</td>\n",
              "            <td>70.0</td>\n",
              "            <td>08B</td>\n",
              "            <td>1155024.0</td>\n",
              "            <td>1853614.0</td>\n",
              "            <td>2017</td>\n",
              "            <td>41.75412154</td>\n",
              "            <td>-87.70746025</td>\n",
              "            <td>(41.754121535, -87.707460248)</td>\n",
              "        </tr>\n",
              "        <tr>\n",
              "            <td>7399281</td>\n",
              "            <td>HS200939</td>\n",
              "            <td>2010-03-10</td>\n",
              "            <td>053XX W CONGRESS PKWY</td>\n",
              "            <td>1320</td>\n",
              "            <td>CRIMINAL DAMAGE</td>\n",
              "            <td>TO VEHICLE</td>\n",
              "            <td>SCHOOL, PUBLIC, GROUNDS</td>\n",
              "            <td>0</td>\n",
              "            <td>0</td>\n",
              "            <td>1522</td>\n",
              "            <td>15</td>\n",
              "            <td>29.0</td>\n",
              "            <td>25.0</td>\n",
              "            <td>14</td>\n",
              "            <td>1140822.0</td>\n",
              "            <td>1897164.0</td>\n",
              "            <td>2010</td>\n",
              "            <td>41.8739014</td>\n",
              "            <td>-87.7584391</td>\n",
              "            <td>(41.873901397, -87.758439102)</td>\n",
              "        </tr>\n",
              "        <tr>\n",
              "            <td>3530721</td>\n",
              "            <td>HK577020</td>\n",
              "            <td>2004-08-23</td>\n",
              "            <td>016XX W JONQUIL TER</td>\n",
              "            <td>2024</td>\n",
              "            <td>NARCOTICS</td>\n",
              "            <td>POSS: HEROIN(WHITE)</td>\n",
              "            <td>SCHOOL, PUBLIC, GROUNDS</td>\n",
              "            <td>1</td>\n",
              "            <td>0</td>\n",
              "            <td>2422</td>\n",
              "            <td>24</td>\n",
              "            <td>49.0</td>\n",
              "            <td>1.0</td>\n",
              "            <td>18</td>\n",
              "            <td>1163893.0</td>\n",
              "            <td>1951001.0</td>\n",
              "            <td>2004</td>\n",
              "            <td>42.0211776</td>\n",
              "            <td>-87.67220843</td>\n",
              "            <td>(42.021177601, -87.67220843)</td>\n",
              "        </tr>\n",
              "        <tr>\n",
              "            <td>7502426</td>\n",
              "            <td>HS305355</td>\n",
              "            <td>2010-05-13</td>\n",
              "            <td>035XX S WASHTENAW AVE</td>\n",
              "            <td>1821</td>\n",
              "            <td>NARCOTICS</td>\n",
              "            <td>MANU/DEL:CANNABIS 10GM OR LESS</td>\n",
              "            <td>SCHOOL, PUBLIC, BUILDING</td>\n",
              "            <td>1</td>\n",
              "            <td>0</td>\n",
              "            <td>913</td>\n",
              "            <td>9</td>\n",
              "            <td>12.0</td>\n",
              "            <td>58.0</td>\n",
              "            <td>18</td>\n",
              "            <td>1158944.0</td>\n",
              "            <td>1880896.0</td>\n",
              "            <td>2010</td>\n",
              "            <td>41.82890791</td>\n",
              "            <td>-87.69234919</td>\n",
              "            <td>(41.828907913, -87.692349187)</td>\n",
              "        </tr>\n",
              "        <tr>\n",
              "            <td>8082600</td>\n",
              "            <td>HT315369</td>\n",
              "            <td>2011-05-26</td>\n",
              "            <td>032XX W ADAMS ST</td>\n",
              "            <td>545</td>\n",
              "            <td>ASSAULT</td>\n",
              "            <td>PRO EMP HANDS NO/MIN INJURY</td>\n",
              "            <td>SCHOOL, PUBLIC, GROUNDS</td>\n",
              "            <td>0</td>\n",
              "            <td>0</td>\n",
              "            <td>1124</td>\n",
              "            <td>11</td>\n",
              "            <td>28.0</td>\n",
              "            <td>27.0</td>\n",
              "            <td>08A</td>\n",
              "            <td>1154752.0</td>\n",
              "            <td>1898890.0</td>\n",
              "            <td>2011</td>\n",
              "            <td>41.87837031</td>\n",
              "            <td>-87.70724814</td>\n",
              "            <td>(41.878370307, -87.707248137)</td>\n",
              "        </tr>\n",
              "        <tr>\n",
              "            <td>7174283</td>\n",
              "            <td>HR585012</td>\n",
              "            <td>2009-10-13</td>\n",
              "            <td>043XX W 79TH ST</td>\n",
              "            <td>1330</td>\n",
              "            <td>CRIMINAL TRESPASS</td>\n",
              "            <td>TO LAND</td>\n",
              "            <td>SCHOOL, PUBLIC, GROUNDS</td>\n",
              "            <td>1</td>\n",
              "            <td>0</td>\n",
              "            <td>834</td>\n",
              "            <td>8</td>\n",
              "            <td>13.0</td>\n",
              "            <td>70.0</td>\n",
              "            <td>26</td>\n",
              "            <td>1148764.0</td>\n",
              "            <td>1851854.0</td>\n",
              "            <td>2009</td>\n",
              "            <td>41.74941446</td>\n",
              "            <td>-87.7304466</td>\n",
              "            <td>(41.749414464, -87.730446597)</td>\n",
              "        </tr>\n",
              "        <tr>\n",
              "            <td>2075734</td>\n",
              "            <td>HH292682</td>\n",
              "            <td>2002-04-05</td>\n",
              "            <td>016XX W BRYN MAWR AV</td>\n",
              "            <td>2850</td>\n",
              "            <td>PUBLIC PEACE VIOLATION</td>\n",
              "            <td>BOMB THREAT</td>\n",
              "            <td>SCHOOL, PRIVATE, BUILDING</td>\n",
              "            <td>0</td>\n",
              "            <td>0</td>\n",
              "            <td>2012</td>\n",
              "            <td>20</td>\n",
              "            <td>None</td>\n",
              "            <td>None</td>\n",
              "            <td>26</td>\n",
              "            <td>None</td>\n",
              "            <td>None</td>\n",
              "            <td>2002</td>\n",
              "            <td>None</td>\n",
              "            <td>None</td>\n",
              "            <td>None</td>\n",
              "        </tr>\n",
              "        <tr>\n",
              "            <td>1806896</td>\n",
              "            <td>G635735</td>\n",
              "            <td>2001-10-22</td>\n",
              "            <td>0000X N HERMITAGE AV</td>\n",
              "            <td>2850</td>\n",
              "            <td>PUBLIC PEACE VIOLATION</td>\n",
              "            <td>BOMB THREAT</td>\n",
              "            <td>SCHOOL, PUBLIC, BUILDING</td>\n",
              "            <td>1</td>\n",
              "            <td>0</td>\n",
              "            <td>1333</td>\n",
              "            <td>12</td>\n",
              "            <td>None</td>\n",
              "            <td>None</td>\n",
              "            <td>26</td>\n",
              "            <td>1164687.0</td>\n",
              "            <td>1900646.0</td>\n",
              "            <td>2001</td>\n",
              "            <td>41.88298425</td>\n",
              "            <td>-87.67071922</td>\n",
              "            <td>(41.882984246, -87.670719218)</td>\n",
              "        </tr>\n",
              "    </tbody>\n",
              "</table>"
            ]
          },
          "metadata": {},
          "execution_count": 16
        }
      ]
    },
    {
      "cell_type": "markdown",
      "source": [
        "6- List the type of schools along with the average safety score for each type."
      ],
      "metadata": {
        "id": "bcABJzErMXKz"
      }
    },
    {
      "cell_type": "code",
      "source": [
        "%sql select \"Elementary, Middle, or High School\", ROUND(AVG(SAFETY_SCORE),2) AS avg_safety_score from CHICAGO_PUBLIC_SCHOOLS \\\n",
        "    GROUP BY \"Elementary, Middle, or High School\";"
      ],
      "metadata": {
        "colab": {
          "base_uri": "https://localhost:8080/",
          "height": 140
        },
        "id": "MPwCAitqMTAn",
        "outputId": "1fe4dc68-0991-4b6f-e546-a6afa78984de"
      },
      "execution_count": null,
      "outputs": [
        {
          "output_type": "stream",
          "name": "stdout",
          "text": [
            " * sqlite:///FinalDB.db\n",
            "Done.\n"
          ]
        },
        {
          "output_type": "execute_result",
          "data": {
            "text/plain": [
              "[('ES', 49.52), ('HS', 49.62), ('MS', 48.0)]"
            ],
            "text/html": [
              "<table>\n",
              "    <thead>\n",
              "        <tr>\n",
              "            <th>Elementary, Middle, or High School</th>\n",
              "            <th>avg_safety_score</th>\n",
              "        </tr>\n",
              "    </thead>\n",
              "    <tbody>\n",
              "        <tr>\n",
              "            <td>ES</td>\n",
              "            <td>49.52</td>\n",
              "        </tr>\n",
              "        <tr>\n",
              "            <td>HS</td>\n",
              "            <td>49.62</td>\n",
              "        </tr>\n",
              "        <tr>\n",
              "            <td>MS</td>\n",
              "            <td>48.0</td>\n",
              "        </tr>\n",
              "    </tbody>\n",
              "</table>"
            ]
          },
          "metadata": {},
          "execution_count": 17
        }
      ]
    },
    {
      "cell_type": "markdown",
      "source": [
        "7- List 5 community areas with highest % of households below poverty line¶"
      ],
      "metadata": {
        "id": "_D-gMus4Mfsz"
      }
    },
    {
      "cell_type": "code",
      "source": [
        "%sql select COMMUNITY_AREA_NAME,PERCENT_HOUSEHOLDS_BELOW_POVERTY  \\\n",
        "from CENSUS_DATA order by PERCENT_HOUSEHOLDS_BELOW_POVERTY desc limit 5;"
      ],
      "metadata": {
        "colab": {
          "base_uri": "https://localhost:8080/",
          "height": 183
        },
        "id": "DzrjIucgMcmI",
        "outputId": "373c05c2-aec2-4906-809f-0a1cc29f38db"
      },
      "execution_count": null,
      "outputs": [
        {
          "output_type": "stream",
          "name": "stdout",
          "text": [
            " * sqlite:///FinalDB.db\n",
            "Done.\n"
          ]
        },
        {
          "output_type": "execute_result",
          "data": {
            "text/plain": [
              "[('Riverdale', 56.5),\n",
              " ('Fuller Park', 51.2),\n",
              " ('Englewood', 46.6),\n",
              " ('North Lawndale', 43.1),\n",
              " ('East Garfield Park', 42.4)]"
            ],
            "text/html": [
              "<table>\n",
              "    <thead>\n",
              "        <tr>\n",
              "            <th>COMMUNITY_AREA_NAME</th>\n",
              "            <th>PERCENT_HOUSEHOLDS_BELOW_POVERTY</th>\n",
              "        </tr>\n",
              "    </thead>\n",
              "    <tbody>\n",
              "        <tr>\n",
              "            <td>Riverdale</td>\n",
              "            <td>56.5</td>\n",
              "        </tr>\n",
              "        <tr>\n",
              "            <td>Fuller Park</td>\n",
              "            <td>51.2</td>\n",
              "        </tr>\n",
              "        <tr>\n",
              "            <td>Englewood</td>\n",
              "            <td>46.6</td>\n",
              "        </tr>\n",
              "        <tr>\n",
              "            <td>North Lawndale</td>\n",
              "            <td>43.1</td>\n",
              "        </tr>\n",
              "        <tr>\n",
              "            <td>East Garfield Park</td>\n",
              "            <td>42.4</td>\n",
              "        </tr>\n",
              "    </tbody>\n",
              "</table>"
            ]
          },
          "metadata": {},
          "execution_count": 25
        }
      ]
    },
    {
      "cell_type": "markdown",
      "source": [
        "8- Which community area is most crime prone? Display the coumminty area number only.\n"
      ],
      "metadata": {
        "id": "IEEeyYkqMlBb"
      }
    },
    {
      "cell_type": "code",
      "source": [
        "%sql SELECT COMMUNITY_AREA_NUMBER FROM (SELECT COMMUNITY_AREA_NUMBER, count(*) \\\n",
        "AS COUNTI FROM CHICAGO_CRIME_DATA group by COMMUNITY_AREA_NUMBER HAVING \\\n",
        "COMMUNITY_AREA_NUMBER!= 'NONE') ORDER BY COUNTI DESC LIMIT 1;"
      ],
      "metadata": {
        "colab": {
          "base_uri": "https://localhost:8080/",
          "height": 97
        },
        "id": "qKPOSRdyMiop",
        "outputId": "3190a9ea-b68c-4c4c-f36d-ff9ddd6eb3f6"
      },
      "execution_count": null,
      "outputs": [
        {
          "output_type": "stream",
          "name": "stdout",
          "text": [
            " * sqlite:///FinalDB.db\n",
            "Done.\n"
          ]
        },
        {
          "output_type": "execute_result",
          "data": {
            "text/plain": [
              "[(25.0,)]"
            ],
            "text/html": [
              "<table>\n",
              "    <thead>\n",
              "        <tr>\n",
              "            <th>COMMUNITY_AREA_NUMBER</th>\n",
              "        </tr>\n",
              "    </thead>\n",
              "    <tbody>\n",
              "        <tr>\n",
              "            <td>25.0</td>\n",
              "        </tr>\n",
              "    </tbody>\n",
              "</table>"
            ]
          },
          "metadata": {},
          "execution_count": 24
        }
      ]
    },
    {
      "cell_type": "markdown",
      "source": [
        "9- Use a sub-query to find the name of the community area with highest hardship index"
      ],
      "metadata": {
        "id": "6edXjmZ5MsBl"
      }
    },
    {
      "cell_type": "code",
      "source": [
        "%sql select COMMUNITY_AREA_NAME from CENSUS_DATA where HARDSHIP_INDEX in (select max(HARDSHIP_INDEX) from CENSUS_DATA);"
      ],
      "metadata": {
        "colab": {
          "base_uri": "https://localhost:8080/",
          "height": 97
        },
        "id": "kG2QablkMouo",
        "outputId": "2e838c54-1aef-44db-890d-64036a5a644b"
      },
      "execution_count": null,
      "outputs": [
        {
          "output_type": "stream",
          "name": "stdout",
          "text": [
            " * sqlite:///FinalDB.db\n",
            "Done.\n"
          ]
        },
        {
          "output_type": "execute_result",
          "data": {
            "text/plain": [
              "[('Riverdale',)]"
            ],
            "text/html": [
              "<table>\n",
              "    <thead>\n",
              "        <tr>\n",
              "            <th>COMMUNITY_AREA_NAME</th>\n",
              "        </tr>\n",
              "    </thead>\n",
              "    <tbody>\n",
              "        <tr>\n",
              "            <td>Riverdale</td>\n",
              "        </tr>\n",
              "    </tbody>\n",
              "</table>"
            ]
          },
          "metadata": {},
          "execution_count": 20
        }
      ]
    },
    {
      "cell_type": "markdown",
      "source": [
        "10- Use a sub-query to determine the Community Area Name with most number of crimes?\n",
        "Selection deleted\n"
      ],
      "metadata": {
        "id": "8n8nao53Mycm"
      }
    },
    {
      "cell_type": "code",
      "source": [
        "%sql SELECT distinct(COMMUNITY_AREA_NAME) FROM CENSUS_DATA CD \\\n",
        "JOIN CHICAGO_CRIME_DATA CCD ON CD.COMMUNITY_AREA_NUMBER=CCD.COMMUNITY_AREA_NUMBER where \\\n",
        "CD.COMMUNITY_AREA_NUMBER IN (SELECT COMMUNITY_AREA_NUMBER FROM \\\n",
        " (SELECT COMMUNITY_AREA_NUMBER, count(*) AS COUNTI FROM CHICAGO_CRIME_DATA group by COMMUNITY_AREA_NUMBER HAVING \\\n",
        "  COMMUNITY_AREA_NUMBER!= 'NONE') ORDER BY COUNTI DESC LIMIT 1)\n"
      ],
      "metadata": {
        "colab": {
          "base_uri": "https://localhost:8080/",
          "height": 97
        },
        "id": "sHeqiLX-MvtM",
        "outputId": "1857d6eb-a26a-472d-b1a8-90917e259fa3"
      },
      "execution_count": null,
      "outputs": [
        {
          "output_type": "stream",
          "name": "stdout",
          "text": [
            " * sqlite:///FinalDB.db\n",
            "Done.\n"
          ]
        },
        {
          "output_type": "execute_result",
          "data": {
            "text/plain": [
              "[('Austin',)]"
            ],
            "text/html": [
              "<table>\n",
              "    <thead>\n",
              "        <tr>\n",
              "            <th>COMMUNITY_AREA_NAME</th>\n",
              "        </tr>\n",
              "    </thead>\n",
              "    <tbody>\n",
              "        <tr>\n",
              "            <td>Austin</td>\n",
              "        </tr>\n",
              "    </tbody>\n",
              "</table>"
            ]
          },
          "metadata": {},
          "execution_count": 23
        }
      ]
    },
    {
      "cell_type": "code",
      "source": [],
      "metadata": {
        "id": "PkVT-E2NM7w6"
      },
      "execution_count": null,
      "outputs": []
    }
  ],
  "metadata": {
    "colab": {
      "provenance": [],
      "authorship_tag": "ABX9TyMkGDhv3Y0RxOSezgd1sNs9",
      "include_colab_link": true
    },
    "kernelspec": {
      "display_name": "Python 3",
      "name": "python3"
    },
    "language_info": {
      "name": "python"
    }
  },
  "nbformat": 4,
  "nbformat_minor": 0
}